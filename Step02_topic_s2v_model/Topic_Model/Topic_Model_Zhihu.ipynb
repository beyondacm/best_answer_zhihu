{
 "cells": [
  {
   "cell_type": "code",
   "execution_count": 1,
   "metadata": {
    "collapsed": false
   },
   "outputs": [
    {
     "name": "stderr",
     "output_type": "stream",
     "text": [
      "A newer version of GraphLab Create (v1.9) is available! Your current version is v1.8.5.\n",
      "\n",
      "You can use pip to upgrade the graphlab-create package. For more information see https://dato.com/products/create/upgrade.\n"
     ]
    }
   ],
   "source": [
    "import graphlab as gl\n",
    "import os"
   ]
  },
  {
   "cell_type": "code",
   "execution_count": 3,
   "metadata": {
    "collapsed": false
   },
   "outputs": [
    {
     "data": {
      "text/html": [
       "<pre>Finished parsing file /home/zpgao/ML/Best_Answer/Data_Preparing/Zhihu/zh_text_source.csv</pre>"
      ],
      "text/plain": [
       "Finished parsing file /home/zpgao/ML/Best_Answer/Data_Preparing/Zhihu/zh_text_source.csv"
      ]
     },
     "metadata": {},
     "output_type": "display_data"
    },
    {
     "data": {
      "text/html": [
       "<pre>Parsing completed. Parsed 100 lines in 0.869345 secs.</pre>"
      ],
      "text/plain": [
       "Parsing completed. Parsed 100 lines in 0.869345 secs."
      ]
     },
     "metadata": {},
     "output_type": "display_data"
    },
    {
     "data": {
      "text/html": [
       "<pre>Read 91407 lines. Lines per second: 158601</pre>"
      ],
      "text/plain": [
       "Read 91407 lines. Lines per second: 158601"
      ]
     },
     "metadata": {},
     "output_type": "display_data"
    },
    {
     "data": {
      "text/html": [
       "<pre>Finished parsing file /home/zpgao/ML/Best_Answer/Data_Preparing/Zhihu/zh_text_source.csv</pre>"
      ],
      "text/plain": [
       "Finished parsing file /home/zpgao/ML/Best_Answer/Data_Preparing/Zhihu/zh_text_source.csv"
      ]
     },
     "metadata": {},
     "output_type": "display_data"
    },
    {
     "data": {
      "text/html": [
       "<pre>Parsing completed. Parsed 168112 lines in 0.790074 secs.</pre>"
      ],
      "text/plain": [
       "Parsing completed. Parsed 168112 lines in 0.790074 secs."
      ]
     },
     "metadata": {},
     "output_type": "display_data"
    },
    {
     "name": "stdout",
     "output_type": "stream",
     "text": [
      "------------------------------------------------------\n",
      "Inferred types from first line of file as \n",
      "column_type_hints=[str]\n",
      "If parsing fails due to incorrect types, you can correct\n",
      "the inferred type list above and pass it to read_csv in\n",
      "the column_type_hints argument\n",
      "------------------------------------------------------\n"
     ]
    }
   ],
   "source": [
    "docs = docs = gl.SFrame.read_csv('./zh_text_source.csv', header=False)"
   ]
  },
  {
   "cell_type": "code",
   "execution_count": 5,
   "metadata": {
    "collapsed": false
   },
   "outputs": [],
   "source": [
    "# docs"
   ]
  },
  {
   "cell_type": "code",
   "execution_count": 6,
   "metadata": {
    "collapsed": true
   },
   "outputs": [],
   "source": [
    "docs = gl.text_analytics.count_words(docs['X1'])\n",
    "docs = docs.dict_trim_by_keys(gl.text_analytics.stopwords(), exclude=True)"
   ]
  },
  {
   "cell_type": "code",
   "execution_count": 7,
   "metadata": {
    "collapsed": false,
    "scrolled": true
   },
   "outputs": [
    {
     "data": {
      "text/html": [
       "<pre>Learning a topic model</pre>"
      ],
      "text/plain": [
       "Learning a topic model"
      ]
     },
     "metadata": {},
     "output_type": "display_data"
    },
    {
     "data": {
      "text/html": [
       "<pre>       Number of documents    168112</pre>"
      ],
      "text/plain": [
       "       Number of documents    168112"
      ]
     },
     "metadata": {},
     "output_type": "display_data"
    },
    {
     "data": {
      "text/html": [
       "<pre>           Vocabulary size    346212</pre>"
      ],
      "text/plain": [
       "           Vocabulary size    346212"
      ]
     },
     "metadata": {},
     "output_type": "display_data"
    },
    {
     "data": {
      "text/html": [
       "<pre>   Running collapsed Gibbs sampling</pre>"
      ],
      "text/plain": [
       "   Running collapsed Gibbs sampling"
      ]
     },
     "metadata": {},
     "output_type": "display_data"
    },
    {
     "data": {
      "text/html": [
       "<pre>+-----------+---------------+----------------+-----------------+</pre>"
      ],
      "text/plain": [
       "+-----------+---------------+----------------+-----------------+"
      ]
     },
     "metadata": {},
     "output_type": "display_data"
    },
    {
     "data": {
      "text/html": [
       "<pre>| Iteration | Elapsed Time  | Tokens/Second  | Est. Perplexity |</pre>"
      ],
      "text/plain": [
       "| Iteration | Elapsed Time  | Tokens/Second  | Est. Perplexity |"
      ]
     },
     "metadata": {},
     "output_type": "display_data"
    },
    {
     "data": {
      "text/html": [
       "<pre>+-----------+---------------+----------------+-----------------+</pre>"
      ],
      "text/plain": [
       "+-----------+---------------+----------------+-----------------+"
      ]
     },
     "metadata": {},
     "output_type": "display_data"
    },
    {
     "data": {
      "text/html": [
       "<pre>| 10        | 27.56s        | 4.81212e+06    | 0               |</pre>"
      ],
      "text/plain": [
       "| 10        | 27.56s        | 4.81212e+06    | 0               |"
      ]
     },
     "metadata": {},
     "output_type": "display_data"
    },
    {
     "data": {
      "text/html": [
       "<pre>| 20        | 47.86s        | 4.71619e+06    | 0               |</pre>"
      ],
      "text/plain": [
       "| 20        | 47.86s        | 4.71619e+06    | 0               |"
      ]
     },
     "metadata": {},
     "output_type": "display_data"
    },
    {
     "data": {
      "text/html": [
       "<pre>| 30        | 1m 8s         | 4.74422e+06    | 0               |</pre>"
      ],
      "text/plain": [
       "| 30        | 1m 8s         | 4.74422e+06    | 0               |"
      ]
     },
     "metadata": {},
     "output_type": "display_data"
    },
    {
     "data": {
      "text/html": [
       "<pre>| 40        | 1m 28s        | 4.7929e+06     | 0               |</pre>"
      ],
      "text/plain": [
       "| 40        | 1m 28s        | 4.7929e+06     | 0               |"
      ]
     },
     "metadata": {},
     "output_type": "display_data"
    },
    {
     "data": {
      "text/html": [
       "<pre>| 50        | 1m 48s        | 4.73248e+06    | 0               |</pre>"
      ],
      "text/plain": [
       "| 50        | 1m 48s        | 4.73248e+06    | 0               |"
      ]
     },
     "metadata": {},
     "output_type": "display_data"
    },
    {
     "data": {
      "text/html": [
       "<pre>| 60        | 2m 6s         | 5.12982e+06    | 0               |</pre>"
      ],
      "text/plain": [
       "| 60        | 2m 6s         | 5.12982e+06    | 0               |"
      ]
     },
     "metadata": {},
     "output_type": "display_data"
    },
    {
     "data": {
      "text/html": [
       "<pre>| 70        | 2m 24s        | 5.29397e+06    | 0               |</pre>"
      ],
      "text/plain": [
       "| 70        | 2m 24s        | 5.29397e+06    | 0               |"
      ]
     },
     "metadata": {},
     "output_type": "display_data"
    },
    {
     "data": {
      "text/html": [
       "<pre>| 80        | 2m 46s        | 3.76297e+06    | 0               |</pre>"
      ],
      "text/plain": [
       "| 80        | 2m 46s        | 3.76297e+06    | 0               |"
      ]
     },
     "metadata": {},
     "output_type": "display_data"
    },
    {
     "data": {
      "text/html": [
       "<pre>| 90        | 3m 11s        | 4.81902e+06    | 0               |</pre>"
      ],
      "text/plain": [
       "| 90        | 3m 11s        | 4.81902e+06    | 0               |"
      ]
     },
     "metadata": {},
     "output_type": "display_data"
    },
    {
     "data": {
      "text/html": [
       "<pre>| 100       | 3m 32s        | 5.24077e+06    | 0               |</pre>"
      ],
      "text/plain": [
       "| 100       | 3m 32s        | 5.24077e+06    | 0               |"
      ]
     },
     "metadata": {},
     "output_type": "display_data"
    },
    {
     "data": {
      "text/html": [
       "<pre>| 110       | 3m 55s        | 4.77737e+06    | 0               |</pre>"
      ],
      "text/plain": [
       "| 110       | 3m 55s        | 4.77737e+06    | 0               |"
      ]
     },
     "metadata": {},
     "output_type": "display_data"
    },
    {
     "data": {
      "text/html": [
       "<pre>| 120       | 4m 15s        | 4.86098e+06    | 0               |</pre>"
      ],
      "text/plain": [
       "| 120       | 4m 15s        | 4.86098e+06    | 0               |"
      ]
     },
     "metadata": {},
     "output_type": "display_data"
    },
    {
     "data": {
      "text/html": [
       "<pre>| 130       | 4m 35s        | 4.72688e+06    | 0               |</pre>"
      ],
      "text/plain": [
       "| 130       | 4m 35s        | 4.72688e+06    | 0               |"
      ]
     },
     "metadata": {},
     "output_type": "display_data"
    },
    {
     "data": {
      "text/html": [
       "<pre>| 140       | 4m 55s        | 4.74169e+06    | 0               |</pre>"
      ],
      "text/plain": [
       "| 140       | 4m 55s        | 4.74169e+06    | 0               |"
      ]
     },
     "metadata": {},
     "output_type": "display_data"
    },
    {
     "data": {
      "text/html": [
       "<pre>| 150       | 5m 15s        | 4.82758e+06    | 0               |</pre>"
      ],
      "text/plain": [
       "| 150       | 5m 15s        | 4.82758e+06    | 0               |"
      ]
     },
     "metadata": {},
     "output_type": "display_data"
    },
    {
     "data": {
      "text/html": [
       "<pre>| 160       | 5m 33s        | 5.28061e+06    | 0               |</pre>"
      ],
      "text/plain": [
       "| 160       | 5m 33s        | 5.28061e+06    | 0               |"
      ]
     },
     "metadata": {},
     "output_type": "display_data"
    },
    {
     "data": {
      "text/html": [
       "<pre>| 170       | 5m 51s        | 5.30851e+06    | 0               |</pre>"
      ],
      "text/plain": [
       "| 170       | 5m 51s        | 5.30851e+06    | 0               |"
      ]
     },
     "metadata": {},
     "output_type": "display_data"
    },
    {
     "data": {
      "text/html": [
       "<pre>| 180       | 6m 9s         | 5.31711e+06    | 0               |</pre>"
      ],
      "text/plain": [
       "| 180       | 6m 9s         | 5.31711e+06    | 0               |"
      ]
     },
     "metadata": {},
     "output_type": "display_data"
    },
    {
     "data": {
      "text/html": [
       "<pre>| 190       | 6m 27s        | 5.30444e+06    | 0               |</pre>"
      ],
      "text/plain": [
       "| 190       | 6m 27s        | 5.30444e+06    | 0               |"
      ]
     },
     "metadata": {},
     "output_type": "display_data"
    },
    {
     "data": {
      "text/html": [
       "<pre>| 200       | 6m 54s        | 3.4714e+06     | 0               |</pre>"
      ],
      "text/plain": [
       "| 200       | 6m 54s        | 3.4714e+06     | 0               |"
      ]
     },
     "metadata": {},
     "output_type": "display_data"
    },
    {
     "data": {
      "text/html": [
       "<pre>| 210       | 7m 15s        | 4.90382e+06    | 0               |</pre>"
      ],
      "text/plain": [
       "| 210       | 7m 15s        | 4.90382e+06    | 0               |"
      ]
     },
     "metadata": {},
     "output_type": "display_data"
    },
    {
     "data": {
      "text/html": [
       "<pre>| 220       | 7m 35s        | 5.05429e+06    | 0               |</pre>"
      ],
      "text/plain": [
       "| 220       | 7m 35s        | 5.05429e+06    | 0               |"
      ]
     },
     "metadata": {},
     "output_type": "display_data"
    },
    {
     "data": {
      "text/html": [
       "<pre>| 230       | 7m 53s        | 5.00045e+06    | 0               |</pre>"
      ],
      "text/plain": [
       "| 230       | 7m 53s        | 5.00045e+06    | 0               |"
      ]
     },
     "metadata": {},
     "output_type": "display_data"
    },
    {
     "data": {
      "text/html": [
       "<pre>| 240       | 8m 13s        | 4.94928e+06    | 0               |</pre>"
      ],
      "text/plain": [
       "| 240       | 8m 13s        | 4.94928e+06    | 0               |"
      ]
     },
     "metadata": {},
     "output_type": "display_data"
    },
    {
     "data": {
      "text/html": [
       "<pre>| 250       | 8m 33s        | 5.03583e+06    | 0               |</pre>"
      ],
      "text/plain": [
       "| 250       | 8m 33s        | 5.03583e+06    | 0               |"
      ]
     },
     "metadata": {},
     "output_type": "display_data"
    },
    {
     "data": {
      "text/html": [
       "<pre>| 260       | 8m 55s        | 4.34675e+06    | 0               |</pre>"
      ],
      "text/plain": [
       "| 260       | 8m 55s        | 4.34675e+06    | 0               |"
      ]
     },
     "metadata": {},
     "output_type": "display_data"
    },
    {
     "data": {
      "text/html": [
       "<pre>| 270       | 9m 17s        | 4.66351e+06    | 0               |</pre>"
      ],
      "text/plain": [
       "| 270       | 9m 17s        | 4.66351e+06    | 0               |"
      ]
     },
     "metadata": {},
     "output_type": "display_data"
    },
    {
     "data": {
      "text/html": [
       "<pre>| 280       | 9m 36s        | 4.53096e+06    | 0               |</pre>"
      ],
      "text/plain": [
       "| 280       | 9m 36s        | 4.53096e+06    | 0               |"
      ]
     },
     "metadata": {},
     "output_type": "display_data"
    },
    {
     "data": {
      "text/html": [
       "<pre>| 290       | 9m 58s        | 4.96161e+06    | 0               |</pre>"
      ],
      "text/plain": [
       "| 290       | 9m 58s        | 4.96161e+06    | 0               |"
      ]
     },
     "metadata": {},
     "output_type": "display_data"
    },
    {
     "data": {
      "text/html": [
       "<pre>| 300       | 10m 18s       | 3.16873e+06    | 0               |</pre>"
      ],
      "text/plain": [
       "| 300       | 10m 18s       | 3.16873e+06    | 0               |"
      ]
     },
     "metadata": {},
     "output_type": "display_data"
    },
    {
     "data": {
      "text/html": [
       "<pre>| 310       | 10m 48s       | 4.33465e+06    | 0               |</pre>"
      ],
      "text/plain": [
       "| 310       | 10m 48s       | 4.33465e+06    | 0               |"
      ]
     },
     "metadata": {},
     "output_type": "display_data"
    },
    {
     "data": {
      "text/html": [
       "<pre>| 320       | 11m 11s       | 5.42879e+06    | 0               |</pre>"
      ],
      "text/plain": [
       "| 320       | 11m 11s       | 5.42879e+06    | 0               |"
      ]
     },
     "metadata": {},
     "output_type": "display_data"
    },
    {
     "data": {
      "text/html": [
       "<pre>| 330       | 11m 31s       | 2.89636e+06    | 0               |</pre>"
      ],
      "text/plain": [
       "| 330       | 11m 31s       | 2.89636e+06    | 0               |"
      ]
     },
     "metadata": {},
     "output_type": "display_data"
    },
    {
     "data": {
      "text/html": [
       "<pre>| 340       | 11m 52s       | 5.44607e+06    | 0               |</pre>"
      ],
      "text/plain": [
       "| 340       | 11m 52s       | 5.44607e+06    | 0               |"
      ]
     },
     "metadata": {},
     "output_type": "display_data"
    },
    {
     "data": {
      "text/html": [
       "<pre>| 350       | 12m 13s       | 5.06852e+06    | 0               |</pre>"
      ],
      "text/plain": [
       "| 350       | 12m 13s       | 5.06852e+06    | 0               |"
      ]
     },
     "metadata": {},
     "output_type": "display_data"
    },
    {
     "data": {
      "text/html": [
       "<pre>| 360       | 12m 31s       | 5.31473e+06    | 0               |</pre>"
      ],
      "text/plain": [
       "| 360       | 12m 31s       | 5.31473e+06    | 0               |"
      ]
     },
     "metadata": {},
     "output_type": "display_data"
    },
    {
     "data": {
      "text/html": [
       "<pre>| 370       | 12m 53s       | 5.27706e+06    | 0               |</pre>"
      ],
      "text/plain": [
       "| 370       | 12m 53s       | 5.27706e+06    | 0               |"
      ]
     },
     "metadata": {},
     "output_type": "display_data"
    },
    {
     "data": {
      "text/html": [
       "<pre>| 380       | 13m 11s       | 5.38201e+06    | 0               |</pre>"
      ],
      "text/plain": [
       "| 380       | 13m 11s       | 5.38201e+06    | 0               |"
      ]
     },
     "metadata": {},
     "output_type": "display_data"
    },
    {
     "data": {
      "text/html": [
       "<pre>| 390       | 13m 31s       | 5.23878e+06    | 0               |</pre>"
      ],
      "text/plain": [
       "| 390       | 13m 31s       | 5.23878e+06    | 0               |"
      ]
     },
     "metadata": {},
     "output_type": "display_data"
    },
    {
     "data": {
      "text/html": [
       "<pre>| 400       | 13m 49s       | 5.36967e+06    | 0               |</pre>"
      ],
      "text/plain": [
       "| 400       | 13m 49s       | 5.36967e+06    | 0               |"
      ]
     },
     "metadata": {},
     "output_type": "display_data"
    },
    {
     "data": {
      "text/html": [
       "<pre>| 410       | 14m 7s        | 5.42468e+06    | 0               |</pre>"
      ],
      "text/plain": [
       "| 410       | 14m 7s        | 5.42468e+06    | 0               |"
      ]
     },
     "metadata": {},
     "output_type": "display_data"
    },
    {
     "data": {
      "text/html": [
       "<pre>| 420       | 14m 24s       | 5.39735e+06    | 0               |</pre>"
      ],
      "text/plain": [
       "| 420       | 14m 24s       | 5.39735e+06    | 0               |"
      ]
     },
     "metadata": {},
     "output_type": "display_data"
    },
    {
     "data": {
      "text/html": [
       "<pre>| 430       | 14m 44s       | 5.04884e+06    | 0               |</pre>"
      ],
      "text/plain": [
       "| 430       | 14m 44s       | 5.04884e+06    | 0               |"
      ]
     },
     "metadata": {},
     "output_type": "display_data"
    },
    {
     "data": {
      "text/html": [
       "<pre>| 440       | 15m 4s        | 4.7928e+06     | 0               |</pre>"
      ],
      "text/plain": [
       "| 440       | 15m 4s        | 4.7928e+06     | 0               |"
      ]
     },
     "metadata": {},
     "output_type": "display_data"
    },
    {
     "data": {
      "text/html": [
       "<pre>| 450       | 15m 22s       | 4.31059e+06    | 0               |</pre>"
      ],
      "text/plain": [
       "| 450       | 15m 22s       | 4.31059e+06    | 0               |"
      ]
     },
     "metadata": {},
     "output_type": "display_data"
    },
    {
     "data": {
      "text/html": [
       "<pre>| 460       | 15m 43s       | 5.07511e+06    | 0               |</pre>"
      ],
      "text/plain": [
       "| 460       | 15m 43s       | 5.07511e+06    | 0               |"
      ]
     },
     "metadata": {},
     "output_type": "display_data"
    },
    {
     "data": {
      "text/html": [
       "<pre>| 470       | 16m 1s        | 5.36972e+06    | 0               |</pre>"
      ],
      "text/plain": [
       "| 470       | 16m 1s        | 5.36972e+06    | 0               |"
      ]
     },
     "metadata": {},
     "output_type": "display_data"
    },
    {
     "data": {
      "text/html": [
       "<pre>| 480       | 16m 18s       | 5.36847e+06    | 0               |</pre>"
      ],
      "text/plain": [
       "| 480       | 16m 18s       | 5.36847e+06    | 0               |"
      ]
     },
     "metadata": {},
     "output_type": "display_data"
    },
    {
     "data": {
      "text/html": [
       "<pre>| 490       | 16m 36s       | 5.43807e+06    | 0               |</pre>"
      ],
      "text/plain": [
       "| 490       | 16m 36s       | 5.43807e+06    | 0               |"
      ]
     },
     "metadata": {},
     "output_type": "display_data"
    },
    {
     "data": {
      "text/html": [
       "<pre>| 500       | 16m 53s       | 5.47665e+06    | 0               |</pre>"
      ],
      "text/plain": [
       "| 500       | 16m 53s       | 5.47665e+06    | 0               |"
      ]
     },
     "metadata": {},
     "output_type": "display_data"
    },
    {
     "data": {
      "text/html": [
       "<pre>| 510       | 17m 11s       | 5.06317e+06    | 0               |</pre>"
      ],
      "text/plain": [
       "| 510       | 17m 11s       | 5.06317e+06    | 0               |"
      ]
     },
     "metadata": {},
     "output_type": "display_data"
    },
    {
     "data": {
      "text/html": [
       "<pre>| 520       | 17m 30s       | 4.36301e+06    | 0               |</pre>"
      ],
      "text/plain": [
       "| 520       | 17m 30s       | 4.36301e+06    | 0               |"
      ]
     },
     "metadata": {},
     "output_type": "display_data"
    },
    {
     "data": {
      "text/html": [
       "<pre>| 530       | 17m 49s       | 4.91237e+06    | 0               |</pre>"
      ],
      "text/plain": [
       "| 530       | 17m 49s       | 4.91237e+06    | 0               |"
      ]
     },
     "metadata": {},
     "output_type": "display_data"
    },
    {
     "data": {
      "text/html": [
       "<pre>| 540       | 18m 8s        | 5.25894e+06    | 0               |</pre>"
      ],
      "text/plain": [
       "| 540       | 18m 8s        | 5.25894e+06    | 0               |"
      ]
     },
     "metadata": {},
     "output_type": "display_data"
    },
    {
     "data": {
      "text/html": [
       "<pre>| 550       | 18m 26s       | 4.89151e+06    | 0               |</pre>"
      ],
      "text/plain": [
       "| 550       | 18m 26s       | 4.89151e+06    | 0               |"
      ]
     },
     "metadata": {},
     "output_type": "display_data"
    },
    {
     "data": {
      "text/html": [
       "<pre>| 560       | 18m 44s       | 5.1887e+06     | 0               |</pre>"
      ],
      "text/plain": [
       "| 560       | 18m 44s       | 5.1887e+06     | 0               |"
      ]
     },
     "metadata": {},
     "output_type": "display_data"
    },
    {
     "data": {
      "text/html": [
       "<pre>| 570       | 19m 7s        | 5.25048e+06    | 0               |</pre>"
      ],
      "text/plain": [
       "| 570       | 19m 7s        | 5.25048e+06    | 0               |"
      ]
     },
     "metadata": {},
     "output_type": "display_data"
    },
    {
     "data": {
      "text/html": [
       "<pre>| 580       | 19m 25s       | 5.28661e+06    | 0               |</pre>"
      ],
      "text/plain": [
       "| 580       | 19m 25s       | 5.28661e+06    | 0               |"
      ]
     },
     "metadata": {},
     "output_type": "display_data"
    },
    {
     "data": {
      "text/html": [
       "<pre>| 590       | 19m 43s       | 5.32163e+06    | 0               |</pre>"
      ],
      "text/plain": [
       "| 590       | 19m 43s       | 5.32163e+06    | 0               |"
      ]
     },
     "metadata": {},
     "output_type": "display_data"
    },
    {
     "data": {
      "text/html": [
       "<pre>| 600       | 20m 1s        | 4.56791e+06    | 0               |</pre>"
      ],
      "text/plain": [
       "| 600       | 20m 1s        | 4.56791e+06    | 0               |"
      ]
     },
     "metadata": {},
     "output_type": "display_data"
    },
    {
     "data": {
      "text/html": [
       "<pre>| 610       | 20m 20s       | 5.25299e+06    | 0               |</pre>"
      ],
      "text/plain": [
       "| 610       | 20m 20s       | 5.25299e+06    | 0               |"
      ]
     },
     "metadata": {},
     "output_type": "display_data"
    },
    {
     "data": {
      "text/html": [
       "<pre>| 620       | 20m 39s       | 5.22345e+06    | 0               |</pre>"
      ],
      "text/plain": [
       "| 620       | 20m 39s       | 5.22345e+06    | 0               |"
      ]
     },
     "metadata": {},
     "output_type": "display_data"
    },
    {
     "data": {
      "text/html": [
       "<pre>| 630       | 20m 59s       | 5.24835e+06    | 0               |</pre>"
      ],
      "text/plain": [
       "| 630       | 20m 59s       | 5.24835e+06    | 0               |"
      ]
     },
     "metadata": {},
     "output_type": "display_data"
    },
    {
     "data": {
      "text/html": [
       "<pre>| 640       | 21m 17s       | 5.14565e+06    | 0               |</pre>"
      ],
      "text/plain": [
       "| 640       | 21m 17s       | 5.14565e+06    | 0               |"
      ]
     },
     "metadata": {},
     "output_type": "display_data"
    },
    {
     "data": {
      "text/html": [
       "<pre>| 650       | 21m 35s       | 5.27853e+06    | 0               |</pre>"
      ],
      "text/plain": [
       "| 650       | 21m 35s       | 5.27853e+06    | 0               |"
      ]
     },
     "metadata": {},
     "output_type": "display_data"
    },
    {
     "data": {
      "text/html": [
       "<pre>| 660       | 21m 54s       | 5.04228e+06    | 0               |</pre>"
      ],
      "text/plain": [
       "| 660       | 21m 54s       | 5.04228e+06    | 0               |"
      ]
     },
     "metadata": {},
     "output_type": "display_data"
    },
    {
     "data": {
      "text/html": [
       "<pre>| 670       | 22m 12s       | 5.29014e+06    | 0               |</pre>"
      ],
      "text/plain": [
       "| 670       | 22m 12s       | 5.29014e+06    | 0               |"
      ]
     },
     "metadata": {},
     "output_type": "display_data"
    },
    {
     "data": {
      "text/html": [
       "<pre>| 680       | 22m 30s       | 4.83498e+06    | 0               |</pre>"
      ],
      "text/plain": [
       "| 680       | 22m 30s       | 4.83498e+06    | 0               |"
      ]
     },
     "metadata": {},
     "output_type": "display_data"
    },
    {
     "data": {
      "text/html": [
       "<pre>| 690       | 22m 49s       | 5.01729e+06    | 0               |</pre>"
      ],
      "text/plain": [
       "| 690       | 22m 49s       | 5.01729e+06    | 0               |"
      ]
     },
     "metadata": {},
     "output_type": "display_data"
    },
    {
     "data": {
      "text/html": [
       "<pre>| 700       | 23m 7s        | 5.31397e+06    | 0               |</pre>"
      ],
      "text/plain": [
       "| 700       | 23m 7s        | 5.31397e+06    | 0               |"
      ]
     },
     "metadata": {},
     "output_type": "display_data"
    },
    {
     "data": {
      "text/html": [
       "<pre>| 710       | 23m 27s       | 4.72667e+06    | 0               |</pre>"
      ],
      "text/plain": [
       "| 710       | 23m 27s       | 4.72667e+06    | 0               |"
      ]
     },
     "metadata": {},
     "output_type": "display_data"
    },
    {
     "data": {
      "text/html": [
       "<pre>| 720       | 23m 47s       | 4.94608e+06    | 0               |</pre>"
      ],
      "text/plain": [
       "| 720       | 23m 47s       | 4.94608e+06    | 0               |"
      ]
     },
     "metadata": {},
     "output_type": "display_data"
    },
    {
     "data": {
      "text/html": [
       "<pre>| 730       | 24m 6s        | 5.05476e+06    | 0               |</pre>"
      ],
      "text/plain": [
       "| 730       | 24m 6s        | 5.05476e+06    | 0               |"
      ]
     },
     "metadata": {},
     "output_type": "display_data"
    },
    {
     "data": {
      "text/html": [
       "<pre>| 740       | 24m 25s       | 5.05725e+06    | 0               |</pre>"
      ],
      "text/plain": [
       "| 740       | 24m 25s       | 5.05725e+06    | 0               |"
      ]
     },
     "metadata": {},
     "output_type": "display_data"
    },
    {
     "data": {
      "text/html": [
       "<pre>| 750       | 24m 43s       | 5.22321e+06    | 0               |</pre>"
      ],
      "text/plain": [
       "| 750       | 24m 43s       | 5.22321e+06    | 0               |"
      ]
     },
     "metadata": {},
     "output_type": "display_data"
    },
    {
     "data": {
      "text/html": [
       "<pre>| 760       | 25m 2s        | 4.8256e+06     | 0               |</pre>"
      ],
      "text/plain": [
       "| 760       | 25m 2s        | 4.8256e+06     | 0               |"
      ]
     },
     "metadata": {},
     "output_type": "display_data"
    },
    {
     "data": {
      "text/html": [
       "<pre>| 770       | 25m 21s       | 4.88016e+06    | 0               |</pre>"
      ],
      "text/plain": [
       "| 770       | 25m 21s       | 4.88016e+06    | 0               |"
      ]
     },
     "metadata": {},
     "output_type": "display_data"
    },
    {
     "data": {
      "text/html": [
       "<pre>| 780       | 25m 43s       | 4.84298e+06    | 0               |</pre>"
      ],
      "text/plain": [
       "| 780       | 25m 43s       | 4.84298e+06    | 0               |"
      ]
     },
     "metadata": {},
     "output_type": "display_data"
    },
    {
     "data": {
      "text/html": [
       "<pre>| 790       | 26m 2s        | 5.07143e+06    | 0               |</pre>"
      ],
      "text/plain": [
       "| 790       | 26m 2s        | 5.07143e+06    | 0               |"
      ]
     },
     "metadata": {},
     "output_type": "display_data"
    },
    {
     "data": {
      "text/html": [
       "<pre>| 800       | 26m 22s       | 4.71686e+06    | 0               |</pre>"
      ],
      "text/plain": [
       "| 800       | 26m 22s       | 4.71686e+06    | 0               |"
      ]
     },
     "metadata": {},
     "output_type": "display_data"
    },
    {
     "data": {
      "text/html": [
       "<pre>| 810       | 26m 41s       | 4.87348e+06    | 0               |</pre>"
      ],
      "text/plain": [
       "| 810       | 26m 41s       | 4.87348e+06    | 0               |"
      ]
     },
     "metadata": {},
     "output_type": "display_data"
    },
    {
     "data": {
      "text/html": [
       "<pre>| 820       | 27m 0s        | 5.08652e+06    | 0               |</pre>"
      ],
      "text/plain": [
       "| 820       | 27m 0s        | 5.08652e+06    | 0               |"
      ]
     },
     "metadata": {},
     "output_type": "display_data"
    },
    {
     "data": {
      "text/html": [
       "<pre>| 830       | 27m 19s       | 5.14649e+06    | 0               |</pre>"
      ],
      "text/plain": [
       "| 830       | 27m 19s       | 5.14649e+06    | 0               |"
      ]
     },
     "metadata": {},
     "output_type": "display_data"
    },
    {
     "data": {
      "text/html": [
       "<pre>| 840       | 27m 38s       | 5.17993e+06    | 0               |</pre>"
      ],
      "text/plain": [
       "| 840       | 27m 38s       | 5.17993e+06    | 0               |"
      ]
     },
     "metadata": {},
     "output_type": "display_data"
    },
    {
     "data": {
      "text/html": [
       "<pre>| 850       | 27m 56s       | 5.16689e+06    | 0               |</pre>"
      ],
      "text/plain": [
       "| 850       | 27m 56s       | 5.16689e+06    | 0               |"
      ]
     },
     "metadata": {},
     "output_type": "display_data"
    },
    {
     "data": {
      "text/html": [
       "<pre>| 860       | 28m 15s       | 5.21285e+06    | 0               |</pre>"
      ],
      "text/plain": [
       "| 860       | 28m 15s       | 5.21285e+06    | 0               |"
      ]
     },
     "metadata": {},
     "output_type": "display_data"
    },
    {
     "data": {
      "text/html": [
       "<pre>| 870       | 28m 34s       | 5.26136e+06    | 0               |</pre>"
      ],
      "text/plain": [
       "| 870       | 28m 34s       | 5.26136e+06    | 0               |"
      ]
     },
     "metadata": {},
     "output_type": "display_data"
    },
    {
     "data": {
      "text/html": [
       "<pre>| 880       | 28m 53s       | 4.5627e+06     | 0               |</pre>"
      ],
      "text/plain": [
       "| 880       | 28m 53s       | 4.5627e+06     | 0               |"
      ]
     },
     "metadata": {},
     "output_type": "display_data"
    },
    {
     "data": {
      "text/html": [
       "<pre>| 890       | 29m 13s       | 5.22933e+06    | 0               |</pre>"
      ],
      "text/plain": [
       "| 890       | 29m 13s       | 5.22933e+06    | 0               |"
      ]
     },
     "metadata": {},
     "output_type": "display_data"
    },
    {
     "data": {
      "text/html": [
       "<pre>| 900       | 29m 32s       | 4.83049e+06    | 0               |</pre>"
      ],
      "text/plain": [
       "| 900       | 29m 32s       | 4.83049e+06    | 0               |"
      ]
     },
     "metadata": {},
     "output_type": "display_data"
    },
    {
     "data": {
      "text/html": [
       "<pre>| 910       | 29m 52s       | 4.63855e+06    | 0               |</pre>"
      ],
      "text/plain": [
       "| 910       | 29m 52s       | 4.63855e+06    | 0               |"
      ]
     },
     "metadata": {},
     "output_type": "display_data"
    },
    {
     "data": {
      "text/html": [
       "<pre>| 920       | 30m 12s       | 4.90584e+06    | 0               |</pre>"
      ],
      "text/plain": [
       "| 920       | 30m 12s       | 4.90584e+06    | 0               |"
      ]
     },
     "metadata": {},
     "output_type": "display_data"
    },
    {
     "data": {
      "text/html": [
       "<pre>| 930       | 30m 32s       | 4.98344e+06    | 0               |</pre>"
      ],
      "text/plain": [
       "| 930       | 30m 32s       | 4.98344e+06    | 0               |"
      ]
     },
     "metadata": {},
     "output_type": "display_data"
    },
    {
     "data": {
      "text/html": [
       "<pre>| 940       | 30m 51s       | 4.78869e+06    | 0               |</pre>"
      ],
      "text/plain": [
       "| 940       | 30m 51s       | 4.78869e+06    | 0               |"
      ]
     },
     "metadata": {},
     "output_type": "display_data"
    },
    {
     "data": {
      "text/html": [
       "<pre>| 950       | 31m 10s       | 4.72591e+06    | 0               |</pre>"
      ],
      "text/plain": [
       "| 950       | 31m 10s       | 4.72591e+06    | 0               |"
      ]
     },
     "metadata": {},
     "output_type": "display_data"
    },
    {
     "data": {
      "text/html": [
       "<pre>| 960       | 31m 30s       | 5.04458e+06    | 0               |</pre>"
      ],
      "text/plain": [
       "| 960       | 31m 30s       | 5.04458e+06    | 0               |"
      ]
     },
     "metadata": {},
     "output_type": "display_data"
    },
    {
     "data": {
      "text/html": [
       "<pre>| 970       | 31m 49s       | 5.00176e+06    | 0               |</pre>"
      ],
      "text/plain": [
       "| 970       | 31m 49s       | 5.00176e+06    | 0               |"
      ]
     },
     "metadata": {},
     "output_type": "display_data"
    },
    {
     "data": {
      "text/html": [
       "<pre>| 980       | 32m 9s        | 5.04787e+06    | 0               |</pre>"
      ],
      "text/plain": [
       "| 980       | 32m 9s        | 5.04787e+06    | 0               |"
      ]
     },
     "metadata": {},
     "output_type": "display_data"
    },
    {
     "data": {
      "text/html": [
       "<pre>| 990       | 32m 28s       | 5.24315e+06    | 0               |</pre>"
      ],
      "text/plain": [
       "| 990       | 32m 28s       | 5.24315e+06    | 0               |"
      ]
     },
     "metadata": {},
     "output_type": "display_data"
    },
    {
     "data": {
      "text/html": [
       "<pre>| 1000      | 32m 46s       | 5.28269e+06    | 0               |</pre>"
      ],
      "text/plain": [
       "| 1000      | 32m 46s       | 5.28269e+06    | 0               |"
      ]
     },
     "metadata": {},
     "output_type": "display_data"
    },
    {
     "data": {
      "text/html": [
       "<pre>+-----------+---------------+----------------+-----------------+</pre>"
      ],
      "text/plain": [
       "+-----------+---------------+----------------+-----------------+"
      ]
     },
     "metadata": {},
     "output_type": "display_data"
    }
   ],
   "source": [
    "Topic_Model = gl.topic_model.create(docs, num_topics=50, num_iterations=1000)"
   ]
  },
  {
   "cell_type": "code",
   "execution_count": 8,
   "metadata": {
    "collapsed": true
   },
   "outputs": [],
   "source": [
    "Topic_Model.save('zh_topic_model')"
   ]
  },
  {
   "cell_type": "code",
   "execution_count": null,
   "metadata": {
    "collapsed": true
   },
   "outputs": [],
   "source": []
  }
 ],
 "metadata": {
  "kernelspec": {
   "display_name": "Python 2",
   "language": "python",
   "name": "python2"
  },
  "language_info": {
   "codemirror_mode": {
    "name": "ipython",
    "version": 2
   },
   "file_extension": ".py",
   "mimetype": "text/x-python",
   "name": "python",
   "nbconvert_exporter": "python",
   "pygments_lexer": "ipython2",
   "version": "2.7.11"
  }
 },
 "nbformat": 4,
 "nbformat_minor": 0
}
