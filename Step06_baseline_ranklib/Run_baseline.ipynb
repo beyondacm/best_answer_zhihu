{
 "cells": [
  {
   "cell_type": "code",
   "execution_count": 1,
   "metadata": {
    "collapsed": true
   },
   "outputs": [],
   "source": [
    "import pandas as pd\n",
    "import os \n",
    "import subprocess"
   ]
  },
  {
   "cell_type": "code",
   "execution_count": 64,
   "metadata": {
    "collapsed": false
   },
   "outputs": [],
   "source": [
    "# MODEL = 'MART/'\n",
    "MODEL = 'Random_Forests/'\n",
    "# MODEL = 'AdaRank/'\n",
    "\n",
    "\n",
    "# LEVEL ='1000x5/'\n",
    "# LEVEL = '1000x6/'\n",
    "# LEVEL = '1000x7/'\n",
    "# LEVEL = '1000x8/'\n",
    "# LEVEL = '1000x9/'\n",
    "LEVEL = '1000x10/'\n",
    "\n",
    "FNAME = 'total_test.csv'\n",
    "PATH_FORMATED = './Format_Data/Testing_Set/' + LEVEL \n",
    "PATH_RANKED = './Ranked_Data/' + MODEL + LEVEL"
   ]
  },
  {
   "cell_type": "code",
   "execution_count": 65,
   "metadata": {
    "collapsed": false
   },
   "outputs": [],
   "source": [
    "Final_Test_List = os.listdir(PATH_FORMATED)"
   ]
  },
  {
   "cell_type": "code",
   "execution_count": 66,
   "metadata": {
    "collapsed": false
   },
   "outputs": [
    {
     "data": {
      "text/plain": [
       "['Final_Test_01',\n",
       " 'Final_Test_02',\n",
       " 'Final_Test_08',\n",
       " 'Final_Test_03',\n",
       " 'Final_Test_07',\n",
       " 'Final_Test_05',\n",
       " 'Final_Test_06',\n",
       " 'Final_Test_04',\n",
       " 'Final_Test_00',\n",
       " 'Final_Test_09']"
      ]
     },
     "execution_count": 66,
     "metadata": {},
     "output_type": "execute_result"
    }
   ],
   "source": [
    "Final_Test_List"
   ]
  },
  {
   "cell_type": "code",
   "execution_count": 67,
   "metadata": {
    "collapsed": false
   },
   "outputs": [
    {
     "name": "stdout",
     "output_type": "stream",
     "text": [
      "./Ranked_Data/Random_Forests/1000x10/Final_Test_01/total_test.csv\n",
      "./Ranked_Data/Random_Forests/1000x10/Final_Test_02/total_test.csv\n",
      "./Ranked_Data/Random_Forests/1000x10/Final_Test_08/total_test.csv\n",
      "./Ranked_Data/Random_Forests/1000x10/Final_Test_03/total_test.csv\n",
      "./Ranked_Data/Random_Forests/1000x10/Final_Test_07/total_test.csv\n",
      "./Ranked_Data/Random_Forests/1000x10/Final_Test_05/total_test.csv\n",
      "./Ranked_Data/Random_Forests/1000x10/Final_Test_06/total_test.csv\n",
      "./Ranked_Data/Random_Forests/1000x10/Final_Test_04/total_test.csv\n",
      "./Ranked_Data/Random_Forests/1000x10/Final_Test_00/total_test.csv\n",
      "./Ranked_Data/Random_Forests/1000x10/Final_Test_09/total_test.csv\n"
     ]
    }
   ],
   "source": [
    "for Final_Test in Final_Test_List :\n",
    "    # print Final_Test\n",
    "    file_path_in = os.path.join(PATH_FORMATED, Final_Test) + '/' + FNAME\n",
    "    # print file_path_in\n",
    "    file_path_out = os.path.join(PATH_RANKED, Final_Test) + '/' + FNAME\n",
    "    print file_path_out\n",
    "    \n",
    "    f_in = open(file_path_in, 'r')\n",
    "    f_out = open(file_path_out, 'w')\n",
    "    \n",
    "    !java -jar ./RankLib-v2.1/bin/RankLib.jar -load ./Model/Random_Forests -rank $file_path_in 2>&1 | tail -100 >> $file_path_out\n",
    "    # !java -jar ./RankLib-v2.1/bin/RankLib.jar -load Co_Ascent -rank $file_path_in 2>&1 | tail -100 >> $file_path_out\n",
    "    # !java -jar ./RankLib-v2.1/bin/RankLib.jar -load AdaRank -rank $file_path_in 2>&1 | tail -100 >> $file_path_out\n",
    "    # !java -jar ./RankLib-v2.1/bin/RankLib.jar -load Random_Foorests -rank $file_path_in 2>&1 | tail -100 >> $file_path_out\n",
    "    # !java -jar ./RankLib-v2.1/bin/RankLib.jar -load ListNet -rank $file_path_in 2>&1 | tail -100 >> $file_path_out\n",
    "    # !./SVM_RANK/svm_rank_classify $file_path_in ./SVM_RANK/svm_rank_01 $file_path_out\n",
    "    \n",
    "    f_in.close()\n",
    "    f_out.close()"
   ]
  },
  {
   "cell_type": "code",
   "execution_count": 68,
   "metadata": {
    "collapsed": true
   },
   "outputs": [],
   "source": [
    "def writeDict(Dict, filename, sep):\n",
    "    with open(filename, \"w\") as f:\n",
    "#        for key in dict.keys():            \n",
    "#            f.write(str(key) + \":\" + str(dict[key]) + \"\\n\")\n",
    "        for key, value in sorted( Dict.items() ):\n",
    "            f.write( str(key) + sep + str(value) + '\\n' )\n",
    "\n",
    "def writeList(List, filename) :\n",
    "    with open(filename, 'w') as f:\n",
    "        for i in range( len(List) ) :\n",
    "            # print List[i][0]\n",
    "            # print List[i][1]\n",
    "            f.write( str(List[i][0]) + ':' + str(List[i][1]) + '\\n')\n",
    "            \n",
    "def readDict(filename, sep):\n",
    "    with open(filename, \"r\") as f:\n",
    "        dict = {}\n",
    "        for line in f:\n",
    "            values = line.split(sep)\n",
    "            key = values[0]\n",
    "            value = int(values[1])\n",
    "            #value = values[1].split(',')\n",
    "            #dict[values[0]] = {int(x) for x in values[1:len(values)]}\n",
    "            dict[key] = value\n",
    "        return dict "
   ]
  },
  {
   "cell_type": "code",
   "execution_count": 69,
   "metadata": {
    "collapsed": true
   },
   "outputs": [],
   "source": [
    "def get_answer0_hits(test_file) : \n",
    "    hit_at_1 = 0\n",
    "    hit_at_2 = 0\n",
    "    hit_at_3 = 0\n",
    "    hit_at_4 = 0\n",
    "    hit_at_5 = 0\n",
    "    \n",
    "    with open(test_file, 'r') as f :\n",
    "        for line in f:\n",
    "            hits = line.split(' ')[0]\n",
    "            if hits == '1' :\n",
    "                hit_at_1 += 1\n",
    "            if hits == '2' :\n",
    "                hit_at_2 += 1\n",
    "            if hits == '3' :\n",
    "                hit_at_3 += 1\n",
    "            if hits == '4' :\n",
    "                hit_at_4 += 1\n",
    "            if hits == '5' :\n",
    "                hit_at_5 += 1\n",
    "    return (hit_at_1, hit_at_2, hit_at_3, hit_at_4, hit_at_5)"
   ]
  },
  {
   "cell_type": "code",
   "execution_count": 70,
   "metadata": {
    "collapsed": true
   },
   "outputs": [],
   "source": [
    "def get_p_at_k(hits, path_out, fout) :\n",
    "    \n",
    "    p_at_k = {}\n",
    "    \n",
    "    p_at_k['p@1'] = hits[0]\n",
    "    p_at_k['p@2'] = p_at_k['p@1'] + hits[1]\n",
    "    p_at_k['p@3'] = p_at_k['p@2'] + hits[2]\n",
    "    p_at_k['p@4'] = p_at_k['p@3'] + hits[3]\n",
    "    p_at_k['p@5'] = p_at_k['p@4'] + hits[4]\n",
    "    \n",
    "    writeDict( p_at_k  , path_out  + fout , ':')\n",
    "    return p_at_k"
   ]
  },
  {
   "cell_type": "code",
   "execution_count": 71,
   "metadata": {
    "collapsed": true
   },
   "outputs": [],
   "source": [
    "def ave_p_at_k(path_in , k = 1) :\n",
    "    ave_p_at_k = 0.\n",
    "    file_list = os.listdir(path_in)\n",
    "    # print file_list\n",
    "    for fname in file_list :\n",
    "        # p_at_k is a list \n",
    "        p_at_k = readDict(path_in + fname, ':')\n",
    "        key = 'p@' + str(k)\n",
    "        ave_p_at_k += p_at_k[key]\n",
    "    \n",
    "    return ave_p_at_k / 10."
   ]
  },
  {
   "cell_type": "code",
   "execution_count": 72,
   "metadata": {
    "collapsed": true
   },
   "outputs": [],
   "source": [
    "PATH_TO_LEVEL = './Ranked_Data/' + MODEL + LEVEL "
   ]
  },
  {
   "cell_type": "code",
   "execution_count": 73,
   "metadata": {
    "collapsed": true
   },
   "outputs": [],
   "source": [
    "Final_Test_List = os.listdir(PATH_TO_LEVEL)"
   ]
  },
  {
   "cell_type": "code",
   "execution_count": 74,
   "metadata": {
    "collapsed": false
   },
   "outputs": [
    {
     "data": {
      "text/plain": [
       "['Final_Test_01',\n",
       " 'Final_Test_02',\n",
       " 'Final_Test_08',\n",
       " 'Result',\n",
       " 'Final_Test_03',\n",
       " 'Final_Test_07',\n",
       " 'Final_Test_05',\n",
       " 'Final_Test_06',\n",
       " 'Final_Test_04',\n",
       " 'Final_Test_00',\n",
       " 'Final_Test_09']"
      ]
     },
     "execution_count": 74,
     "metadata": {},
     "output_type": "execute_result"
    }
   ],
   "source": [
    "Final_Test_List"
   ]
  },
  {
   "cell_type": "code",
   "execution_count": 75,
   "metadata": {
    "collapsed": false
   },
   "outputs": [
    {
     "name": "stdout",
     "output_type": "stream",
     "text": [
      "./Ranked_Data/Random_Forests/1000x10/Final_Test_01/total_test.csv\n",
      "./Ranked_Data/Random_Forests/1000x10/Final_Test_02/total_test.csv\n",
      "./Ranked_Data/Random_Forests/1000x10/Final_Test_08/total_test.csv\n",
      "./Ranked_Data/Random_Forests/1000x10/Final_Test_03/total_test.csv\n",
      "./Ranked_Data/Random_Forests/1000x10/Final_Test_07/total_test.csv\n",
      "./Ranked_Data/Random_Forests/1000x10/Final_Test_05/total_test.csv\n",
      "./Ranked_Data/Random_Forests/1000x10/Final_Test_06/total_test.csv\n",
      "./Ranked_Data/Random_Forests/1000x10/Final_Test_04/total_test.csv\n",
      "./Ranked_Data/Random_Forests/1000x10/Final_Test_00/total_test.csv\n",
      "./Ranked_Data/Random_Forests/1000x10/Final_Test_09/total_test.csv\n"
     ]
    }
   ],
   "source": [
    "for Final_Test in Final_Test_List :\n",
    "    \n",
    "    if Final_Test == 'Result' :\n",
    "        continue \n",
    "    \n",
    "    path_hits = os.path.join(PATH_TO_LEVEL, Final_Test) + '/total_test.csv'\n",
    "    path_p_at_k = os.path.join(PATH_TO_LEVEL) + 'Result/'\n",
    "    fout = str(Final_Test) + '.csv'\n",
    "    print path_hits\n",
    "    # print path_p_at_k\n",
    "    # print fout\n",
    "    hits = get_answer0_hits(path_hits)\n",
    "    p_at_k = get_p_at_k(hits, path_p_at_k, fout)\n",
    "    # print p_at_k\n",
    "    \n",
    "average_p_at_k = {}\n",
    "average_p_at_k['ave_p_at_1'] = ave_p_at_k(path_p_at_k , k = 1)\n",
    "average_p_at_k['ave_p_at_2'] = ave_p_at_k(path_p_at_k , k = 2)\n",
    "average_p_at_k['ave_p_at_3'] = ave_p_at_k(path_p_at_k , k = 3)\n",
    "average_p_at_k['ave_p_at_4'] = ave_p_at_k(path_p_at_k , k = 4)\n",
    "average_p_at_k['ave_p_at_5'] = ave_p_at_k(path_p_at_k , k = 5)\n",
    "writeDict( average_p_at_k  , path_p_at_k  + 'ave_result.csv' , ':')"
   ]
  },
  {
   "cell_type": "code",
   "execution_count": null,
   "metadata": {
    "collapsed": true
   },
   "outputs": [],
   "source": []
  }
 ],
 "metadata": {
  "kernelspec": {
   "display_name": "Python 2",
   "language": "python",
   "name": "python2"
  },
  "language_info": {
   "codemirror_mode": {
    "name": "ipython",
    "version": 2
   },
   "file_extension": ".py",
   "mimetype": "text/x-python",
   "name": "python",
   "nbconvert_exporter": "python",
   "pygments_lexer": "ipython2",
   "version": "2.7.11"
  }
 },
 "nbformat": 4,
 "nbformat_minor": 0
}
