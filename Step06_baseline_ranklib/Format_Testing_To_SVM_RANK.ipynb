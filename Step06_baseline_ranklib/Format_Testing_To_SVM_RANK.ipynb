{
 "cells": [
  {
   "cell_type": "code",
   "execution_count": 1,
   "metadata": {
    "collapsed": true
   },
   "outputs": [],
   "source": [
    "import os\n",
    "from itertools import  izip"
   ]
  },
  {
   "cell_type": "code",
   "execution_count": 2,
   "metadata": {
    "collapsed": true
   },
   "outputs": [],
   "source": [
    "def format_line(fout, target, qid, feature_list) :\n",
    "    fout.write( str(target) + ' ')\n",
    "    fout.write('qid:' + str(qid) + ' ')\n",
    "    for i,value in enumerate(feature_list) :\n",
    "        fout.write(str(i+1) + ':' + str(value) + ' ')\n",
    "    fout.write('\\n')"
   ]
  },
  {
   "cell_type": "code",
   "execution_count": 3,
   "metadata": {
    "collapsed": true
   },
   "outputs": [],
   "source": [
    "def format_file(f_in, f_out, qid) :\n",
    "    \n",
    "    f_in.readline()\n",
    "    # qid = 1\n",
    "    \n",
    "    for line in f_in :\n",
    "        # print line\n",
    "        test_features = line.strip().split(',')\n",
    "        # print test_features\n",
    "        format_line(f_out, 1, qid, test_features)\n"
   ]
  },
  {
   "cell_type": "code",
   "execution_count": 24,
   "metadata": {
    "collapsed": false
   },
   "outputs": [],
   "source": [
    "# LEVEL = '1000x5/'\n",
    "# LEVEL = '1000x6/'\n",
    "# LEVEL = '1000x7/'\n",
    "# LEVEL = '1000x8/'\n",
    "# LEVEL = '1000x9/'\n",
    "LEVEL = '1000x10/'\n",
    "PATH_FORMAT_TEST = './Format_Data/Testing_Set/' + LEVEL\n",
    "PATH_RAW_TEST   = './Testing_Data/' + LEVEL"
   ]
  },
  {
   "cell_type": "code",
   "execution_count": 25,
   "metadata": {
    "collapsed": true
   },
   "outputs": [],
   "source": [
    "Final_Test_List = os.listdir(PATH_RAW_TEST)"
   ]
  },
  {
   "cell_type": "code",
   "execution_count": 26,
   "metadata": {
    "collapsed": false
   },
   "outputs": [
    {
     "name": "stdout",
     "output_type": "stream",
     "text": [
      "./Testing_Data/1000x10/Final_Test_01/\n",
      "./Testing_Data/1000x10/Final_Test_02/\n",
      "./Testing_Data/1000x10/Final_Test_08/\n",
      "./Testing_Data/1000x10/Final_Test_03/\n",
      "./Testing_Data/1000x10/Final_Test_07/\n",
      "./Testing_Data/1000x10/Final_Test_05/\n",
      "./Testing_Data/1000x10/Final_Test_06/\n",
      "./Testing_Data/1000x10/Final_Test_04/\n",
      "./Testing_Data/1000x10/Final_Test_00/\n",
      "./Testing_Data/1000x10/Final_Test_09/\n"
     ]
    }
   ],
   "source": [
    "for Final_Test in Final_Test_List :\n",
    "    PATH_IN = os.path.join(PATH_RAW_TEST, Final_Test) + '/'\n",
    "    print PATH_IN\n",
    "    file_list = os.listdir(PATH_IN)\n",
    "    # print file_list\n",
    "    for fname in file_list :\n",
    "\n",
    "        file_path_in = os.path.join(PATH_RAW_TEST, Final_Test, fname )\n",
    "        file_path_out = os.path.join(PATH_FORMAT_TEST, Final_Test, fname )\n",
    "        # print file_path\n",
    "        f_in = open(file_path_in, 'r') \n",
    "        f_out = open(file_path_out, 'w')\n",
    "        \n",
    "        # print fname \n",
    "        qid = int( fname.replace('.', '_').split('_')[1] ) + 1 \n",
    "        # print qid\n",
    "        \n",
    "        # call format_file()\n",
    "        format_file(f_in, f_out, qid)\n",
    "        \n",
    "        f_in.close()\n",
    "        f_out.close()"
   ]
  },
  {
   "cell_type": "code",
   "execution_count": 27,
   "metadata": {
    "collapsed": false
   },
   "outputs": [
    {
     "name": "stdout",
     "output_type": "stream",
     "text": [
      "./Format_Data/Testing_Set/1000x10/Final_Test_01/total_test.csv\n",
      "./Format_Data/Testing_Set/1000x10/Final_Test_02/total_test.csv\n",
      "./Format_Data/Testing_Set/1000x10/Final_Test_08/total_test.csv\n",
      "./Format_Data/Testing_Set/1000x10/Final_Test_03/total_test.csv\n",
      "./Format_Data/Testing_Set/1000x10/Final_Test_07/total_test.csv\n",
      "./Format_Data/Testing_Set/1000x10/Final_Test_05/total_test.csv\n",
      "./Format_Data/Testing_Set/1000x10/Final_Test_06/total_test.csv\n",
      "./Format_Data/Testing_Set/1000x10/Final_Test_04/total_test.csv\n",
      "./Format_Data/Testing_Set/1000x10/Final_Test_00/total_test.csv\n",
      "./Format_Data/Testing_Set/1000x10/Final_Test_09/total_test.csv\n"
     ]
    }
   ],
   "source": [
    "for Final_Test in Final_Test_List :\n",
    "    \n",
    "    outfile_path = os.path.join(PATH_FORMAT_TEST, Final_Test) + '/total_test.csv'\n",
    "    print outfile_path\n",
    "    with open(outfile_path, 'w') as outfile :\n",
    "        for i in range(100) :\n",
    "\n",
    "            file_name = 'test_' + str(i) + '.csv' \n",
    "            # print file_name\n",
    "            infile_path = os.path.join(PATH_FORMAT_TEST, Final_Test, file_name )\n",
    "            # print infile_path\n",
    "            with open(infile_path, 'r') as infile :\n",
    "                for line in infile:\n",
    "                    outfile.write(line)"
   ]
  },
  {
   "cell_type": "code",
   "execution_count": null,
   "metadata": {
    "collapsed": true
   },
   "outputs": [],
   "source": []
  }
 ],
 "metadata": {
  "kernelspec": {
   "display_name": "Python 2",
   "language": "python",
   "name": "python2"
  },
  "language_info": {
   "codemirror_mode": {
    "name": "ipython",
    "version": 2
   },
   "file_extension": ".py",
   "mimetype": "text/x-python",
   "name": "python",
   "nbconvert_exporter": "python",
   "pygments_lexer": "ipython2",
   "version": "2.7.11"
  }
 },
 "nbformat": 4,
 "nbformat_minor": 0
}
