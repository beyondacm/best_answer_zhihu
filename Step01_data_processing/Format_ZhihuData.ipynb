{
 "cells": [
  {
   "cell_type": "code",
   "execution_count": 1,
   "metadata": {
    "collapsed": true
   },
   "outputs": [],
   "source": [
    "import re\n",
    "from pandas import Series, DataFrame\n",
    "import pandas as pd\n",
    "import json\n",
    "import numpy as np\n",
    "import string"
   ]
  },
  {
   "cell_type": "code",
   "execution_count": 2,
   "metadata": {
    "collapsed": false
   },
   "outputs": [],
   "source": [
    "with open('./zhihu_question_seg.txt', 'r' ) as f :\n",
    "    zhihu_question = [ json.loads( line.strip() ) for line in f]"
   ]
  },
  {
   "cell_type": "markdown",
   "metadata": {
    "collapsed": false
   },
   "source": [
    "# Format zh_question.csv"
   ]
  },
  {
   "cell_type": "code",
   "execution_count": 3,
   "metadata": {
    "collapsed": true
   },
   "outputs": [],
   "source": [
    "zh_question = DataFrame(zhihu_question)"
   ]
  },
  {
   "cell_type": "code",
   "execution_count": 4,
   "metadata": {
    "collapsed": false
   },
   "outputs": [],
   "source": [
    "#zh_question # 70533 rows × 6 columns\n",
    "ans = zh_question['answer']"
   ]
  },
  {
   "cell_type": "code",
   "execution_count": 5,
   "metadata": {
    "collapsed": true
   },
   "outputs": [],
   "source": [
    "qid = []\n",
    "for i in range( len(ans) ) :\n",
    "    qid.append(ans[i][0]['url'].split('/')[4])"
   ]
  },
  {
   "cell_type": "code",
   "execution_count": 6,
   "metadata": {
    "collapsed": false
   },
   "outputs": [],
   "source": [
    "qid = Series([ str(x) for x in qid ])"
   ]
  },
  {
   "cell_type": "code",
   "execution_count": 7,
   "metadata": {
    "collapsed": false
   },
   "outputs": [],
   "source": [
    "zh_question['question_id'] = qid\n",
    "zh_question = zh_question.drop( zh_question.columns[[0,1,5]], axis = 1)\n",
    "zh_question.to_csv('./zh_question.csv', encoding='utf-8', index = False )"
   ]
  },
  {
   "cell_type": "markdown",
   "metadata": {},
   "source": [
    "# Format zh_answer.csv"
   ]
  },
  {
   "cell_type": "code",
   "execution_count": 8,
   "metadata": {
    "collapsed": false
   },
   "outputs": [],
   "source": [
    "zhihu_question = DataFrame(zhihu_question)\n",
    "zhihu_answer = zhihu_question['answer']"
   ]
  },
  {
   "cell_type": "code",
   "execution_count": 9,
   "metadata": {
    "collapsed": false
   },
   "outputs": [],
   "source": [
    "zhihu_answer.to_csv('./zhihu_answer.csv', encoding='utf-8', index = False)"
   ]
  },
  {
   "cell_type": "code",
   "execution_count": 10,
   "metadata": {
    "collapsed": false
   },
   "outputs": [],
   "source": [
    "with open('./zhihu_answer.csv', 'r') as f_in, \\\n",
    "    open('./zhihu_answer_pro.csv', 'w') as f_out :\n",
    "    # line = f.readline()\n",
    "    \n",
    "    for line in f_in :\n",
    "        answers = line.split('},') \n",
    "        for answer in answers: \n",
    "            \n",
    "            answer = answer.strip().strip('\"').strip('[').strip(']')\n",
    "            answer = answer.replace('\"', '')\n",
    "            answer = answer.replace('{u\\'','{\\'')\n",
    "            answer = answer.replace(': u\\'', ': \\'')\n",
    "            answer = answer.replace(', u\\'', ', \\'')\n",
    "            answer = answer.replace('\\'', '\"')\n",
    "            \n",
    "            if answer.endswith('}') :\n",
    "                f_out.write(answer)\n",
    "                f_out.write('\\n')\n",
    "            else :\n",
    "                f_out.write(answer)\n",
    "                f_out.write('}\\n')\n"
   ]
  },
  {
   "cell_type": "code",
   "execution_count": 11,
   "metadata": {
    "collapsed": true
   },
   "outputs": [],
   "source": [
    "zh_ans = []"
   ]
  },
  {
   "cell_type": "code",
   "execution_count": 12,
   "metadata": {
    "collapsed": false,
    "scrolled": true
   },
   "outputs": [],
   "source": [
    "with open('./zhihu_answer_pro.csv', 'r') as f:\n",
    "    for i in range(172932) :\n",
    "    # for i in range(10) :\n",
    "        # print i\n",
    "        line = f.readline()\n",
    "        try :\n",
    "            zh_ans.append( json.loads(line) )\n",
    "        except ValueError :\n",
    "            # print i\n",
    "            continue"
   ]
  },
  {
   "cell_type": "code",
   "execution_count": 13,
   "metadata": {
    "collapsed": true
   },
   "outputs": [],
   "source": [
    "zh_ans = DataFrame(zh_ans)"
   ]
  },
  {
   "cell_type": "code",
   "execution_count": 14,
   "metadata": {
    "collapsed": false,
    "scrolled": true
   },
   "outputs": [],
   "source": [
    "# zh_ans # 171656 rows × 5 columns"
   ]
  },
  {
   "cell_type": "code",
   "execution_count": 15,
   "metadata": {
    "collapsed": false
   },
   "outputs": [],
   "source": [
    "question_id = zh_ans['url'].str.split('/').str[4]\n",
    "answer_id = zh_ans['url'].str.split('/').str[-1]\n",
    "answerer_id = zh_ans['answerer'].str.split('/').str[-1]"
   ]
  },
  {
   "cell_type": "code",
   "execution_count": 16,
   "metadata": {
    "collapsed": false
   },
   "outputs": [],
   "source": [
    "zh_ans['question_id'] = question_id\n",
    "zh_ans['answer_id'] = answer_id\n",
    "zh_ans['answerer_id'] = answerer_id\n",
    "zh_ans = zh_ans.drop( zh_ans.columns[[0,2,4]], axis=1)\n",
    "zh_ans.to_csv('./zh_answer.csv', encoding='utf-8', index = False )"
   ]
  },
  {
   "cell_type": "markdown",
   "metadata": {
    "collapsed": false
   },
   "source": [
    "# Format zh_user.csv"
   ]
  },
  {
   "cell_type": "code",
   "execution_count": 20,
   "metadata": {
    "collapsed": false
   },
   "outputs": [],
   "source": [
    "with open('./zhihu_user.txt', 'r' ) as f :\n",
    "    zhihu_user = [ json.loads( line.strip() ) for line in f]"
   ]
  },
  {
   "cell_type": "code",
   "execution_count": 21,
   "metadata": {
    "collapsed": false
   },
   "outputs": [],
   "source": [
    "zh_user = DataFrame(zhihu_user)"
   ]
  },
  {
   "cell_type": "code",
   "execution_count": 22,
   "metadata": {
    "collapsed": false
   },
   "outputs": [],
   "source": [
    "answerer_id = zh_user['url'].str.split('/').str[-1]"
   ]
  },
  {
   "cell_type": "code",
   "execution_count": 23,
   "metadata": {
    "collapsed": false
   },
   "outputs": [],
   "source": [
    "# answerer_id"
   ]
  },
  {
   "cell_type": "code",
   "execution_count": 24,
   "metadata": {
    "collapsed": false
   },
   "outputs": [],
   "source": [
    "zh_user['answerer_id'] = answerer_id"
   ]
  },
  {
   "cell_type": "code",
   "execution_count": 25,
   "metadata": {
    "collapsed": false
   },
   "outputs": [],
   "source": [
    "zh_user = zh_user.drop('url', axis=1)"
   ]
  },
  {
   "cell_type": "code",
   "execution_count": 26,
   "metadata": {
    "collapsed": false
   },
   "outputs": [],
   "source": [
    "# zh_user  # 71856 rows × 11 columns"
   ]
  },
  {
   "cell_type": "code",
   "execution_count": 27,
   "metadata": {
    "collapsed": true
   },
   "outputs": [],
   "source": [
    "zh_user.to_csv('./zh_user.csv', encoding='utf-8', index = False )"
   ]
  },
  {
   "cell_type": "markdown",
   "metadata": {},
   "source": [
    "# Merge quetion & answer & user"
   ]
  },
  {
   "cell_type": "code",
   "execution_count": 29,
   "metadata": {
    "collapsed": false
   },
   "outputs": [],
   "source": [
    "question = pd.read_csv('./zh_question.csv')\n",
    "answer = pd.read_csv('./zh_answer.csv')\n",
    "user = pd.read_csv('./zh_user.csv')"
   ]
  },
  {
   "cell_type": "code",
   "execution_count": 30,
   "metadata": {
    "collapsed": false
   },
   "outputs": [],
   "source": [
    "question = question.drop_duplicates('question_id')\n",
    "answer = answer.drop_duplicates('answer_id')\n",
    "user = user.drop_duplicates('answerer_id')"
   ]
  },
  {
   "cell_type": "code",
   "execution_count": 31,
   "metadata": {
    "collapsed": false,
    "scrolled": true
   },
   "outputs": [],
   "source": [
    "# question # 69746 rows × 4 columns\n",
    "# answer   # 168112 rows × 5 columns\n",
    "# user     # 71856 rows × 11 columns"
   ]
  },
  {
   "cell_type": "code",
   "execution_count": 32,
   "metadata": {
    "collapsed": true
   },
   "outputs": [],
   "source": [
    "# m = pd.merge(m1, m2, on = 'question_id')\n",
    "answer_user = pd.merge(answer, user, on = 'answerer_id', how = 'left')"
   ]
  },
  {
   "cell_type": "code",
   "execution_count": 33,
   "metadata": {
    "collapsed": false
   },
   "outputs": [],
   "source": [
    "# answer_user # 168112 rows × 15 columns"
   ]
  },
  {
   "cell_type": "code",
   "execution_count": 34,
   "metadata": {
    "collapsed": true
   },
   "outputs": [],
   "source": [
    "question_answer_user = pd.merge(question, answer_user, on = 'question_id', how = 'right')"
   ]
  },
  {
   "cell_type": "code",
   "execution_count": 35,
   "metadata": {
    "collapsed": false
   },
   "outputs": [],
   "source": [
    "# question_answer_user # 168112 rows × 18 columns"
   ]
  },
  {
   "cell_type": "code",
   "execution_count": 36,
   "metadata": {
    "collapsed": true
   },
   "outputs": [],
   "source": [
    "question_answer_user.to_csv('./zh_data.csv', encoding='utf-8', index = False )"
   ]
  },
  {
   "cell_type": "code",
   "execution_count": null,
   "metadata": {
    "collapsed": true
   },
   "outputs": [],
   "source": []
  }
 ],
 "metadata": {
  "kernelspec": {
   "display_name": "Python 2",
   "language": "python",
   "name": "python2"
  },
  "language_info": {
   "codemirror_mode": {
    "name": "ipython",
    "version": 2
   },
   "file_extension": ".py",
   "mimetype": "text/x-python",
   "name": "python",
   "nbconvert_exporter": "python",
   "pygments_lexer": "ipython2",
   "version": "2.7.11"
  }
 },
 "nbformat": 4,
 "nbformat_minor": 0
}
