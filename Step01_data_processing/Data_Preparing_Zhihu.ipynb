{
 "cells": [
  {
   "cell_type": "code",
   "execution_count": 1,
   "metadata": {
    "collapsed": true
   },
   "outputs": [],
   "source": [
    "import re\n",
    "from pandas import Series, DataFrame\n",
    "import pandas as pd\n",
    "import json\n",
    "import numpy as np\n",
    "import string"
   ]
  },
  {
   "cell_type": "code",
   "execution_count": 2,
   "metadata": {
    "collapsed": true
   },
   "outputs": [],
   "source": [
    "zhihu_data = pd.read_csv('./zh_data.csv')"
   ]
  },
  {
   "cell_type": "code",
   "execution_count": 3,
   "metadata": {
    "collapsed": false
   },
   "outputs": [],
   "source": [
    "# zhihu_data  # 168112 rows × 18 columns"
   ]
  },
  {
   "cell_type": "markdown",
   "metadata": {},
   "source": [
    "# Remove puncutations"
   ]
  },
  {
   "cell_type": "code",
   "execution_count": 4,
   "metadata": {
    "collapsed": true
   },
   "outputs": [],
   "source": [
    "def Str_Strip(data) :\n",
    "    data = data.str.translate(None, string.punctuation)\n",
    "   \n",
    "    data = data.str.replace('\\\\n',' ')\n",
    "    data = data.str.replace('\\\\r',' ')\n",
    "    \n",
    "    data = data.str.replace('，',' ')\n",
    "    data = data.str.replace('。',' ')\n",
    "    data = data.str.replace('《',' ')\n",
    "    data = data.str.replace('》',' ')\n",
    "    data = data.str.replace('＞',' ')\n",
    "    data = data.str.replace('→', ' ')\n",
    "    data = data.str.replace('•', ' ')\n",
    "    data = data.str.replace('！',' ')\n",
    "    data = data.str.replace('【',' ')\n",
    "    data = data.str.replace('】',' ')\n",
    "    \n",
    "    data = data.str.replace('%',' ')\n",
    "    data = data.str.replace('？',' ')\n",
    "    data = data.str.replace('、',' ')\n",
    "    data = data.str.replace('（',' ')\n",
    "    data = data.str.replace('）',' ')\n",
    "    data = data.str.replace('：',' ')\n",
    "    data = data.str.replace('“',' ')\n",
    "    data = data.str.replace('”',' ')\n",
    "    data = data.str.replace('…',' ')\n",
    "    data = data.str.replace('@',' ')\n",
    "    data = data.str.replace('；',' ')\n",
    "    \n",
    "    data = data.str.lower()   \n",
    "    \n",
    "    \n",
    "    return data"
   ]
  },
  {
   "cell_type": "code",
   "execution_count": 5,
   "metadata": {
    "collapsed": true
   },
   "outputs": [],
   "source": [
    "zhihu_data['title'] = Str_Strip( zhihu_data['title'].astype(str) )\n",
    "zhihu_data['txt_content'] = Str_Strip( zhihu_data['txt_content'].astype(str) )\n",
    "zhihu_data['tag'] = Str_Strip( zhihu_data['tag'].astype(str) )"
   ]
  },
  {
   "cell_type": "markdown",
   "metadata": {
    "collapsed": true
   },
   "source": [
    "# Extract NumOfAnswer >= 3 for Train "
   ]
  },
  {
   "cell_type": "code",
   "execution_count": 6,
   "metadata": {
    "collapsed": true
   },
   "outputs": [],
   "source": [
    "zhihu_train = zhihu_data[ zhihu_data['n_ans_x'] >=5  ]\n",
    "zhihu_test = zhihu_data[ zhihu_data['n_ans_x'] < 3 ]"
   ]
  },
  {
   "cell_type": "code",
   "execution_count": 8,
   "metadata": {
    "collapsed": false,
    "scrolled": true
   },
   "outputs": [],
   "source": [
    "# zhihu_train[0:50] # 104417 rows × 18 columns\n",
    "# zhihu_test # 63695 rows × 18 columns\n",
    "# zhihu_train"
   ]
  },
  {
   "cell_type": "code",
   "execution_count": 9,
   "metadata": {
    "collapsed": false
   },
   "outputs": [],
   "source": [
    "zhihu_train.to_csv('./zh_train.csv', encoding='utf-8', index = False)\n",
    "zhihu_test.to_csv('./zh_test.csv', encoding='utf-8', index = False)"
   ]
  },
  {
   "cell_type": "markdown",
   "metadata": {},
   "source": [
    "# Format zh_text_source "
   ]
  },
  {
   "cell_type": "code",
   "execution_count": 10,
   "metadata": {
    "collapsed": true
   },
   "outputs": [],
   "source": [
    "zhihu_text_source = zhihu_data['title'] + \\\n",
    "                zhihu_data['txt_content'] + \\\n",
    "                zhihu_data['tag'] "
   ]
  },
  {
   "cell_type": "code",
   "execution_count": 11,
   "metadata": {
    "collapsed": false
   },
   "outputs": [
    {
     "data": {
      "text/plain": [
       "pandas.core.series.Series"
      ]
     },
     "execution_count": 11,
     "metadata": {},
     "output_type": "execute_result"
    }
   ],
   "source": [
    "type( zhihu_text_source )"
   ]
  },
  {
   "cell_type": "code",
   "execution_count": 12,
   "metadata": {
    "collapsed": false
   },
   "outputs": [],
   "source": [
    "zhihu_text_source.to_csv('./zh_text_source.csv', encoding='utf-8', index = False, header=False)"
   ]
  },
  {
   "cell_type": "code",
   "execution_count": 12,
   "metadata": {
    "collapsed": false
   },
   "outputs": [],
   "source": [
    "# zhihu_text_source"
   ]
  },
  {
   "cell_type": "code",
   "execution_count": null,
   "metadata": {
    "collapsed": true
   },
   "outputs": [],
   "source": []
  }
 ],
 "metadata": {
  "kernelspec": {
   "display_name": "Python 2",
   "language": "python",
   "name": "python2"
  },
  "language_info": {
   "codemirror_mode": {
    "name": "ipython",
    "version": 2
   },
   "file_extension": ".py",
   "mimetype": "text/x-python",
   "name": "python",
   "nbconvert_exporter": "python",
   "pygments_lexer": "ipython2",
   "version": "2.7.11"
  }
 },
 "nbformat": 4,
 "nbformat_minor": 0
}
