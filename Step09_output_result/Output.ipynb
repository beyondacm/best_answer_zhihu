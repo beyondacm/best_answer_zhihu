{
 "cells": [
  {
   "cell_type": "code",
   "execution_count": 1,
   "metadata": {
    "collapsed": true
   },
   "outputs": [],
   "source": [
    "import pandas as pd"
   ]
  },
  {
   "cell_type": "code",
   "execution_count": 2,
   "metadata": {
    "collapsed": true
   },
   "outputs": [],
   "source": [
    "data_set = pd.read_csv('./1000x5/Final_Test_Set/Final_Test_03.csv') "
   ]
  },
  {
   "cell_type": "code",
   "execution_count": 3,
   "metadata": {
    "collapsed": false,
    "scrolled": true
   },
   "outputs": [],
   "source": [
    "# data_set # 667 rows × 18 columns"
   ]
  },
  {
   "cell_type": "code",
   "execution_count": 4,
   "metadata": {
    "collapsed": false,
    "scrolled": true
   },
   "outputs": [],
   "source": [
    "output_raw_set = 'Question: ' + data_set['title'] + ' Answer: ' + data_set['txt_content']"
   ]
  },
  {
   "cell_type": "code",
   "execution_count": 5,
   "metadata": {
    "collapsed": false
   },
   "outputs": [],
   "source": [
    "output_raw_set.to_csv('./output_raw.csv')"
   ]
  },
  {
   "cell_type": "code",
   "execution_count": 6,
   "metadata": {
    "collapsed": true
   },
   "outputs": [],
   "source": [
    "# RUN MODEL/MODEL_test.ipynb to generate "
   ]
  },
  {
   "cell_type": "code",
   "execution_count": 7,
   "metadata": {
    "collapsed": true
   },
   "outputs": [],
   "source": [
    "def get_rank_list(filepath) :\n",
    "    with open (filepath) as sort :\n",
    "        rank_list = []\n",
    "        \n",
    "        for line in sort :\n",
    "            rank = int( line.split('_')[1] )\n",
    "            rank_list.append(rank)\n",
    "        \n",
    "        return rank_list"
   ]
  },
  {
   "cell_type": "code",
   "execution_count": 8,
   "metadata": {
    "collapsed": false
   },
   "outputs": [],
   "source": [
    "# INIT rank_list\n",
    "rank_list = get_rank_list('./MODEL/MODEL_Data/RANK/test_0_sorted.txt')"
   ]
  },
  {
   "cell_type": "code",
   "execution_count": 9,
   "metadata": {
    "collapsed": false
   },
   "outputs": [
    {
     "data": {
      "text/plain": [
       "[0, 5, 6, 3, 1, 2, 4]"
      ]
     },
     "execution_count": 9,
     "metadata": {},
     "output_type": "execute_result"
    }
   ],
   "source": [
    "rank_list"
   ]
  },
  {
   "cell_type": "code",
   "execution_count": 10,
   "metadata": {
    "collapsed": false,
    "scrolled": true
   },
   "outputs": [
    {
     "name": "stdout",
     "output_type": "stream",
     "text": [
      "./MODEL/MODEL_Data/RANK/test_1_sorted.txt\n",
      "./MODEL/MODEL_Data/RANK/test_2_sorted.txt\n",
      "./MODEL/MODEL_Data/RANK/test_3_sorted.txt\n",
      "./MODEL/MODEL_Data/RANK/test_4_sorted.txt\n",
      "./MODEL/MODEL_Data/RANK/test_5_sorted.txt\n",
      "./MODEL/MODEL_Data/RANK/test_6_sorted.txt\n",
      "./MODEL/MODEL_Data/RANK/test_7_sorted.txt\n",
      "./MODEL/MODEL_Data/RANK/test_8_sorted.txt\n",
      "./MODEL/MODEL_Data/RANK/test_9_sorted.txt\n",
      "./MODEL/MODEL_Data/RANK/test_10_sorted.txt\n",
      "./MODEL/MODEL_Data/RANK/test_11_sorted.txt\n",
      "./MODEL/MODEL_Data/RANK/test_12_sorted.txt\n",
      "./MODEL/MODEL_Data/RANK/test_13_sorted.txt\n",
      "./MODEL/MODEL_Data/RANK/test_14_sorted.txt\n",
      "./MODEL/MODEL_Data/RANK/test_15_sorted.txt\n",
      "./MODEL/MODEL_Data/RANK/test_16_sorted.txt\n",
      "./MODEL/MODEL_Data/RANK/test_17_sorted.txt\n",
      "./MODEL/MODEL_Data/RANK/test_18_sorted.txt\n",
      "./MODEL/MODEL_Data/RANK/test_19_sorted.txt\n",
      "./MODEL/MODEL_Data/RANK/test_20_sorted.txt\n",
      "./MODEL/MODEL_Data/RANK/test_21_sorted.txt\n",
      "./MODEL/MODEL_Data/RANK/test_22_sorted.txt\n",
      "./MODEL/MODEL_Data/RANK/test_23_sorted.txt\n",
      "./MODEL/MODEL_Data/RANK/test_24_sorted.txt\n",
      "./MODEL/MODEL_Data/RANK/test_25_sorted.txt\n",
      "./MODEL/MODEL_Data/RANK/test_26_sorted.txt\n",
      "./MODEL/MODEL_Data/RANK/test_27_sorted.txt\n",
      "./MODEL/MODEL_Data/RANK/test_28_sorted.txt\n",
      "./MODEL/MODEL_Data/RANK/test_29_sorted.txt\n",
      "./MODEL/MODEL_Data/RANK/test_30_sorted.txt\n",
      "./MODEL/MODEL_Data/RANK/test_31_sorted.txt\n",
      "./MODEL/MODEL_Data/RANK/test_32_sorted.txt\n",
      "./MODEL/MODEL_Data/RANK/test_33_sorted.txt\n",
      "./MODEL/MODEL_Data/RANK/test_34_sorted.txt\n",
      "./MODEL/MODEL_Data/RANK/test_35_sorted.txt\n",
      "./MODEL/MODEL_Data/RANK/test_36_sorted.txt\n",
      "./MODEL/MODEL_Data/RANK/test_37_sorted.txt\n",
      "./MODEL/MODEL_Data/RANK/test_38_sorted.txt\n",
      "./MODEL/MODEL_Data/RANK/test_39_sorted.txt\n",
      "./MODEL/MODEL_Data/RANK/test_40_sorted.txt\n",
      "./MODEL/MODEL_Data/RANK/test_41_sorted.txt\n",
      "./MODEL/MODEL_Data/RANK/test_42_sorted.txt\n",
      "./MODEL/MODEL_Data/RANK/test_43_sorted.txt\n",
      "./MODEL/MODEL_Data/RANK/test_44_sorted.txt\n",
      "./MODEL/MODEL_Data/RANK/test_45_sorted.txt\n",
      "./MODEL/MODEL_Data/RANK/test_46_sorted.txt\n",
      "./MODEL/MODEL_Data/RANK/test_47_sorted.txt\n",
      "./MODEL/MODEL_Data/RANK/test_48_sorted.txt\n",
      "./MODEL/MODEL_Data/RANK/test_49_sorted.txt\n",
      "./MODEL/MODEL_Data/RANK/test_50_sorted.txt\n",
      "./MODEL/MODEL_Data/RANK/test_51_sorted.txt\n",
      "./MODEL/MODEL_Data/RANK/test_52_sorted.txt\n",
      "./MODEL/MODEL_Data/RANK/test_53_sorted.txt\n",
      "./MODEL/MODEL_Data/RANK/test_54_sorted.txt\n",
      "./MODEL/MODEL_Data/RANK/test_55_sorted.txt\n",
      "./MODEL/MODEL_Data/RANK/test_56_sorted.txt\n",
      "./MODEL/MODEL_Data/RANK/test_57_sorted.txt\n",
      "./MODEL/MODEL_Data/RANK/test_58_sorted.txt\n",
      "./MODEL/MODEL_Data/RANK/test_59_sorted.txt\n",
      "./MODEL/MODEL_Data/RANK/test_60_sorted.txt\n",
      "./MODEL/MODEL_Data/RANK/test_61_sorted.txt\n",
      "./MODEL/MODEL_Data/RANK/test_62_sorted.txt\n",
      "./MODEL/MODEL_Data/RANK/test_63_sorted.txt\n",
      "./MODEL/MODEL_Data/RANK/test_64_sorted.txt\n",
      "./MODEL/MODEL_Data/RANK/test_65_sorted.txt\n",
      "./MODEL/MODEL_Data/RANK/test_66_sorted.txt\n",
      "./MODEL/MODEL_Data/RANK/test_67_sorted.txt\n",
      "./MODEL/MODEL_Data/RANK/test_68_sorted.txt\n",
      "./MODEL/MODEL_Data/RANK/test_69_sorted.txt\n",
      "./MODEL/MODEL_Data/RANK/test_70_sorted.txt\n",
      "./MODEL/MODEL_Data/RANK/test_71_sorted.txt\n",
      "./MODEL/MODEL_Data/RANK/test_72_sorted.txt\n",
      "./MODEL/MODEL_Data/RANK/test_73_sorted.txt\n",
      "./MODEL/MODEL_Data/RANK/test_74_sorted.txt\n",
      "./MODEL/MODEL_Data/RANK/test_75_sorted.txt\n",
      "./MODEL/MODEL_Data/RANK/test_76_sorted.txt\n",
      "./MODEL/MODEL_Data/RANK/test_77_sorted.txt\n",
      "./MODEL/MODEL_Data/RANK/test_78_sorted.txt\n",
      "./MODEL/MODEL_Data/RANK/test_79_sorted.txt\n",
      "./MODEL/MODEL_Data/RANK/test_80_sorted.txt\n",
      "./MODEL/MODEL_Data/RANK/test_81_sorted.txt\n",
      "./MODEL/MODEL_Data/RANK/test_82_sorted.txt\n",
      "./MODEL/MODEL_Data/RANK/test_83_sorted.txt\n",
      "./MODEL/MODEL_Data/RANK/test_84_sorted.txt\n",
      "./MODEL/MODEL_Data/RANK/test_85_sorted.txt\n",
      "./MODEL/MODEL_Data/RANK/test_86_sorted.txt\n",
      "./MODEL/MODEL_Data/RANK/test_87_sorted.txt\n",
      "./MODEL/MODEL_Data/RANK/test_88_sorted.txt\n",
      "./MODEL/MODEL_Data/RANK/test_89_sorted.txt\n",
      "./MODEL/MODEL_Data/RANK/test_90_sorted.txt\n",
      "./MODEL/MODEL_Data/RANK/test_91_sorted.txt\n",
      "./MODEL/MODEL_Data/RANK/test_92_sorted.txt\n",
      "./MODEL/MODEL_Data/RANK/test_93_sorted.txt\n",
      "./MODEL/MODEL_Data/RANK/test_94_sorted.txt\n",
      "./MODEL/MODEL_Data/RANK/test_95_sorted.txt\n",
      "./MODEL/MODEL_Data/RANK/test_96_sorted.txt\n",
      "./MODEL/MODEL_Data/RANK/test_97_sorted.txt\n",
      "./MODEL/MODEL_Data/RANK/test_98_sorted.txt\n",
      "./MODEL/MODEL_Data/RANK/test_99_sorted.txt\n"
     ]
    }
   ],
   "source": [
    "for i in range(1,100) :\n",
    "    # print i\n",
    "    fname = 'test_' + str(i) + '_sorted.txt'\n",
    "    filepath = './MODEL/MODEL_Data/RANK/' + fname\n",
    "    print filepath\n",
    "    new_rank_list = get_rank_list(filepath)\n",
    "    # print new_rank_list\n",
    "    new_rank_list = [x+len(rank_list) for x in new_rank_list]\n",
    "    # print new_rank_list\n",
    "    # update rank_list\n",
    "    rank_list = rank_list + new_rank_list"
   ]
  },
  {
   "cell_type": "code",
   "execution_count": 11,
   "metadata": {
    "collapsed": false
   },
   "outputs": [
    {
     "data": {
      "text/plain": [
       "667"
      ]
     },
     "execution_count": 11,
     "metadata": {},
     "output_type": "execute_result"
    }
   ],
   "source": [
    "len( rank_list )"
   ]
  },
  {
   "cell_type": "code",
   "execution_count": 12,
   "metadata": {
    "collapsed": true
   },
   "outputs": [],
   "source": [
    "data_reorder = data_set.take(rank_list)"
   ]
  },
  {
   "cell_type": "code",
   "execution_count": 14,
   "metadata": {
    "collapsed": false,
    "scrolled": true
   },
   "outputs": [],
   "source": [
    "output_pro_set = 'Question: ' + data_reorder['title'] + ' Answer: ' + data_reorder['txt_content']"
   ]
  },
  {
   "cell_type": "code",
   "execution_count": 16,
   "metadata": {
    "collapsed": true
   },
   "outputs": [],
   "source": [
    "output_pro_set.to_csv('./output_pro.csv')"
   ]
  },
  {
   "cell_type": "code",
   "execution_count": null,
   "metadata": {
    "collapsed": true
   },
   "outputs": [],
   "source": []
  }
 ],
 "metadata": {
  "kernelspec": {
   "display_name": "Python 2",
   "language": "python",
   "name": "python2"
  },
  "language_info": {
   "codemirror_mode": {
    "name": "ipython",
    "version": 2
   },
   "file_extension": ".py",
   "mimetype": "text/x-python",
   "name": "python",
   "nbconvert_exporter": "python",
   "pygments_lexer": "ipython2",
   "version": "2.7.11"
  }
 },
 "nbformat": 4,
 "nbformat_minor": 0
}
