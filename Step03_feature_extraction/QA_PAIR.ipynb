{
 "cells": [
  {
   "cell_type": "code",
   "execution_count": 1,
   "metadata": {
    "collapsed": true
   },
   "outputs": [],
   "source": [
    "import pandas as pd"
   ]
  },
  {
   "cell_type": "code",
   "execution_count": 15,
   "metadata": {
    "collapsed": true
   },
   "outputs": [],
   "source": [
    "second_answer = pd.read_csv('./DIVIDE/second_answer.csv')\n",
    "best_similar_01 = pd.read_csv('./DIVIDE/best_similar_01.csv')"
   ]
  },
  {
   "cell_type": "code",
   "execution_count": 14,
   "metadata": {
    "collapsed": false
   },
   "outputs": [],
   "source": [
    "MATCH_QA_PAIR = 'Question :' + second_answer['title'] + '  Answer :' + second_answer['txt_content']\n",
    "MATCH_QA_PAIR.to_csv('./MATCH_QA_PAIR.csv', encoding='utf-8', index = False)"
   ]
  },
  {
   "cell_type": "code",
   "execution_count": 16,
   "metadata": {
    "collapsed": true
   },
   "outputs": [],
   "source": [
    "SIMILAR_QA_PAIR = 'Question :' + best_similar_01['title'] + '  Answer :' + best_similar_01['txt_content']\n",
    "SIMILAR_QA_PAIR.to_csv('./SIMILAR_QA_PAIR.csv', encoding='utf-8', index = False)"
   ]
  },
  {
   "cell_type": "code",
   "execution_count": 13,
   "metadata": {
    "collapsed": false
   },
   "outputs": [
    {
     "data": {
      "text/plain": [
       "0       Question :现在 大多数 会 关注 流浪 猫   流浪狗   却 不会 去 关注 生...\n",
       "1       Question :优秀 的 论坛 是 如何 避免 水化   保持 高质量 内容 的 产生 ...\n",
       "2       Question :乘飞机 时发 的 耳塞 有何 作用    Answer :隔绝 噪音  ...\n",
       "3       Question :怎样 监控 移动 互联网 广告 的 效果    Answer :1  有...\n",
       "4       Question :在 国内   如何 才能 在 android   market 发布 付...\n",
       "5       Question :知乎 为什么     反对     答案 提示 不留 姓名    Ans...\n",
       "6       Question :多高 的 高度 才能 让 人 还 没 摔死 就 已经 饿死 了    A...\n",
       "7       Question :针对 产品 经理 进行 系统 的 课程 培训   支付宝   盛大   ...\n",
       "8       Question :怎么 给   mysql   增加 从 机器 或是 切换 数据库   有...\n",
       "9       Question :在你看来   游戏 这个 行业   包括 网游   单机   手游   ...\n",
       "10      Question :游戏 行业 对 社会 的 价值 在 哪    Answer :游戏 也 ...\n",
       "11      Question :怎么 理解 张小龙 说 的 「 twitter   符合 理想主义   ...\n",
       "12      Question :怎么 知道 那 姑娘 是不是 也 喜欢 我    Answer :跟 她...\n",
       "13      Question :团购 深度 整合 微博 不是 一种 好 形式 吗   新浪 微团 为什么...\n",
       "14      Question :团 p 导航 改名 为 街市   澳洲 电讯 投资   对 业内 有何 ...\n",
       "15      Question :知乎 是否 可以 通过 按 对 问题 的 回答 来 考核 其 是否 被 ...\n",
       "16      Question :文艺复兴   v1v7  com   这样 的 社会化 电子商务 平台 ...\n",
       "17      Question :如果 你 来 做 团购   你 会 怎么 策划   从 哪里 突破 呢 ...\n",
       "18      Question :知乎 的 安卓版 做 得 不好   在   uc   看 也 不行   ...\n",
       "19      Question :如何 在 中国 成为 一个 真正 的 科学家  Answer :有 梦想...\n",
       "20      Question :快 书包 是 如何 做到   免 运费   1 小时 到货   的   ...\n",
       "21      Question :腾讯 为什么 没有 涉足 网络 招聘 服务    Answer :腾讯 ...\n",
       "22      Question :为什么 我 点击 页面 上 的   首页   或   知乎       ...\n",
       "23      Question :支付宝 购买   godaddy   域名 的 过账 时间 要 多久  ...\n",
       "24      Question :港行 的   iphone   4s   可以 买 到 未激活 的 机器...\n",
       "25      Question :一个 人 没有 安排 的 时候   你 会 做 什么    Answer...\n",
       "26      Question :英国 王室 和 英国政府 是 什么 关系   王室 成员 靠 什么 生活...\n",
       "27      Question :有没有 可能 某些 人 找 不到 合适 的 另一半   注定 会 一个 ...\n",
       "28      Question :电脑 诞生 很久 了   而且 现在 在线 支付 也 渐渐 被 越来越 ...\n",
       "29      Question :汽车 垂直 媒体 如 易车网   汽车 之家 等 的 主要 用户 是 有...\n",
       "                              ...                        \n",
       "8211    Question :谷歌 那么 强大 的 数据库   本身 也 是 搜索 领域 的 王者  ...\n",
       "8212    Question :林夕 算不算 华人 史上 最 多产   最高 产 的 作词 人    A...\n",
       "8213    Question :为什么 天津 的 地铁 修着 修着 就 变成 了 轻轨    Answe...\n",
       "8214    Question :产品 经理 是否 需要 了解 和 学习 用户 行为 心理学   如果 需...\n",
       "8215    Question :为什么 朋友 之间 一 见面 就 喜欢 问 工资待遇 呢    Answ...\n",
       "8216    Question :豆瓣 fm 里面 的 音乐 没有 侵犯 版权 吗   类似 的 百度  ...\n",
       "8217    Question :三菱 翼神 这辆 车 怎么样    Answer :推荐 选车 我 首先...\n",
       "8218    Question :毕业生 刚 开始 接触 平面设计 这个 行业   需要 注意 些 什么 ...\n",
       "8219    Question :是不是 所有 的 女人 对 金钱 都 很 重视   要么 爱 花钱 要么...\n",
       "8220    Question :在   ubuntu   下 如何 使用   wine   很 好 地 ...\n",
       "8221    Question :中国 用户 使用 百度 和   google   的 现状 和 差别 是...\n",
       "8222    Question :笨 nana 雪糕 采用 了 怎样 的 线 上 推广 策略   效果 如...\n",
       "8223    Question :当当网 的 商品 真的 全部都是 正品 吗    Answer :不是 ...\n",
       "8224    Question :如何   放得 下      Answer :用 别的 事情   更好 ...\n",
       "8225    Question :所在 平台 重要   还是 带 你 的 老板 重要    Answer ...\n",
       "8226    Question :请问   友情   亲情   爱情 的 关系 以及 轻重 的 差别 是 ...\n",
       "8227    Question :如果 要 从事 项目经理  产品 经理 这 条 职业 道路   需求 的...\n",
       "8228    Question :cba   与   nba   的 差距 在 哪里   是不是   cb...\n",
       "8229    Question :d301   的 行车 记录器 对于 调查 事故 原因 作用 大 吗  ...\n",
       "8230    Question :如何 理解 阮 一峰 在   黑客 与 画家   中 介绍   paul...\n",
       "8231    Question :seo 做 一个 关键词 做 了 3 周 了 还是 上 不 去   网站...\n",
       "8232    Question :戴尔 · 卡内基 说   人 的 成功 只 需 15  的 技术   剩...\n",
       "8233    Question :为什么 米 聊 搞 不过 微信   新浪 微博 却 可以 搞定 腾讯 微...\n",
       "8234    Question :qq 通讯录 包含 了 qq 同步 助手 的 功能   其中 的 q 信...\n",
       "8235    Question :电子商务 专业 需要 考 什么 证    Answer :实践 先找 一...\n",
       "8236    Question :购买 一株 室内 植物   然后 每天 拍 一张 照片   最后 一年 ...\n",
       "8237    Question :有没有 和 大 智慧   钱龙 旗舰 之类 类似 的   但是 用来 观...\n",
       "8238    Question :腾龙 18  200 镜头 怎么样 啊    Answer :我 看过 ...\n",
       "8239    Question :开发 1 年 之久 的 项目   没有 资金 了   该 如何 办   ...\n",
       "8240    Question :  担保法 解释   第 87 条 的 后 半句话   该 如何 理解 ...\n",
       "dtype: object"
      ]
     },
     "execution_count": 13,
     "metadata": {},
     "output_type": "execute_result"
    }
   ],
   "source": [
    "MATCH_QA_PAIR"
   ]
  },
  {
   "cell_type": "code",
   "execution_count": null,
   "metadata": {
    "collapsed": true
   },
   "outputs": [],
   "source": []
  },
  {
   "cell_type": "code",
   "execution_count": null,
   "metadata": {
    "collapsed": true
   },
   "outputs": [],
   "source": []
  },
  {
   "cell_type": "code",
   "execution_count": null,
   "metadata": {
    "collapsed": true
   },
   "outputs": [],
   "source": []
  }
 ],
 "metadata": {
  "kernelspec": {
   "display_name": "Python 2",
   "language": "python",
   "name": "python2"
  },
  "language_info": {
   "codemirror_mode": {
    "name": "ipython",
    "version": 2
   },
   "file_extension": ".py",
   "mimetype": "text/x-python",
   "name": "python",
   "nbconvert_exporter": "python",
   "pygments_lexer": "ipython2",
   "version": "2.7.11"
  }
 },
 "nbformat": 4,
 "nbformat_minor": 0
}
