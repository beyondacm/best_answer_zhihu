{
 "cells": [
  {
   "cell_type": "code",
   "execution_count": 1,
   "metadata": {
    "collapsed": true
   },
   "outputs": [],
   "source": [
    "import pandas as pd\n",
    "import numpy as np\n",
    "import operator\n",
    "import re"
   ]
  },
  {
   "cell_type": "code",
   "execution_count": 2,
   "metadata": {
    "collapsed": true
   },
   "outputs": [],
   "source": [
    "best = pd.read_csv('./DIVIDE/best_answer.csv')\n",
    "second = pd.read_csv('./DIVIDE/second_answer.csv')\n",
    "third = pd.read_csv('./DIVIDE/third_answer.csv')"
   ]
  },
  {
   "cell_type": "code",
   "execution_count": 3,
   "metadata": {
    "collapsed": false
   },
   "outputs": [],
   "source": [
    "init_qid = best['question_id']\n",
    "init_qc = best['title']\n",
    "init_qt = best['tag']"
   ]
  },
  {
   "cell_type": "code",
   "execution_count": 4,
   "metadata": {
    "collapsed": true
   },
   "outputs": [],
   "source": [
    "sampler = np.random.permutation(len(init_qt))"
   ]
  },
  {
   "cell_type": "code",
   "execution_count": 5,
   "metadata": {
    "collapsed": true
   },
   "outputs": [],
   "source": [
    "best_reorder = best.take(sampler)\n",
    "second_reorder = second.take(sampler)\n",
    "third_reorder = third.take(sampler)"
   ]
  },
  {
   "cell_type": "code",
   "execution_count": 6,
   "metadata": {
    "collapsed": true
   },
   "outputs": [],
   "source": [
    "non_match_best = best_reorder.reset_index()\n",
    "non_match_second = second_reorder.reset_index()\n",
    "non_match_third = third_reorder.reset_index()"
   ]
  },
  {
   "cell_type": "code",
   "execution_count": 7,
   "metadata": {
    "collapsed": false
   },
   "outputs": [],
   "source": [
    "# non_match_best"
   ]
  },
  {
   "cell_type": "code",
   "execution_count": 8,
   "metadata": {
    "collapsed": true
   },
   "outputs": [],
   "source": [
    "non_match_best = non_match_best.drop('index', axis=1)\n",
    "non_match_second = non_match_second.drop('index', axis=1)\n",
    "non_match_third = non_match_third.drop('index', axis=1)"
   ]
  },
  {
   "cell_type": "code",
   "execution_count": 9,
   "metadata": {
    "collapsed": true
   },
   "outputs": [],
   "source": [
    "non_match_best['question_id'] = init_qid\n",
    "non_match_best['title'] = init_qc\n",
    "non_match_best['tag'] = init_qt\n",
    "\n",
    "non_match_second['question_id'] = init_qid\n",
    "non_match_second['title'] = init_qc\n",
    "non_match_second['tag'] = init_qt\n",
    "\n",
    "non_match_third['question_id'] = init_qid\n",
    "non_match_third['title'] = init_qc\n",
    "non_match_third['tag'] = init_qt"
   ]
  },
  {
   "cell_type": "code",
   "execution_count": 10,
   "metadata": {
    "collapsed": true
   },
   "outputs": [],
   "source": [
    "non_match_best.to_csv('./DIVIDE/non_match_best.csv', encoding='utf-8', index = False)\n",
    "non_match_second.to_csv('./DIVIDE/non_match_second.csv', encoding='utf-8', index = False)\n",
    "non_match_third.to_csv('./DIVIDE/non_match_third.csv', encoding='utf-8', index = False)"
   ]
  },
  {
   "cell_type": "code",
   "execution_count": null,
   "metadata": {
    "collapsed": true
   },
   "outputs": [],
   "source": []
  }
 ],
 "metadata": {
  "kernelspec": {
   "display_name": "Python 2",
   "language": "python",
   "name": "python2"
  },
  "language_info": {
   "codemirror_mode": {
    "name": "ipython",
    "version": 2
   },
   "file_extension": ".py",
   "mimetype": "text/x-python",
   "name": "python",
   "nbconvert_exporter": "python",
   "pygments_lexer": "ipython2",
   "version": "2.7.11"
  }
 },
 "nbformat": 4,
 "nbformat_minor": 0
}
