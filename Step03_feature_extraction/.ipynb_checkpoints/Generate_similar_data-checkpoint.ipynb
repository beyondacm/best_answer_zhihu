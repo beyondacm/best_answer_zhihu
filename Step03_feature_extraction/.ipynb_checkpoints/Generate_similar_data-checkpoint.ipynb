{
 "cells": [
  {
   "cell_type": "code",
   "execution_count": 1,
   "metadata": {
    "collapsed": false
   },
   "outputs": [],
   "source": [
    "# import graphlab\n",
    "import numpy as np\n",
    "import pandas as pd"
   ]
  },
  {
   "cell_type": "code",
   "execution_count": 2,
   "metadata": {
    "collapsed": false
   },
   "outputs": [],
   "source": [
    "best_answer = pd.read_csv('./DIVIDE/best_answer.csv')\n",
    "second_answer = pd.read_csv('./DIVIDE/second_answer.csv')\n",
    "third_answer = pd.read_csv('./DIVIDE/third_answer.csv')"
   ]
  },
  {
   "cell_type": "code",
   "execution_count": 3,
   "metadata": {
    "collapsed": false,
    "scrolled": true
   },
   "outputs": [],
   "source": [
    "# best_answer"
   ]
  },
  {
   "cell_type": "code",
   "execution_count": 4,
   "metadata": {
    "collapsed": false
   },
   "outputs": [],
   "source": [
    "init_qid = best_answer['question_id']\n",
    "init_qc = best_answer['title']\n",
    "init_qt = best_answer['tag']"
   ]
  },
  {
   "cell_type": "markdown",
   "metadata": {},
   "source": [
    "# Use KNN Model Find Similar Question Content"
   ]
  },
  {
   "cell_type": "code",
   "execution_count": 5,
   "metadata": {
    "collapsed": false
   },
   "outputs": [],
   "source": [
    "question_content = best_answer[['question_id','title', 'tag']] "
   ]
  },
  {
   "cell_type": "code",
   "execution_count": 6,
   "metadata": {
    "collapsed": false
   },
   "outputs": [],
   "source": [
    "# question_content # 21299 rows × 3 columns\n",
    "question_content.to_csv('./Question_Content.csv', encoding='utf-8', index = False)"
   ]
  },
  {
   "cell_type": "code",
   "execution_count": 7,
   "metadata": {
    "collapsed": true
   },
   "outputs": [],
   "source": [
    "# ! python ./similar.py"
   ]
  },
  {
   "cell_type": "code",
   "execution_count": 7,
   "metadata": {
    "collapsed": true
   },
   "outputs": [],
   "source": [
    "def readDict(filename, sep):\n",
    "    with open(filename, \"r\") as f:\n",
    "        dict = {}\n",
    "        for line in f:\n",
    "            values = line.split(sep)\n",
    "            key = values[0]\n",
    "            value = values[1].strip().strip('[').strip(']').split(',')\n",
    "            results = map(int, value)\n",
    "            #dict[values[0]] = {int(x) for x in values[1:len(values)]}\n",
    "            dict[key] = results\n",
    "        return(dict)"
   ]
  },
  {
   "cell_type": "code",
   "execution_count": 8,
   "metadata": {
    "collapsed": false
   },
   "outputs": [],
   "source": [
    "Similar_Qid_List = readDict('./Similar_Qid.csv', ':')"
   ]
  },
  {
   "cell_type": "code",
   "execution_count": 9,
   "metadata": {
    "collapsed": false,
    "scrolled": true
   },
   "outputs": [
    {
     "data": {
      "text/plain": [
       "dict"
      ]
     },
     "execution_count": 9,
     "metadata": {},
     "output_type": "execute_result"
    }
   ],
   "source": [
    "type ( Similar_Qid_List )"
   ]
  },
  {
   "cell_type": "code",
   "execution_count": 10,
   "metadata": {
    "collapsed": false
   },
   "outputs": [],
   "source": [
    "Original_List = []\n",
    "Similar1_List = []\n",
    "Similar2_List = []\n",
    "\n",
    "for i in range( len(question_content) ) :\n",
    "    key = 'Q' + str(i) + '_Similar_List'\n",
    "    value = Similar_Qid_List[key][0]\n",
    "    Original_List.append(value)\n",
    "\n",
    "for i in range( len(question_content) ) :\n",
    "    key = 'Q' + str(i) + '_Similar_List'\n",
    "    value = Similar_Qid_List[key][1]\n",
    "    Similar1_List.append(value)\n",
    "    \n",
    "for i in range( len(question_content) ) :\n",
    "    key = 'Q' + str(i) + '_Similar_List'\n",
    "    value = Similar_Qid_List[key][2]\n",
    "    Similar2_List.append(value)"
   ]
  },
  {
   "cell_type": "code",
   "execution_count": 17,
   "metadata": {
    "collapsed": false,
    "scrolled": false
   },
   "outputs": [],
   "source": [
    "# len( Original_List ) # 8241\n",
    "# len( Similar1_List ) # 8241\n",
    "# len( Similar2_List ) # 8241"
   ]
  },
  {
   "cell_type": "code",
   "execution_count": 18,
   "metadata": {
    "collapsed": false
   },
   "outputs": [],
   "source": [
    "# best_answer[ best_answer['question_id'] == 20278179]['title']"
   ]
  },
  {
   "cell_type": "code",
   "execution_count": 19,
   "metadata": {
    "collapsed": false
   },
   "outputs": [],
   "source": [
    "# best_answer"
   ]
  },
  {
   "cell_type": "code",
   "execution_count": 20,
   "metadata": {
    "collapsed": true
   },
   "outputs": [],
   "source": [
    "# Format Similar_DataSet using qid in similar_list \n",
    "# replace similar_list with original qid / question_content / question_tags but with different answers\n",
    "def Get_Similar_DataSet( DataSet, Similar_List ) :\n",
    "    # Generate\n",
    "    Similar_DataSet = DataSet[ DataSet['question_id'] == Similar_List[0] ] \n",
    "    for i in range(1, len(Similar_List)) :\n",
    "        Similar_DataSet = Similar_DataSet.append( DataSet[ DataSet['question_id'] == Similar_List[i] ] )\n",
    "    # Reset index\n",
    "    Similar_DataSet = Similar_DataSet.reset_index()\n",
    "    Similar_DataSet = Similar_DataSet.drop('index', axis=1)\n",
    "    # Replace Question_id / Question_content / Question_tags\n",
    "    Similar_DataSet['question_id'] = init_qid\n",
    "    Similar_DataSet['title'] = init_qc\n",
    "    Similar_DataSet['tag'] = init_qt\n",
    "    \n",
    "    return Similar_DataSet    "
   ]
  },
  {
   "cell_type": "code",
   "execution_count": 21,
   "metadata": {
    "collapsed": true
   },
   "outputs": [],
   "source": [
    "Similar_best01 = Get_Similar_DataSet( best_answer, Similar1_List )"
   ]
  },
  {
   "cell_type": "code",
   "execution_count": 22,
   "metadata": {
    "collapsed": true
   },
   "outputs": [],
   "source": [
    "Similar_second01 = Get_Similar_DataSet( second_answer, Similar1_List ) "
   ]
  },
  {
   "cell_type": "code",
   "execution_count": 23,
   "metadata": {
    "collapsed": true
   },
   "outputs": [],
   "source": [
    "Similar_third01 = Get_Similar_DataSet( third_answer, Similar1_List )"
   ]
  },
  {
   "cell_type": "code",
   "execution_count": 24,
   "metadata": {
    "collapsed": true
   },
   "outputs": [],
   "source": [
    "Similar_best02 = Get_Similar_DataSet( best_answer, Similar2_List )"
   ]
  },
  {
   "cell_type": "code",
   "execution_count": 25,
   "metadata": {
    "collapsed": true
   },
   "outputs": [],
   "source": [
    "Similar_second02 = Get_Similar_DataSet( second_answer, Similar2_List )"
   ]
  },
  {
   "cell_type": "code",
   "execution_count": 26,
   "metadata": {
    "collapsed": true
   },
   "outputs": [],
   "source": [
    "Similar_third02 = Get_Similar_DataSet( third_answer, Similar2_List )"
   ]
  },
  {
   "cell_type": "code",
   "execution_count": 27,
   "metadata": {
    "collapsed": true
   },
   "outputs": [],
   "source": [
    "Similar_best01.to_csv( './DIVIDE/best_similar_01.csv', encoding='utf-8', index = False)\n",
    "Similar_second01.to_csv( './DIVIDE/second_similar_01.csv', encoding='utf-8', index = False)\n",
    "Similar_third01.to_csv( './DIVIDE/third_similar_01.csv', encoding='utf-8', index = False)"
   ]
  },
  {
   "cell_type": "code",
   "execution_count": 28,
   "metadata": {
    "collapsed": true
   },
   "outputs": [],
   "source": [
    "Similar_best02.to_csv( './DIVIDE/best_similar_02.csv', encoding='utf-8', index = False)\n",
    "Similar_second02.to_csv( './DIVIDE/second_similar_02.csv', encoding='utf-8', index = False)\n",
    "Similar_third02.to_csv( './DIVIDE/third_similar_02.csv', encoding='utf-8', index = False)"
   ]
  },
  {
   "cell_type": "code",
   "execution_count": null,
   "metadata": {
    "collapsed": true
   },
   "outputs": [],
   "source": []
  }
 ],
 "metadata": {
  "kernelspec": {
   "display_name": "Python 2",
   "language": "python",
   "name": "python2"
  },
  "language_info": {
   "codemirror_mode": {
    "name": "ipython",
    "version": 2
   },
   "file_extension": ".py",
   "mimetype": "text/x-python",
   "name": "python",
   "nbconvert_exporter": "python",
   "pygments_lexer": "ipython2",
   "version": "2.7.11"
  }
 },
 "nbformat": 4,
 "nbformat_minor": 0
}
