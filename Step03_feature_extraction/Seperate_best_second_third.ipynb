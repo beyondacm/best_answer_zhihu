{
 "cells": [
  {
   "cell_type": "code",
   "execution_count": 1,
   "metadata": {
    "collapsed": true
   },
   "outputs": [],
   "source": [
    "import pandas as pd\n",
    "import numpy as np\n",
    "import operator\n",
    "import re"
   ]
  },
  {
   "cell_type": "code",
   "execution_count": 2,
   "metadata": {
    "collapsed": false,
    "scrolled": true
   },
   "outputs": [],
   "source": [
    "error_qid = []\n",
    "num_qid = 1\n",
    "with open('./zh_train.csv') as fin :\n",
    "    line = fin.readline()\n",
    "    \n",
    "    line = fin.readline()\n",
    "    info = line.strip().split(',')\n",
    "    qid = info[3]\n",
    "    # print qid\n",
    "    \n",
    "    line = fin.readline()\n",
    "    \n",
    "    while line :\n",
    "        info = line.strip().split(',')\n",
    "        qid_next = info[3]\n",
    "        # print qid_next\n",
    "        # Same question different answers\n",
    "        if qid_next == qid :\n",
    "            num_qid += 1\n",
    "        else :\n",
    "        # another question start update qid & fout1\n",
    "            if num_qid < 5 :\n",
    "                error_qid.append( qid )\n",
    "            num_qid = 1\n",
    "            qid = info[3]\n",
    "            \n",
    "        line = fin.readline() "
   ]
  },
  {
   "cell_type": "code",
   "execution_count": 5,
   "metadata": {
    "collapsed": false,
    "scrolled": true
   },
   "outputs": [],
   "source": [
    "# len( error_qid ) # 87"
   ]
  },
  {
   "cell_type": "markdown",
   "metadata": {},
   "source": [
    "# Remove error_qid from zh_train"
   ]
  },
  {
   "cell_type": "code",
   "execution_count": 6,
   "metadata": {
    "collapsed": false
   },
   "outputs": [],
   "source": [
    "with open('./zh_train.csv', 'r') as fin, \\\n",
    "    open('./zh_train_pro.csv', 'w') as fout:\n",
    "        for line in fin :\n",
    "            \n",
    "            info = line.strip().split(',')\n",
    "            qid = info[3] \n",
    "            if qid in error_qid :\n",
    "                continue\n",
    "            \n",
    "            fout.write(line)"
   ]
  },
  {
   "cell_type": "markdown",
   "metadata": {},
   "source": [
    "# Divide"
   ]
  },
  {
   "cell_type": "code",
   "execution_count": 7,
   "metadata": {
    "collapsed": true
   },
   "outputs": [],
   "source": [
    "# fin : input file\n",
    "# fout1 : ex : best_answer.csv\n",
    "# fout2 : ex : nonbest_answer.csv\n",
    "def divide(fin, fout1, fout2) :\n",
    "    # read the title\n",
    "    line = fin.readline().strip()\n",
    "    fout1.write(line + '\\n')\n",
    "    fout2.write(line + '\\n')\n",
    "    #print line\n",
    "\n",
    "    line = fin.readline()\n",
    "    info = line.strip().split(',')\n",
    "    qid = info[3]\n",
    "    #print line\n",
    "    #print qid\n",
    "    fout1.write(line)\n",
    "    line = fin.readline()\n",
    "\n",
    "    while line:\n",
    "        \n",
    "        info = line.strip().split(',')\n",
    "        qid_next = info[3]\n",
    "        # print qid_next\n",
    "        # Same question different answers\n",
    "        if qid_next == qid :\n",
    "            fout2.write(line)\n",
    "        else :\n",
    "        # another question start update qid & fout1\n",
    "            qid = info[3]\n",
    "            fout1.write(line)\n",
    "            \n",
    "        line = fin.readline()     "
   ]
  },
  {
   "cell_type": "code",
   "execution_count": 8,
   "metadata": {
    "collapsed": false
   },
   "outputs": [],
   "source": [
    "# Run these code the first time\n",
    "# Do the divide : divide best_answer.csv & nonbest_answer.csv\n",
    "try :\n",
    "    with open('./zh_train_pro.csv', 'r') as fin, \\\n",
    "         open('./DIVIDE/best_answer.csv', 'w') as fout1, \\\n",
    "         open('./DIVIDE/nonbest_answer.csv', 'w') as fout2:\n",
    "                divide(fin, fout1, fout2)\n",
    "except IOError as e:\n",
    "    print 'Operation failed: %s' % e.strerror"
   ]
  },
  {
   "cell_type": "code",
   "execution_count": 9,
   "metadata": {
    "collapsed": true
   },
   "outputs": [],
   "source": [
    "# Run these code the seconde time \n",
    "# Do the divide : divide second_answer.csv & nonsecond_answer.csv from nonbest_answer.csv\n",
    "try :\n",
    "    with open('DIVIDE/nonbest_answer.csv', 'r') as fin, \\\n",
    "         open('DIVIDE/second_answer.csv', 'w') as fout1, \\\n",
    "         open('DIVIDE/nonsecond_answer.csv', 'w') as fout2:\n",
    "                divide(fin, fout1, fout2)\n",
    "except IOError as e:\n",
    "    print 'Operation failed: %s' % e.strerror"
   ]
  },
  {
   "cell_type": "code",
   "execution_count": 10,
   "metadata": {
    "collapsed": true
   },
   "outputs": [],
   "source": [
    "# Run these code the third time \n",
    "# Do the divide : divide third_answer.csv & nonthird_answer.csv from nonsecond_answer.csv\n",
    "try :\n",
    "    with open('DIVIDE/nonsecond_answer.csv', 'r') as fin, \\\n",
    "         open('DIVIDE/third_answer.csv', 'w') as fout1, \\\n",
    "         open('DIVIDE/nonthird_answer.csv', 'w') as fout2:\n",
    "                divide(fin, fout1, fout2)\n",
    "except IOError as e:\n",
    "    print 'Operation failed: %s' % e.strerror"
   ]
  },
  {
   "cell_type": "code",
   "execution_count": 11,
   "metadata": {
    "collapsed": false
   },
   "outputs": [],
   "source": [
    "best_answer = pd.read_csv('./DIVIDE/best_answer.csv')\n",
    "second_answer = pd.read_csv('./DIVIDE/second_answer.csv')\n",
    "third_answer = pd.read_csv('./DIVIDE/third_answer.csv')"
   ]
  },
  {
   "cell_type": "code",
   "execution_count": 15,
   "metadata": {
    "collapsed": false,
    "scrolled": true
   },
   "outputs": [],
   "source": [
    "# best_answer # 8241 rows × 18 columns\n",
    "# second_answer # 8241 rows × 18 columns\n",
    "# third_answer # 8241 rows × 18 columns"
   ]
  },
  {
   "cell_type": "code",
   "execution_count": null,
   "metadata": {
    "collapsed": true
   },
   "outputs": [],
   "source": []
  }
 ],
 "metadata": {
  "kernelspec": {
   "display_name": "Python 2",
   "language": "python",
   "name": "python2"
  },
  "language_info": {
   "codemirror_mode": {
    "name": "ipython",
    "version": 2
   },
   "file_extension": ".py",
   "mimetype": "text/x-python",
   "name": "python",
   "nbconvert_exporter": "python",
   "pygments_lexer": "ipython2",
   "version": "2.7.11"
  }
 },
 "nbformat": 4,
 "nbformat_minor": 0
}
