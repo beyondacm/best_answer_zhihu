{
 "cells": [
  {
   "cell_type": "code",
   "execution_count": 1,
   "metadata": {
    "collapsed": true
   },
   "outputs": [],
   "source": [
    "import pandas as pd\n",
    "import numpy as np\n",
    "from numpy import array"
   ]
  },
  {
   "cell_type": "code",
   "execution_count": 2,
   "metadata": {
    "collapsed": true
   },
   "outputs": [],
   "source": [
    "def get_coefficients( File ) :\n",
    "    coefficients = []\n",
    "    with open(File, 'r') as model :\n",
    "        for line in model :\n",
    "            # performance = line.split(',')[0]\n",
    "            coefficient = line.split(',')[1:]\n",
    "            coefficient = [float(i) for i in coefficient]\n",
    "            coefficients.append(coefficient)\n",
    "    return coefficients"
   ]
  },
  {
   "cell_type": "code",
   "execution_count": 3,
   "metadata": {
    "collapsed": false
   },
   "outputs": [],
   "source": [
    "# len( coefficients )"
   ]
  },
  {
   "cell_type": "code",
   "execution_count": 4,
   "metadata": {
    "collapsed": false
   },
   "outputs": [],
   "source": [
    "model_coefficients_g = get_coefficients( './Tuning_g_Model.csv' )"
   ]
  },
  {
   "cell_type": "code",
   "execution_count": 5,
   "metadata": {
    "collapsed": false
   },
   "outputs": [
    {
     "data": {
      "text/plain": [
       "37"
      ]
     },
     "execution_count": 5,
     "metadata": {},
     "output_type": "execute_result"
    }
   ],
   "source": [
    "len( model_coefficients_g )"
   ]
  },
  {
   "cell_type": "code",
   "execution_count": 6,
   "metadata": {
    "collapsed": true
   },
   "outputs": [],
   "source": [
    "import os \n",
    "PATH_MODEL_DATA = './MODEL_TEST_DATA/Final_Test/' \n",
    "PATH_MODEL_RANK = './MODEL_TEST_DATA/RANK/'\n",
    "PATH_MODEL_RESULT = './MODEL_TEST_DATA/RESULT/'\n",
    "FILE_LIST_LEN = 100"
   ]
  },
  {
   "cell_type": "code",
   "execution_count": 7,
   "metadata": {
    "collapsed": true
   },
   "outputs": [],
   "source": [
    "# type(w) : numpy.ndarray\n",
    "# w.shape : 114 x 1\n",
    "\n",
    "def score(coefficients, answer0, answer1):\n",
    "    sub = answer0 - answer1\n",
    "    score = sub.dot(coefficients)\n",
    "    if score >= 0:\n",
    "        return 1\n",
    "    else :\n",
    "        return -1"
   ]
  },
  {
   "cell_type": "code",
   "execution_count": 8,
   "metadata": {
    "collapsed": true
   },
   "outputs": [],
   "source": [
    "# test0\n",
    "# answer_i.shape\n",
    "import operator\n",
    "import collections, math\n",
    "\n",
    "def Rank_List( AnswerList, coefficients ):\n",
    "    Score_Map = collections.defaultdict(lambda : 0)\n",
    "    for i in range( len(AnswerList) - 1 ):\n",
    "\n",
    "        for j in range(i+1, len(AnswerList) ):\n",
    "\n",
    "            #print (i, j)\n",
    "\n",
    "            answer_i = array( AnswerList.iloc[[i]].values.tolist()[0] )\n",
    "            answer_j = array( AnswerList.iloc[[j]].values.tolist()[0] )\n",
    "\n",
    "            key_i = 'A_' + str(i) + '_score'\n",
    "            key_j = 'A_' + str(j) + '_score'\n",
    "\n",
    "            value_i = 0\n",
    "            value_j = 0\n",
    "            value_i += score(coefficients, answer_i, answer_j) \n",
    "            value_j -= score(coefficients, answer_i, answer_j)\n",
    "\n",
    "            Score_Map[key_i] += value_i\n",
    "            Score_Map[key_j] += value_j\n",
    "    \n",
    "    return Score_Map\n",
    "    # Sorted_scores = sorted(Score_Map.items(), key=operator.itemgetter(1), reverse=True)\n",
    "    # return Sorted_scores  "
   ]
  },
  {
   "cell_type": "code",
   "execution_count": 9,
   "metadata": {
    "collapsed": true
   },
   "outputs": [],
   "source": [
    "def writeDict(Dict, filename, sep):\n",
    "    with open(filename, \"w\") as f:\n",
    "#        for key in dict.keys():            \n",
    "#            f.write(str(key) + \":\" + str(dict[key]) + \"\\n\")\n",
    "        for key, value in sorted( Dict.items() ):\n",
    "            f.write( str(key) + sep + str(value) + '\\n' )\n",
    "\n",
    "def writeList(List, filename) :\n",
    "    with open(filename, 'w') as f:\n",
    "        for i in range( len(List) ) :\n",
    "            # print List[i][0]\n",
    "            # print List[i][1]\n",
    "            f.write( str(List[i][0]) + ':' + str(List[i][1]) + '\\n')\n",
    "            \n",
    "def readDict(filename, sep):\n",
    "    with open(filename, \"r\") as f:\n",
    "        dict = {}\n",
    "        for line in f:\n",
    "            values = line.split(sep)\n",
    "            key = values[0]\n",
    "            value = int(values[1])\n",
    "            #value = values[1].split(',')\n",
    "            #dict[values[0]] = {int(x) for x in values[1:len(values)]}\n",
    "            dict[key] = value\n",
    "        return dict "
   ]
  },
  {
   "cell_type": "code",
   "execution_count": 10,
   "metadata": {
    "collapsed": false
   },
   "outputs": [],
   "source": [
    "# Answer_Rank = []\n",
    "import operator\n",
    "\n",
    "def update_RankList( data_path, coefficients, file_list_len = FILE_LIST_LEN, path_out = PATH_MODEL_RANK):\n",
    "\n",
    "    for i in range(file_list_len) :\n",
    "        input_file_name = 'test_' + str(i) + '.csv'\n",
    "        # print input_file_name\n",
    "        test_i = pd.read_csv(data_path + input_file_name , header=None)\n",
    "        test_i = test_i.fillna(0)\n",
    "\n",
    "        output_file_name_01 = 'test_' + str(i) + '_dict.txt'\n",
    "        output_file_name_02 = 'test_' + str(i) + '_sorted.txt'\n",
    "\n",
    "        # Rank test_i with given coefficients\n",
    "        Ai_List = Rank_List(test_i, coefficients)\n",
    "        Ai_Sorted = sorted(Ai_List.items(), key=operator.itemgetter(1), reverse=True)\n",
    "\n",
    "        writeDict( Ai_List  , path_out  + output_file_name_01, ':')\n",
    "        writeList( Ai_Sorted, path_out  + output_file_name_02 )\n",
    "    # print Rank_List(test_i) "
   ]
  },
  {
   "cell_type": "code",
   "execution_count": 11,
   "metadata": {
    "collapsed": true
   },
   "outputs": [],
   "source": [
    "# row 代表读取文件的第几行\n",
    "# rank 代表要匹配这一行的答案\n",
    "# 判断 sorted file 某一行的答案是否是 answer0\n",
    "def hit( sorted_file , row, rank = 0, path_in = PATH_MODEL_RANK) :\n",
    "    # print type(rank)\n",
    "    hit = 0\n",
    "    with open( path_in + sorted_file, 'r') as f:\n",
    "        \n",
    "        while( int(row) > 0) :\n",
    "            # print row\n",
    "            f.readline()\n",
    "            row = row - 1\n",
    "        \n",
    "        answer = f.readline()\n",
    "        # print answer\n",
    "        answer_key = answer.split(':')[0]\n",
    "        # print answer_key\n",
    "        answer_rank = answer_key.split('_')[1]\n",
    "        # print answer_rank\n",
    "        if int(rank) == int(answer_rank) :\n",
    "                hit = 1\n",
    "        else :\n",
    "            hit = 0\n",
    "    return hit"
   ]
  },
  {
   "cell_type": "code",
   "execution_count": 12,
   "metadata": {
    "collapsed": true
   },
   "outputs": [],
   "source": [
    "def calculate_p_at_k( fout, file_list_len = FILE_LIST_LEN, path_out = PATH_MODEL_RESULT ) :    \n",
    "    answer0_hit_0 = 0\n",
    "    answer0_hit_1 = 0\n",
    "    answer0_hit_2 = 0\n",
    "    answer0_hit_3 = 0\n",
    "    answer0_hit_4 = 0\n",
    "\n",
    "    p_at_k = {}\n",
    "\n",
    "    for i in range(file_list_len) :\n",
    "\n",
    "        test_sorted = 'test_' + str(i) + '_sorted.txt'\n",
    "\n",
    "        answer0_hit_0 += hit( test_sorted, 0)\n",
    "        answer0_hit_1 += hit( test_sorted, 1)\n",
    "        answer0_hit_2 += hit( test_sorted, 2)\n",
    "        answer0_hit_3 += hit( test_sorted, 3)\n",
    "        answer0_hit_4 += hit( test_sorted, 4) \n",
    "    \n",
    "    p_at_k['p@1'] = answer0_hit_0\n",
    "    p_at_k['p@2'] = p_at_k['p@1'] + answer0_hit_1\n",
    "    p_at_k['p@3'] = p_at_k['p@2'] + answer0_hit_2\n",
    "    p_at_k['p@4'] = p_at_k['p@3'] + answer0_hit_3\n",
    "    p_at_k['p@5'] = p_at_k['p@4'] + answer0_hit_4\n",
    "    \n",
    "    writeDict( p_at_k  , path_out  + fout , ':')\n",
    "    return p_at_k"
   ]
  },
  {
   "cell_type": "code",
   "execution_count": 13,
   "metadata": {
    "collapsed": false
   },
   "outputs": [
    {
     "name": "stdout",
     "output_type": "stream",
     "text": [
      "coefficients_g_1\n",
      "coefficients_g_2\n",
      "coefficients_g_3\n",
      "coefficients_g_4\n",
      "coefficients_g_5\n",
      "coefficients_g_6\n",
      "coefficients_g_7\n",
      "coefficients_g_8\n",
      "coefficients_g_9\n",
      "coefficients_g_10\n",
      "coefficients_g_11\n",
      "coefficients_g_12\n",
      "coefficients_g_13\n",
      "coefficients_g_14\n",
      "coefficients_g_15\n",
      "coefficients_g_16\n",
      "coefficients_g_17\n",
      "coefficients_g_18\n",
      "coefficients_g_19\n",
      "coefficients_g_20\n",
      "coefficients_g_21\n",
      "coefficients_g_22\n",
      "coefficients_g_23\n",
      "coefficients_g_24\n",
      "coefficients_g_25\n",
      "coefficients_g_26\n",
      "coefficients_g_27\n",
      "coefficients_g_28\n",
      "coefficients_g_29\n",
      "coefficients_g_30\n",
      "coefficients_g_31\n",
      "coefficients_g_32\n",
      "coefficients_g_33\n",
      "coefficients_g_34\n",
      "coefficients_g_35\n",
      "coefficients_g_36\n",
      "coefficients_g_37\n"
     ]
    }
   ],
   "source": [
    "for i in range( len(model_coefficients_g) ) :\n",
    "    data_path = './MODEL_TEST_DATA/Final_Test/'\n",
    "    file_list = os.listdir(data_path)\n",
    "    # int file_list\n",
    "    coe = model_coefficients_g[i]\n",
    "    update_RankList( data_path, coe )\n",
    "    fout = 'coefficients_g_' + str(i+1)\n",
    "    print fout\n",
    "    p_at_k = calculate_p_at_k( fout )"
   ]
  },
  {
   "cell_type": "code",
   "execution_count": 14,
   "metadata": {
    "collapsed": true
   },
   "outputs": [],
   "source": [
    "model_coefficients_u = get_coefficients( './Tuning_u_Model.csv' )"
   ]
  },
  {
   "cell_type": "code",
   "execution_count": 15,
   "metadata": {
    "collapsed": false
   },
   "outputs": [
    {
     "data": {
      "text/plain": [
       "19"
      ]
     },
     "execution_count": 15,
     "metadata": {},
     "output_type": "execute_result"
    }
   ],
   "source": [
    "len( model_coefficients_u )"
   ]
  },
  {
   "cell_type": "code",
   "execution_count": 16,
   "metadata": {
    "collapsed": false
   },
   "outputs": [
    {
     "name": "stdout",
     "output_type": "stream",
     "text": [
      "coefficients_u_1\n",
      "coefficients_u_2\n",
      "coefficients_u_3\n",
      "coefficients_u_4\n",
      "coefficients_u_5\n",
      "coefficients_u_6\n",
      "coefficients_u_7\n",
      "coefficients_u_8\n",
      "coefficients_u_9\n",
      "coefficients_u_10\n",
      "coefficients_u_11\n",
      "coefficients_u_12\n",
      "coefficients_u_13\n",
      "coefficients_u_14\n",
      "coefficients_u_15\n",
      "coefficients_u_16\n",
      "coefficients_u_17\n",
      "coefficients_u_18\n",
      "coefficients_u_19\n"
     ]
    }
   ],
   "source": [
    "for i in range( len(model_coefficients_u) ) :\n",
    "    data_path = './MODEL_TEST_DATA/Final_Test/'\n",
    "    file_list = os.listdir(data_path)\n",
    "    # int file_list\n",
    "    coe = model_coefficients_g[i]\n",
    "    update_RankList( data_path, coe )\n",
    "    fout = 'coefficients_u_' + str(i+1)\n",
    "    print fout\n",
    "    p_at_k = calculate_p_at_k( fout )"
   ]
  },
  {
   "cell_type": "code",
   "execution_count": null,
   "metadata": {
    "collapsed": true
   },
   "outputs": [],
   "source": []
  }
 ],
 "metadata": {
  "kernelspec": {
   "display_name": "Python 2",
   "language": "python",
   "name": "python2"
  },
  "language_info": {
   "codemirror_mode": {
    "name": "ipython",
    "version": 2
   },
   "file_extension": ".py",
   "mimetype": "text/x-python",
   "name": "python",
   "nbconvert_exporter": "python",
   "pygments_lexer": "ipython2",
   "version": "2.7.11"
  }
 },
 "nbformat": 4,
 "nbformat_minor": 0
}
