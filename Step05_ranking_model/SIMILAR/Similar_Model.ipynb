{
 "cells": [
  {
   "cell_type": "code",
   "execution_count": 1,
   "metadata": {
    "collapsed": false
   },
   "outputs": [
    {
     "name": "stderr",
     "output_type": "stream",
     "text": [
      "A newer version of GraphLab Create (v1.9) is available! Your current version is v1.8.5.\n",
      "\n",
      "You can use pip to upgrade the graphlab-create package. For more information see https://dato.com/products/create/upgrade.\n"
     ]
    }
   ],
   "source": [
    "import graphlab\n",
    "import numpy as np\n",
    "import pandas as pd"
   ]
  },
  {
   "cell_type": "code",
   "execution_count": 2,
   "metadata": {
    "collapsed": true
   },
   "outputs": [],
   "source": [
    "Total_Test = pd.read_csv(\"../zh_test.csv\")\n",
    "Total_Test = Total_Test.drop_duplicates() # 63695 rows × 18 columns\n",
    "# Total_Test = Total_Test.fillna(0)\n",
    "Total_Test['question_id'] = Total_Test['question_id'].astype(str)"
   ]
  },
  {
   "cell_type": "code",
   "execution_count": 3,
   "metadata": {
    "collapsed": true
   },
   "outputs": [],
   "source": [
    "been_voted = Total_Test[ Total_Test['n_vote'] > 0 ]\n",
    "un_voted = Total_Test[ Total_Test['n_vote'] == 0 ]\n",
    "been_voted.to_csv('./Been_Voted.csv', encoding='utf-8', index = False)"
   ]
  },
  {
   "cell_type": "code",
   "execution_count": 4,
   "metadata": {
    "collapsed": false,
    "scrolled": true
   },
   "outputs": [],
   "source": [
    "# been_voted # 18065 rows × 18 columns\n",
    "# un_voted   # 45630 rows × 18 columns\n",
    "been_voted = pd.read_csv('./Been_Voted.csv')\n",
    "been_voted_qid = been_voted['question_id']"
   ]
  },
  {
   "cell_type": "code",
   "execution_count": 5,
   "metadata": {
    "collapsed": false
   },
   "outputs": [],
   "source": [
    "# been_voted_qid[0]"
   ]
  },
  {
   "cell_type": "markdown",
   "metadata": {},
   "source": [
    "# Use KNN Model Find Similar Question Content"
   ]
  },
  {
   "cell_type": "code",
   "execution_count": 6,
   "metadata": {
    "collapsed": false
   },
   "outputs": [],
   "source": [
    "question_content = Total_Test[['question_id','title', 'tag']] \n",
    "question_content = question_content.drop_duplicates('question_id')\n",
    "question_content.to_csv('./Question_Content.csv', encoding='utf-8', index = False)"
   ]
  },
  {
   "cell_type": "markdown",
   "metadata": {},
   "source": [
    "# Run similar.py to Generate Similar_Qid"
   ]
  },
  {
   "cell_type": "code",
   "execution_count": 13,
   "metadata": {
    "collapsed": true
   },
   "outputs": [],
   "source": [
    "# run similar.py to generate Similar_Qid.csv"
   ]
  },
  {
   "cell_type": "markdown",
   "metadata": {
    "collapsed": true
   },
   "source": [
    "# Use Similar_Qid to generate Similar_Index"
   ]
  },
  {
   "cell_type": "code",
   "execution_count": 17,
   "metadata": {
    "collapsed": true
   },
   "outputs": [],
   "source": [
    "def Seperate_Similar_k( fname, k ) :\n",
    "    with open( './Similar_Qid.csv', 'r') as fin, \\\n",
    "        open( fname, 'w') as fout:\n",
    "        for line in fin :\n",
    "            # line = f.readline()\n",
    "            # print line\n",
    "            similar_k = line.strip().split(',')[0:k]\n",
    "            fout.write(','.join(similar_k))\n",
    "            fout.write('\\n')"
   ]
  },
  {
   "cell_type": "code",
   "execution_count": 18,
   "metadata": {
    "collapsed": true
   },
   "outputs": [],
   "source": [
    "Seperate_Similar_k('./1000x5/Similar_Qid.csv', 5)\n",
    "Seperate_Similar_k('./1000x6/Similar_Qid.csv', 6)\n",
    "Seperate_Similar_k('./1000x7/Similar_Qid.csv', 7)\n",
    "Seperate_Similar_k('./1000x8/Similar_Qid.csv', 8)\n",
    "Seperate_Similar_k('./1000x9/Similar_Qid.csv', 9)\n",
    "Seperate_Similar_k('./1000x10/Similar_Qid.csv', 10)"
   ]
  },
  {
   "cell_type": "code",
   "execution_count": 19,
   "metadata": {
    "collapsed": true
   },
   "outputs": [],
   "source": [
    "def Get_Index_QuestionID(qid) :\n",
    "    return Total_Test[ Total_Test['question_id'] == qid].index.values"
   ]
  },
  {
   "cell_type": "code",
   "execution_count": 28,
   "metadata": {
    "collapsed": true
   },
   "outputs": [],
   "source": [
    "def Get_IndexList(Q_List) :\n",
    "    IndexList = []\n",
    "    for qid in Q_List:\n",
    "        indexes = Get_Index_QuestionID( str(qid) )\n",
    "        if len(indexes) == 0:\n",
    "            indexes = Get_Index_QuestionID( qid )\n",
    "        # print qid, indexes\n",
    "        for index in indexes:\n",
    "            IndexList.append(index)\n",
    "            # print len( IndexList )\n",
    "    return IndexList"
   ]
  },
  {
   "cell_type": "code",
   "execution_count": 29,
   "metadata": {
    "collapsed": true
   },
   "outputs": [],
   "source": [
    "# From Similar Qid List Found Similar Index\n",
    "def Get_Index_SimilarQID( Similar_Qid_List ) :\n",
    "    Similar_Index_List = {}\n",
    "    for i in range( len(Similar_Qid_List) ) :\n",
    "        key = 'Q' + str(i) + '_Similar_List'\n",
    "        # value is a list of similar qid\n",
    "        Qid_List = Similar_Qid_List[key]\n",
    "        Index_List = Get_IndexList(Qid_List)\n",
    "        Similar_Index_List[key]  = Index_List\n",
    "    \n",
    "    return Similar_Index_List"
   ]
  },
  {
   "cell_type": "code",
   "execution_count": 37,
   "metadata": {
    "collapsed": true
   },
   "outputs": [],
   "source": [
    "def readDict(filename, sep):\n",
    "    with open(filename, \"r\") as f:\n",
    "        dict = {}\n",
    "        for line in f:\n",
    "            values = line.split(sep)\n",
    "            key = values[0]\n",
    "            value = values[1].strip().strip('[').strip(']').split(',')\n",
    "            results = map(int, value)\n",
    "            #dict[values[0]] = {int(x) for x in values[1:len(values)]}\n",
    "            dict[key] = results\n",
    "        return(dict)\n",
    "\n",
    "    \n",
    "\n",
    "def writeDict(Dict, filename, sep) :\n",
    "    with open(filename, 'w') as f:\n",
    "        for key,value in sorted( Dict.items() ) :\n",
    "            f.write( str(key) + sep + str(value) + '\\n')"
   ]
  },
  {
   "cell_type": "code",
   "execution_count": 31,
   "metadata": {
    "collapsed": true
   },
   "outputs": [],
   "source": [
    "Similar_5_Qid = readDict('./1000x5/Similar_Qid.csv', ':')\n",
    "Similar_5_Index = Get_Index_SimilarQID( Similar_5_Qid )"
   ]
  },
  {
   "cell_type": "code",
   "execution_count": 39,
   "metadata": {
    "collapsed": true
   },
   "outputs": [],
   "source": [
    "Similar_6_Qid = readDict('./1000x6/Similar_Qid.csv', ':')\n",
    "Similar_6_Index = Get_Index_SimilarQID( Similar_6_Qid )"
   ]
  },
  {
   "cell_type": "code",
   "execution_count": 40,
   "metadata": {
    "collapsed": true
   },
   "outputs": [],
   "source": [
    "Similar_7_Qid = readDict('./1000x7/Similar_Qid.csv', ':')\n",
    "Similar_7_Index = Get_Index_SimilarQID( Similar_7_Qid )"
   ]
  },
  {
   "cell_type": "code",
   "execution_count": 41,
   "metadata": {
    "collapsed": true
   },
   "outputs": [],
   "source": [
    "Similar_8_Qid = readDict('./1000x8/Similar_Qid.csv', ':')\n",
    "Similar_8_Index = Get_Index_SimilarQID( Similar_8_Qid )"
   ]
  },
  {
   "cell_type": "code",
   "execution_count": 42,
   "metadata": {
    "collapsed": true
   },
   "outputs": [],
   "source": [
    "Similar_9_Qid = readDict('./1000x9/Similar_Qid.csv', ':')\n",
    "Similar_9_Index = Get_Index_SimilarQID( Similar_9_Qid )"
   ]
  },
  {
   "cell_type": "code",
   "execution_count": 43,
   "metadata": {
    "collapsed": true
   },
   "outputs": [],
   "source": [
    "Similar_10_Qid = readDict('./1000x10/Similar_Qid.csv', ':')\n",
    "Similar_10_Index = Get_Index_SimilarQID( Similar_10_Qid )"
   ]
  },
  {
   "cell_type": "code",
   "execution_count": 44,
   "metadata": {
    "collapsed": false
   },
   "outputs": [],
   "source": [
    "writeDict(Similar_5_Index, './1000x5/Similar_Index.csv', ':')\n",
    "writeDict(Similar_6_Index, './1000x6/Similar_Index.csv', ':')\n",
    "writeDict(Similar_7_Index, './1000x7/Similar_Index.csv', ':')\n",
    "writeDict(Similar_8_Index, './1000x8/Similar_Index.csv', ':')\n",
    "writeDict(Similar_9_Index, './1000x9/Similar_Index.csv', ':')\n",
    "writeDict(Similar_10_Index, './1000x10/Similar_Index.csv', ':')"
   ]
  },
  {
   "cell_type": "code",
   "execution_count": null,
   "metadata": {
    "collapsed": true
   },
   "outputs": [],
   "source": []
  },
  {
   "cell_type": "code",
   "execution_count": null,
   "metadata": {
    "collapsed": true
   },
   "outputs": [],
   "source": []
  }
 ],
 "metadata": {
  "kernelspec": {
   "display_name": "Python 2",
   "language": "python",
   "name": "python2"
  },
  "language_info": {
   "codemirror_mode": {
    "name": "ipython",
    "version": 2
   },
   "file_extension": ".py",
   "mimetype": "text/x-python",
   "name": "python",
   "nbconvert_exporter": "python",
   "pygments_lexer": "ipython2",
   "version": "2.7.10"
  }
 },
 "nbformat": 4,
 "nbformat_minor": 0
}
