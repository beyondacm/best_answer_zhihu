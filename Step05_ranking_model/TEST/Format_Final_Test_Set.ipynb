{
 "cells": [
  {
   "cell_type": "code",
   "execution_count": 1,
   "metadata": {
    "collapsed": true
   },
   "outputs": [],
   "source": [
    "import pandas as pd\n",
    "import numpy as np\n",
    "import operator\n",
    "import re"
   ]
  },
  {
   "cell_type": "code",
   "execution_count": 15,
   "metadata": {
    "collapsed": true
   },
   "outputs": [],
   "source": [
    "def readDict(filename, sep):\n",
    "    with open(filename, \"r\") as f:\n",
    "        dict = {}\n",
    "        for line in f:\n",
    "            values = line.split(sep)\n",
    "            key = values[0]\n",
    "            value = values[1].strip().strip('[').strip(']').split(',')\n",
    "            results = map(int, value)\n",
    "            #dict[values[0]] = {int(x) for x in values[1:len(values)]}\n",
    "            dict[key] = results\n",
    "        return(dict)\n",
    "\n",
    "    \n",
    "\n",
    "def writeDict(Dict, filename, sep) :\n",
    "    with open(filename, 'w') as f:\n",
    "        for key,value in sorted( Dict.items() ) :\n",
    "            f.write( str(key) + sep + str(value) + '\\n')\n",
    "            \n",
    "def writeList(filename, thelist) :\n",
    "    \n",
    "    with open(filename, \"w\") as f:\n",
    "        f.write( ' '.join(str(x) for x in thelist) )\n",
    "            # print item\n",
    "            # print>>thefile, item"
   ]
  },
  {
   "cell_type": "code",
   "execution_count": 3,
   "metadata": {
    "collapsed": false,
    "scrolled": true
   },
   "outputs": [],
   "source": [
    "def seperateDict(Dict, filename, sep, start, end):\n",
    "    with open(filename, 'w') as f :\n",
    "        for i in range(start, end):\n",
    "            # print i\n",
    "            key = 'Q' + str(i) + '_Similar_List'\n",
    "            value = Dict[key]\n",
    "            \n",
    "            key_new = 'Q' + str(i-start) + '_Similar_List'\n",
    "            # print key_new\n",
    "            f.write( str(key_new) + sep + str(value) + '\\n')"
   ]
  },
  {
   "cell_type": "code",
   "execution_count": 4,
   "metadata": {
    "collapsed": true
   },
   "outputs": [],
   "source": [
    "Total_Test = pd.read_csv('../zh_test.csv')"
   ]
  },
  {
   "cell_type": "markdown",
   "metadata": {},
   "source": [
    "# Seperate Similar_Index into 10 folds"
   ]
  },
  {
   "cell_type": "code",
   "execution_count": 29,
   "metadata": {
    "collapsed": false
   },
   "outputs": [],
   "source": [
    "# LEVEL = '1000x5/'\n",
    "# LEVEL = '1000x6/'\n",
    "# LEVEL = '1000x7/'\n",
    "# LEVEL = '1000x8/'\n",
    "# LEVEL = '1000x9/'\n",
    "# LEVEL = '1000x10/'\n",
    "Similar_Index = readDict('../SIMILAR/' + LEVEL + 'Similar_Index.csv', ':')"
   ]
  },
  {
   "cell_type": "code",
   "execution_count": 30,
   "metadata": {
    "collapsed": false
   },
   "outputs": [],
   "source": [
    "seperateDict(Similar_Index, '../SIMILAR/' + LEVEL + 'index00.csv', ':', 0, 100)\n",
    "seperateDict(Similar_Index, '../SIMILAR/' + LEVEL + 'index01.csv', ':', 100, 200)\n",
    "seperateDict(Similar_Index, '../SIMILAR/' + LEVEL + 'index02.csv', ':', 200, 300)\n",
    "seperateDict(Similar_Index, '../SIMILAR/' + LEVEL + 'index03.csv', ':', 300, 400)\n",
    "seperateDict(Similar_Index, '../SIMILAR/' + LEVEL + 'index04.csv', ':', 400, 500)\n",
    "seperateDict(Similar_Index, '../SIMILAR/' + LEVEL + 'index05.csv', ':', 500, 600)\n",
    "seperateDict(Similar_Index, '../SIMILAR/' + LEVEL + 'index06.csv', ':', 600, 700)\n",
    "seperateDict(Similar_Index, '../SIMILAR/' + LEVEL + 'index07.csv', ':', 700, 800)\n",
    "seperateDict(Similar_Index, '../SIMILAR/' + LEVEL + 'index08.csv', ':', 800, 900)\n",
    "seperateDict(Similar_Index, '../SIMILAR/' + LEVEL + 'index09.csv', ':', 900, 1000)"
   ]
  },
  {
   "cell_type": "markdown",
   "metadata": {},
   "source": [
    "# Read 10 folds simlar index seperate"
   ]
  },
  {
   "cell_type": "code",
   "execution_count": 61,
   "metadata": {
    "collapsed": true
   },
   "outputs": [],
   "source": [
    "# LEVEL = '1000x5/'\n",
    "# LEVEL = '1000x6/'\n",
    "# LEVEL = '1000x7/'\n",
    "# LEVEL = '1000x8/'\n",
    "# LEVEL = '1000x9/'\n",
    "LEVEL = '1000x10/'"
   ]
  },
  {
   "cell_type": "code",
   "execution_count": 62,
   "metadata": {
    "collapsed": false
   },
   "outputs": [],
   "source": [
    "similar_index_00 = readDict('../SIMILAR/' + LEVEL + 'index00.csv', ':')\n",
    "similar_index_01 = readDict('../SIMILAR/' + LEVEL + 'index01.csv', ':')\n",
    "similar_index_02 = readDict('../SIMILAR/' + LEVEL + 'index02.csv', ':')\n",
    "similar_index_03 = readDict('../SIMILAR/' + LEVEL + 'index03.csv', ':')\n",
    "similar_index_04 = readDict('../SIMILAR/' + LEVEL + 'index04.csv', ':')\n",
    "similar_index_05 = readDict('../SIMILAR/' + LEVEL + 'index05.csv', ':')\n",
    "similar_index_06 = readDict('../SIMILAR/' + LEVEL + 'index06.csv', ':')\n",
    "similar_index_07 = readDict('../SIMILAR/' + LEVEL + 'index07.csv', ':')\n",
    "similar_index_08 = readDict('../SIMILAR/' + LEVEL + 'index08.csv', ':')\n",
    "similar_index_09 = readDict('../SIMILAR/' + LEVEL + 'index09.csv', ':')"
   ]
  },
  {
   "cell_type": "code",
   "execution_count": 63,
   "metadata": {
    "collapsed": false
   },
   "outputs": [
    {
     "data": {
      "text/plain": [
       "100"
      ]
     },
     "execution_count": 63,
     "metadata": {},
     "output_type": "execute_result"
    }
   ],
   "source": [
    "len( similar_index_00 )"
   ]
  },
  {
   "cell_type": "code",
   "execution_count": 64,
   "metadata": {
    "collapsed": true
   },
   "outputs": [],
   "source": [
    "def Generate_Test_Set(Dataset, Index_List):\n",
    "    # get the dataframe according to the Index\n",
    "    Test = Dataset.iloc[Index_List]\n",
    "    TestSet = pd.DataFrame(Test)\n",
    "    \n",
    "    return TestSet"
   ]
  },
  {
   "cell_type": "code",
   "execution_count": 65,
   "metadata": {
    "collapsed": true
   },
   "outputs": [],
   "source": [
    "def Replace_QList(Data_Set, Q_IndexList) :\n",
    "    Q_Content = Total_Test.iloc[ [ Q_IndexList[0] ] ]['title'].all()\n",
    "    Q_Tags = Total_Test.iloc[ [ Q_IndexList[0] ] ]['tag'].all()\n",
    "    Data_Set['title'] = Q_Content\n",
    "    Data_Set['tag'] = Q_Tags\n",
    "    return Data_Set"
   ]
  },
  {
   "cell_type": "code",
   "execution_count": 66,
   "metadata": {
    "collapsed": true
   },
   "outputs": [],
   "source": [
    "def Get_Final_Test_Set(Similar_Index_List) :\n",
    "    \n",
    "    total_numOfTest = 0\n",
    "    Test_Len = []\n",
    "    \n",
    "    # Initial Final_Test_Set\n",
    "    value_0 = Similar_Index_List['Q0_Similar_List']\n",
    "    Final_Test_Set = Generate_Test_Set(Total_Test, value_0)\n",
    "    Final_Test_Set = Replace_QList(Final_Test_Set, value_0)\n",
    "    Test_Len.append( len(value_0) )\n",
    "    total_numOfTest += len(value_0)\n",
    "    \n",
    "    for i in range(1, len(Similar_Index_List) ) :\n",
    "        key = 'Q' + str(i) + '_Similar_List'\n",
    "        value = Similar_Index_List[key]\n",
    "        # print len( value )\n",
    "        Test_Len.append( len(value) )\n",
    "        total_numOfTest += len(value)\n",
    "\n",
    "        Qi_Test = Generate_Test_Set(Total_Test, value)\n",
    "        Qi_Test = Replace_QList( Qi_Test, value)\n",
    "        Final_Test_Set = Final_Test_Set.append(Qi_Test)\n",
    "\n",
    "    print total_numOfTest\n",
    "    return Test_Len, Final_Test_Set"
   ]
  },
  {
   "cell_type": "code",
   "execution_count": 67,
   "metadata": {
    "collapsed": false
   },
   "outputs": [
    {
     "name": "stdout",
     "output_type": "stream",
     "text": [
      "1343\n",
      "1342\n",
      "1324\n",
      "1323\n",
      "1324\n",
      "1295\n",
      "1331\n",
      "1313\n",
      "1342\n",
      "1355\n"
     ]
    }
   ],
   "source": [
    "Len_00 ,Final_Test_00 = Get_Final_Test_Set(similar_index_00)\n",
    "Len_01 ,Final_Test_01 = Get_Final_Test_Set(similar_index_01)\n",
    "Len_02 ,Final_Test_02 = Get_Final_Test_Set(similar_index_02)\n",
    "Len_03 ,Final_Test_03 = Get_Final_Test_Set(similar_index_03)\n",
    "Len_04 ,Final_Test_04 = Get_Final_Test_Set(similar_index_04)\n",
    "Len_05 ,Final_Test_05 = Get_Final_Test_Set(similar_index_05)\n",
    "Len_06 ,Final_Test_06 = Get_Final_Test_Set(similar_index_06)\n",
    "Len_07 ,Final_Test_07 = Get_Final_Test_Set(similar_index_07)\n",
    "Len_08 ,Final_Test_08 = Get_Final_Test_Set(similar_index_08)\n",
    "Len_09 ,Final_Test_09 = Get_Final_Test_Set(similar_index_09)"
   ]
  },
  {
   "cell_type": "code",
   "execution_count": 68,
   "metadata": {
    "collapsed": true
   },
   "outputs": [],
   "source": [
    "Final_Test_00.to_csv('./' + LEVEL + 'Final_Test_Set/Final_Test_00.csv', encoding='utf-8', index = False)\n",
    "Final_Test_01.to_csv('./' + LEVEL + 'Final_Test_Set/Final_Test_01.csv', encoding='utf-8', index = False)\n",
    "Final_Test_02.to_csv('./' + LEVEL + 'Final_Test_Set/Final_Test_02.csv', encoding='utf-8', index = False)\n",
    "Final_Test_03.to_csv('./' + LEVEL + 'Final_Test_Set/Final_Test_03.csv', encoding='utf-8', index = False)\n",
    "Final_Test_04.to_csv('./' + LEVEL + 'Final_Test_Set/Final_Test_04.csv', encoding='utf-8', index = False)\n",
    "Final_Test_05.to_csv('./' + LEVEL + 'Final_Test_Set/Final_Test_05.csv', encoding='utf-8', index = False)\n",
    "Final_Test_06.to_csv('./' + LEVEL + 'Final_Test_Set/Final_Test_06.csv', encoding='utf-8', index = False)\n",
    "Final_Test_07.to_csv('./' + LEVEL + 'Final_Test_Set/Final_Test_07.csv', encoding='utf-8', index = False)\n",
    "Final_Test_08.to_csv('./' + LEVEL + 'Final_Test_Set/Final_Test_08.csv', encoding='utf-8', index = False)\n",
    "Final_Test_09.to_csv('./' + LEVEL + 'Final_Test_Set/Final_Test_09.csv', encoding='utf-8', index = False)"
   ]
  },
  {
   "cell_type": "code",
   "execution_count": 69,
   "metadata": {
    "collapsed": true
   },
   "outputs": [],
   "source": [
    "writeList('./' + LEVEL + 'Final_Test_Set/Len_00.txt', Len_00)\n",
    "writeList('./' + LEVEL + 'Final_Test_Set/Len_01.txt', Len_01)\n",
    "writeList('./' + LEVEL + 'Final_Test_Set/Len_02.txt', Len_02)\n",
    "writeList('./' + LEVEL + 'Final_Test_Set/Len_03.txt', Len_03)\n",
    "writeList('./' + LEVEL + 'Final_Test_Set/Len_04.txt', Len_04)\n",
    "writeList('./' + LEVEL + 'Final_Test_Set/Len_05.txt', Len_05)\n",
    "writeList('./' + LEVEL + 'Final_Test_Set/Len_06.txt', Len_06)\n",
    "writeList('./' + LEVEL + 'Final_Test_Set/Len_07.txt', Len_07)\n",
    "writeList('./' + LEVEL + 'Final_Test_Set/Len_08.txt', Len_08)\n",
    "writeList('./' + LEVEL + 'Final_Test_Set/Len_09.txt', Len_09)"
   ]
  },
  {
   "cell_type": "code",
   "execution_count": 70,
   "metadata": {
    "collapsed": false
   },
   "outputs": [
    {
     "data": {
      "text/plain": [
       "100"
      ]
     },
     "execution_count": 70,
     "metadata": {},
     "output_type": "execute_result"
    }
   ],
   "source": [
    "len( Len_01 )"
   ]
  },
  {
   "cell_type": "code",
   "execution_count": null,
   "metadata": {
    "collapsed": true
   },
   "outputs": [],
   "source": []
  },
  {
   "cell_type": "code",
   "execution_count": null,
   "metadata": {
    "collapsed": true
   },
   "outputs": [],
   "source": []
  }
 ],
 "metadata": {
  "kernelspec": {
   "display_name": "Python 2",
   "language": "python",
   "name": "python2"
  },
  "language_info": {
   "codemirror_mode": {
    "name": "ipython",
    "version": 2
   },
   "file_extension": ".py",
   "mimetype": "text/x-python",
   "name": "python",
   "nbconvert_exporter": "python",
   "pygments_lexer": "ipython2",
   "version": "2.7.11"
  }
 },
 "nbformat": 4,
 "nbformat_minor": 0
}
