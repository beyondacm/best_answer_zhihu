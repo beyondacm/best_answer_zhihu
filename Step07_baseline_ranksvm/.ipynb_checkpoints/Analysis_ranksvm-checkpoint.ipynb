{
 "cells": [
  {
   "cell_type": "code",
   "execution_count": 1,
   "metadata": {
    "collapsed": true
   },
   "outputs": [],
   "source": [
    "import operator\n",
    "import os"
   ]
  },
  {
   "cell_type": "code",
   "execution_count": 2,
   "metadata": {
    "collapsed": true
   },
   "outputs": [],
   "source": [
    "def writeDict(Dict, filename, sep):\n",
    "    with open(filename, \"w\") as f:\n",
    "#        for key in dict.keys():            \n",
    "#            f.write(str(key) + \":\" + str(dict[key]) + \"\\n\")\n",
    "        for key, value in sorted( Dict.items() ):\n",
    "            f.write( str(key) + sep + str(value) + '\\n' )\n",
    "\n",
    "def writeList(List, filename) :\n",
    "    with open(filename, 'w') as f:\n",
    "        for i in range( len(List) ) :\n",
    "            # print List[i][0]\n",
    "            # print List[i][1]\n",
    "            f.write( str(List[i][0]) + ':' + str(List[i][1]) + '\\n')\n",
    "            \n",
    "def readDict(filename):\n",
    "    with open(filename, \"r\") as f:\n",
    "        score_dict = {}\n",
    "        i = 0 \n",
    "        for line in f:\n",
    "            key = i\n",
    "            value = line.strip()\n",
    "            score_dict[key] = value\n",
    "            i += 1 \n",
    "    # sorted(Ai_List.items(), key=operator.itemgetter(1), reverse=True)\n",
    "    return sorted(score_dict.items(), key=operator.itemgetter(1), reverse=True)"
   ]
  },
  {
   "cell_type": "code",
   "execution_count": 4,
   "metadata": {
    "collapsed": false
   },
   "outputs": [],
   "source": [
    "LEVEL = '1000x5/'\n",
    "# LEVEL = '1000x6/'\n",
    "# LEVEL = '1000x7/'\n",
    "# LEVEL = '1000x8/'\n",
    "# LEVEL = '1000x9/'\n",
    "# LEVEL = '1000x10/'\n",
    "FNAME = 'total_test.csv'\n",
    "Final_Test_List = os.listdir('./Ranked_Data/RANK_SVM/' + LEVEL )\n",
    "\n",
    "# print Final_Test_List"
   ]
  },
  {
   "cell_type": "code",
   "execution_count": 6,
   "metadata": {
    "collapsed": false
   },
   "outputs": [],
   "source": [
    "for Final_Test in Final_Test_List :\n",
    "    with open('./Ranked_Data/RANK_SVM/' + LEVEL + Final_Test + '/' + FNAME, 'w') as f_out : \n",
    "        for fname in os.listdir('./Ranked_Data/RANK_SVM/' + LEVEL + Final_Test ) :\n",
    "\n",
    "            if fname == 'total_test.csv' :\n",
    "                continue\n",
    "\n",
    "            sorted_dict = readDict('./Ranked_Data/RANK_SVM/' + LEVEL + Final_Test + '/' + fname)\n",
    "            rank_list = []\n",
    "            for i in range( len(sorted_dict) ) :\n",
    "                rank_list.append( sorted_dict[i][0] )\n",
    "            \n",
    "            # print rank_list\n",
    "            f_out.write( ' '.join(str(x) for x in rank_list) )\n",
    "            f_out.write('\\n')\n",
    "        # print fname,rank_list\n",
    "        # writeList(rank_list, f_out) :"
   ]
  },
  {
   "cell_type": "code",
   "execution_count": null,
   "metadata": {
    "collapsed": true
   },
   "outputs": [],
   "source": []
  },
  {
   "cell_type": "code",
   "execution_count": null,
   "metadata": {
    "collapsed": true
   },
   "outputs": [],
   "source": []
  },
  {
   "cell_type": "code",
   "execution_count": null,
   "metadata": {
    "collapsed": true
   },
   "outputs": [],
   "source": []
  }
 ],
 "metadata": {
  "kernelspec": {
   "display_name": "Python 2",
   "language": "python",
   "name": "python2"
  },
  "language_info": {
   "codemirror_mode": {
    "name": "ipython",
    "version": 2
   },
   "file_extension": ".py",
   "mimetype": "text/x-python",
   "name": "python",
   "nbconvert_exporter": "python",
   "pygments_lexer": "ipython2",
   "version": "2.7.11"
  }
 },
 "nbformat": 4,
 "nbformat_minor": 0
}
