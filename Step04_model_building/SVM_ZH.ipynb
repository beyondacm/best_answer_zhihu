{
 "cells": [
  {
   "cell_type": "code",
   "execution_count": 1,
   "metadata": {
    "collapsed": false
   },
   "outputs": [
    {
     "name": "stderr",
     "output_type": "stream",
     "text": [
      "A newer version of GraphLab Create (v1.9) is available! Your current version is v1.8.5.\n",
      "\n",
      "You can use pip to upgrade the graphlab-create package. For more information see https://dato.com/products/create/upgrade.\n"
     ]
    }
   ],
   "source": [
    "import graphlab\n",
    "import pandas as pd\n",
    "# import matplotlib.pyplot as plt\n",
    "# %matplotlib inline"
   ]
  },
  {
   "cell_type": "code",
   "execution_count": 2,
   "metadata": {
    "collapsed": true
   },
   "outputs": [],
   "source": [
    "match_best = pd.read_csv('./SVM_DATA/match_best.csv')\n",
    "match_second = pd.read_csv('./SVM_DATA/match_second.csv')\n",
    "match_third = pd.read_csv('./SVM_DATA/match_third.csv')\n",
    "\n",
    "non_match_best = pd.read_csv('./SVM_DATA/non_match_best.csv')\n",
    "non_match_second = pd.read_csv('./SVM_DATA/non_match_second.csv')\n",
    "non_match_third = pd.read_csv('./SVM_DATA/non_match_third.csv')\n",
    "\n",
    "similar01_best = pd.read_csv('./SVM_DATA/similar01_best.csv')\n",
    "similar01_second = pd.read_csv('./SVM_DATA/similar01_second.csv')\n",
    "similar01_third = pd.read_csv('./SVM_DATA/similar01_third.csv')\n",
    "\n",
    "similar02_best = pd.read_csv('./SVM_DATA/similar02_best.csv')\n",
    "similar02_second = pd.read_csv('./SVM_DATA/similar02_second.csv')\n",
    "similar02_third = pd.read_csv('./SVM_DATA/similar02_third.csv')"
   ]
  },
  {
   "cell_type": "code",
   "execution_count": 3,
   "metadata": {
    "collapsed": true
   },
   "outputs": [],
   "source": [
    "# match_best > match_third \n",
    "positive01 = match_best.sub(match_third)\n",
    "# match_second < match_best\n",
    "negative01 = match_second.sub(match_best)\n",
    "# match_second > match_third \n",
    "positive02 = match_second.sub(match_third)\n",
    "\n",
    "# similar01_second < match_best \n",
    "negative02 = similar01_second.sub(match_best)\n",
    "# match_best > similar01_best \n",
    "positive03 = match_best.sub(similar01_best)\n",
    "# similar01_third < match_best \n",
    "negative03 = similar01_third.sub(match_best)\n",
    "\n",
    "# match_best > similar02_second\n",
    "positive04 = match_best.sub(similar02_second)\n",
    "# similar02_best < match_best \n",
    "negative04 = similar02_best.sub(match_best)\n",
    "# match_best > similar02_third\n",
    "positive05 = match_best.sub(similar02_third)\n",
    "\n",
    "# similar01_second < match_second\n",
    "negative05 = similar01_second.sub(match_best)\n",
    "# match_second > similar01_second\n",
    "positive06 = match_second.sub(similar01_second)\n",
    "# similar01_third < match_second\n",
    "negative06 = similar01_third.sub(match_second)\n",
    "\n",
    "# match_second > similar02_second\n",
    "positive07 = match_second.sub(similar02_second)\n",
    "# similar02_best < match_second\n",
    "negative07 = similar02_best.sub(match_second)\n",
    "# match_second > similar02_third\n",
    "positive08 = match_second.sub(similar02_third) \n",
    "\n",
    "# similar01_second < match_third \n",
    "negative08 = similar01_second.sub(match_third)\n",
    "# match_third > similar01_best \n",
    "positive09 = match_third.sub(similar01_best)\n",
    "# similar01_third < match_third \n",
    "negative09 = similar01_third.sub(match_third)\n",
    "\n",
    "# match_third > similar02_second\n",
    "positive10 = match_third.sub(similar02_second)\n",
    "# similar02_best < match_third \n",
    "negative10 = similar02_best.sub(match_third)\n",
    "# match_third > similar02_third\n",
    "positive11 = match_third.sub(similar02_third)\n",
    "\n",
    "# non_match_second < match_best \n",
    "negative11 = non_match_second.sub(match_best)\n",
    "# match_best > non_match_best\n",
    "positive12 = match_best.sub(non_match_best)\n",
    "# non_match_third < match_best \n",
    "negative12 = non_match_third.sub(match_best)\n",
    "\n",
    "# match_second > non_match_second\n",
    "positive13 = match_second.sub(non_match_second)\n",
    "# non_match_best < match_second\n",
    "negative13 = non_match_best.sub(match_second)\n",
    "# match_second > non_match_third\n",
    "positive14 = match_second.sub(non_match_third) \n",
    "\n",
    "# non_match_second < match_third \n",
    "negative14 = non_match_second.sub(match_third)\n",
    "# match_third > non_match_best \n",
    "positive15 = match_third.sub(non_match_best)\n",
    "# non_match_third < match_third \n",
    "negative15 = non_match_third.sub(match_third)\n"
   ]
  },
  {
   "cell_type": "code",
   "execution_count": 5,
   "metadata": {
    "collapsed": false,
    "scrolled": true
   },
   "outputs": [],
   "source": [
    "# positive01"
   ]
  },
  {
   "cell_type": "code",
   "execution_count": 4,
   "metadata": {
    "collapsed": true
   },
   "outputs": [],
   "source": [
    "positive01['flag'] = 1\n",
    "positive02['flag'] = 1\n",
    "positive03['flag'] = 1\n",
    "positive04['flag'] = 1\n",
    "positive05['flag'] = 1\n",
    "positive06['flag'] = 1\n",
    "positive07['flag'] = 1\n",
    "positive08['flag'] = 1\n",
    "positive09['flag'] = 1\n",
    "positive10['flag'] = 1\n",
    "positive11['flag'] = 1\n",
    "positive12['flag'] = 1\n",
    "positive13['flag'] = 1\n",
    "positive14['flag'] = 1\n",
    "positive15['flag'] = 1\n",
    "\n",
    "negative01['flag'] = -1\n",
    "negative02['flag'] = -1\n",
    "negative03['flag'] = -1\n",
    "negative04['flag'] = -1\n",
    "negative05['flag'] = -1\n",
    "negative06['flag'] = -1\n",
    "negative07['flag'] = -1\n",
    "negative08['flag'] = -1\n",
    "negative09['flag'] = -1\n",
    "negative10['flag'] = -1\n",
    "negative11['flag'] = -1\n",
    "negative12['flag'] = -1\n",
    "negative13['flag'] = -1\n",
    "negative14['flag'] = -1\n",
    "negative15['flag'] = -1"
   ]
  },
  {
   "cell_type": "code",
   "execution_count": 5,
   "metadata": {
    "collapsed": true
   },
   "outputs": [],
   "source": [
    "dataset = pd.concat([positive01, negative01, \n",
    "                     positive02, negative02,\n",
    "                     positive03, negative03, \n",
    "                     positive04, negative04,\n",
    "                     positive05, negative05,\n",
    "                     positive06, negative06,\n",
    "                     positive07, negative07,\n",
    "                     positive08, negative08,\n",
    "                     positive09, negative09,\n",
    "                     positive10, negative10,\n",
    "                     positive11, negative11,\n",
    "                     positive12, negative12,\n",
    "                     positive13, negative13,\n",
    "                     positive14, negative14,\n",
    "                     positive15, negative15\n",
    "                    ], ignore_index=True)"
   ]
  },
  {
   "cell_type": "code",
   "execution_count": 6,
   "metadata": {
    "collapsed": false,
    "scrolled": true
   },
   "outputs": [],
   "source": [
    "# dataset # 181302 rows × 117 columns"
   ]
  },
  {
   "cell_type": "code",
   "execution_count": 7,
   "metadata": {
    "collapsed": true
   },
   "outputs": [],
   "source": [
    "# dataset = dataset.dropna()\n",
    "dataset = dataset.fillna(0)"
   ]
  },
  {
   "cell_type": "code",
   "execution_count": 8,
   "metadata": {
    "collapsed": true
   },
   "outputs": [],
   "source": [
    "dataset.to_csv('./SVM_DATA/raw_data.csv', encoding='utf-8', index = False)"
   ]
  },
  {
   "cell_type": "code",
   "execution_count": 9,
   "metadata": {
    "collapsed": false
   },
   "outputs": [
    {
     "name": "stderr",
     "output_type": "stream",
     "text": [
      "2016-05-19 11:02:19,842 [INFO] graphlab.cython.cy_server, 176: GraphLab Create v1.8.5 started. Logging: /tmp/graphlab_server_1463626937.log\n"
     ]
    },
    {
     "data": {
      "text/html": [
       "<pre>Finished parsing file /home/zpgao/ML/Best_Answer/Zhihu/Step04_model_building/SVM_DATA/raw_data.csv</pre>"
      ],
      "text/plain": [
       "Finished parsing file /home/zpgao/ML/Best_Answer/Zhihu/Step04_model_building/SVM_DATA/raw_data.csv"
      ]
     },
     "metadata": {},
     "output_type": "display_data"
    },
    {
     "data": {
      "text/html": [
       "<pre>Parsing completed. Parsed 100 lines in 0.816008 secs.</pre>"
      ],
      "text/plain": [
       "Parsing completed. Parsed 100 lines in 0.816008 secs."
      ]
     },
     "metadata": {},
     "output_type": "display_data"
    },
    {
     "name": "stdout",
     "output_type": "stream",
     "text": [
      "This non-commercial license of GraphLab Create is assigned to beyond_acm@163.com and will expire on January 04, 2017. For commercial licensing options, visit https://dato.com/buy/.\n",
      "------------------------------------------------------"
     ]
    },
    {
     "data": {
      "text/html": [
       "<pre>Read 36028 lines. Lines per second: 20700.1</pre>"
      ],
      "text/plain": [
       "Read 36028 lines. Lines per second: 20700.1"
      ]
     },
     "metadata": {},
     "output_type": "display_data"
    },
    {
     "data": {
      "text/html": [
       "<pre>Finished parsing file /home/zpgao/ML/Best_Answer/Zhihu/Step04_model_building/SVM_DATA/raw_data.csv</pre>"
      ],
      "text/plain": [
       "Finished parsing file /home/zpgao/ML/Best_Answer/Zhihu/Step04_model_building/SVM_DATA/raw_data.csv"
      ]
     },
     "metadata": {},
     "output_type": "display_data"
    },
    {
     "data": {
      "text/html": [
       "<pre>Parsing completed. Parsed 247230 lines in 6.10342 secs.</pre>"
      ],
      "text/plain": [
       "Parsing completed. Parsed 247230 lines in 6.10342 secs."
      ]
     },
     "metadata": {},
     "output_type": "display_data"
    },
    {
     "name": "stdout",
     "output_type": "stream",
     "text": [
      "\n",
      "Inferred types from first line of file as \n",
      "column_type_hints=[float,float,float,float,float,float,float,float,float,float,float,float,float,float,float,float,float,float,float,float,float,float,float,float,float,float,float,float,float,float,float,float,float,float,float,float,float,float,float,float,float,float,float,float,float,float,float,float,float,float,float,float,float,float,float,float,float,float,float,float,float,float,float,float,float,float,float,float,float,float,float,float,float,float,float,float,float,float,float,float,float,float,float,float,float,float,float,float,float,float,float,float,float,float,float,float,float,float,float,float,float,float,float,float,float,float,float,float,float,float,float,float,float,float,float,float,int]\n",
      "If parsing fails due to incorrect types, you can correct\n",
      "the inferred type list above and pass it to read_csv in\n",
      "the column_type_hints argument\n",
      "------------------------------------------------------\n"
     ]
    }
   ],
   "source": [
    "raw_data = graphlab.SFrame.read_csv('./SVM_DATA/raw_data.csv')"
   ]
  },
  {
   "cell_type": "code",
   "execution_count": 10,
   "metadata": {
    "collapsed": false
   },
   "outputs": [],
   "source": [
    "train_valid, test = raw_data.random_split(0.9, seed=0.3)\n",
    "train_valid_shuffled = graphlab.toolkits.cross_validation.shuffle(train_valid, random_seed=0.3)\n",
    "\n",
    "train_valid.save('./SVM_DATA/Train_valid.csv', format='csv')\n",
    "test.save('./SVM_DATA/Test.csv', format='csv')"
   ]
  },
  {
   "cell_type": "code",
   "execution_count": 11,
   "metadata": {
    "collapsed": true
   },
   "outputs": [],
   "source": [
    "all_features = train_valid_shuffled.column_names()"
   ]
  },
  {
   "cell_type": "code",
   "execution_count": 12,
   "metadata": {
    "collapsed": false
   },
   "outputs": [
    {
     "name": "stdout",
     "output_type": "stream",
     "text": [
      "['len_answer_content', 'len_question_content', 'num_question_tags', 'num_answers', 'num_user_agrees', 'num_ans_y', 'num_user_articles', 'num_user_ask', 'num_user_collection', 'num_user_editlog', 'num_user_follower', 'num_user_thanks', 'num_user_topic', 'num_user_followee', 'ac_qc_overlap', 'ac_qt_overlap', 's2v_0', 's2v_1', 's2v_2', 's2v_3', 's2v_4', 's2v_5', 's2v_6', 's2v_7', 's2v_8', 's2v_9', 's2v_10', 's2v_11', 's2v_12', 's2v_13', 's2v_14', 's2v_15', 's2v_16', 's2v_17', 's2v_18', 's2v_19', 's2v_20', 's2v_21', 's2v_22', 's2v_23', 's2v_24', 's2v_25', 's2v_26', 's2v_27', 's2v_28', 's2v_29', 's2v_30', 's2v_31', 's2v_32', 's2v_33', 's2v_34', 's2v_35', 's2v_36', 's2v_37', 's2v_38', 's2v_39', 's2v_40', 's2v_41', 's2v_42', 's2v_43', 's2v_44', 's2v_45', 's2v_46', 's2v_47', 's2v_48', 's2v_49', 'topic_0', 'topic_1', 'topic_2', 'topic_3', 'topic_4', 'topic_5', 'topic_6', 'topic_7', 'topic_8', 'topic_9', 'topic_10', 'topic_11', 'topic_12', 'topic_13', 'topic_14', 'topic_15', 'topic_16', 'topic_17', 'topic_18', 'topic_19', 'topic_20', 'topic_21', 'topic_22', 'topic_23', 'topic_24', 'topic_25', 'topic_26', 'topic_27', 'topic_28', 'topic_29', 'topic_30', 'topic_31', 'topic_32', 'topic_33', 'topic_34', 'topic_35', 'topic_36', 'topic_37', 'topic_38', 'topic_39', 'topic_40', 'topic_41', 'topic_42', 'topic_43', 'topic_44', 'topic_45', 'topic_46', 'topic_47', 'topic_48', 'topic_49']\n",
      "116\n"
     ]
    }
   ],
   "source": [
    "all_features.pop(-1)\n",
    "print all_features\n",
    "all_features\n",
    "print len(all_features)"
   ]
  },
  {
   "cell_type": "markdown",
   "metadata": {},
   "source": [
    "# Building SVM Model"
   ]
  },
  {
   "cell_type": "code",
   "execution_count": 15,
   "metadata": {
    "collapsed": false,
    "scrolled": true
   },
   "outputs": [
    {
     "data": {
      "text/html": [
       "<pre>WARNING: Detected extremely low variance for feature(s) 'len_question_content', 'num_question_tags' because all entries are nearly the same.\n",
       "Proceeding with model training using all features. If the model does not provide results of adequate quality, exclude the above mentioned feature(s) from the input dataset.</pre>"
      ],
      "text/plain": [
       "WARNING: Detected extremely low variance for feature(s) 'len_question_content', 'num_question_tags' because all entries are nearly the same.\n",
       "Proceeding with model training using all features. If the model does not provide results of adequate quality, exclude the above mentioned feature(s) from the input dataset."
      ]
     },
     "metadata": {},
     "output_type": "display_data"
    },
    {
     "data": {
      "text/html": [
       "<pre>SVM:</pre>"
      ],
      "text/plain": [
       "SVM:"
      ]
     },
     "metadata": {},
     "output_type": "display_data"
    },
    {
     "data": {
      "text/html": [
       "<pre>--------------------------------------------------------</pre>"
      ],
      "text/plain": [
       "--------------------------------------------------------"
      ]
     },
     "metadata": {},
     "output_type": "display_data"
    },
    {
     "data": {
      "text/html": [
       "<pre>Number of examples          : 222393</pre>"
      ],
      "text/plain": [
       "Number of examples          : 222393"
      ]
     },
     "metadata": {},
     "output_type": "display_data"
    },
    {
     "data": {
      "text/html": [
       "<pre>Number of classes           : 2</pre>"
      ],
      "text/plain": [
       "Number of classes           : 2"
      ]
     },
     "metadata": {},
     "output_type": "display_data"
    },
    {
     "data": {
      "text/html": [
       "<pre>Number of feature columns   : 116</pre>"
      ],
      "text/plain": [
       "Number of feature columns   : 116"
      ]
     },
     "metadata": {},
     "output_type": "display_data"
    },
    {
     "data": {
      "text/html": [
       "<pre>Number of unpacked features : 116</pre>"
      ],
      "text/plain": [
       "Number of unpacked features : 116"
      ]
     },
     "metadata": {},
     "output_type": "display_data"
    },
    {
     "data": {
      "text/html": [
       "<pre>Number of coefficients    : 117</pre>"
      ],
      "text/plain": [
       "Number of coefficients    : 117"
      ]
     },
     "metadata": {},
     "output_type": "display_data"
    },
    {
     "data": {
      "text/html": [
       "<pre>Starting L-BFGS</pre>"
      ],
      "text/plain": [
       "Starting L-BFGS"
      ]
     },
     "metadata": {},
     "output_type": "display_data"
    },
    {
     "data": {
      "text/html": [
       "<pre>--------------------------------------------------------</pre>"
      ],
      "text/plain": [
       "--------------------------------------------------------"
      ]
     },
     "metadata": {},
     "output_type": "display_data"
    },
    {
     "data": {
      "text/html": [
       "<pre>+-----------+----------+-----------+--------------+-------------------+</pre>"
      ],
      "text/plain": [
       "+-----------+----------+-----------+--------------+-------------------+"
      ]
     },
     "metadata": {},
     "output_type": "display_data"
    },
    {
     "data": {
      "text/html": [
       "<pre>| Iteration | Passes   | Step size | Elapsed Time | Training-accuracy |</pre>"
      ],
      "text/plain": [
       "| Iteration | Passes   | Step size | Elapsed Time | Training-accuracy |"
      ]
     },
     "metadata": {},
     "output_type": "display_data"
    },
    {
     "data": {
      "text/html": [
       "<pre>+-----------+----------+-----------+--------------+-------------------+</pre>"
      ],
      "text/plain": [
       "+-----------+----------+-----------+--------------+-------------------+"
      ]
     },
     "metadata": {},
     "output_type": "display_data"
    },
    {
     "data": {
      "text/html": [
       "<pre>| 1         | 3        | 0.000004  | 2.618344     | 0.750604          |</pre>"
      ],
      "text/plain": [
       "| 1         | 3        | 0.000004  | 2.618344     | 0.750604          |"
      ]
     },
     "metadata": {},
     "output_type": "display_data"
    },
    {
     "data": {
      "text/html": [
       "<pre>| 2         | 5        | 1.000000  | 3.522371     | 0.778266          |</pre>"
      ],
      "text/plain": [
       "| 2         | 5        | 1.000000  | 3.522371     | 0.778266          |"
      ]
     },
     "metadata": {},
     "output_type": "display_data"
    },
    {
     "data": {
      "text/html": [
       "<pre>| 3         | 6        | 1.000000  | 4.161073     | 0.791477          |</pre>"
      ],
      "text/plain": [
       "| 3         | 6        | 1.000000  | 4.161073     | 0.791477          |"
      ]
     },
     "metadata": {},
     "output_type": "display_data"
    },
    {
     "data": {
      "text/html": [
       "<pre>| 4         | 7        | 1.000000  | 4.798075     | 0.796468          |</pre>"
      ],
      "text/plain": [
       "| 4         | 7        | 1.000000  | 4.798075     | 0.796468          |"
      ]
     },
     "metadata": {},
     "output_type": "display_data"
    },
    {
     "data": {
      "text/html": [
       "<pre>| 5         | 8        | 1.000000  | 5.388966     | 0.797804          |</pre>"
      ],
      "text/plain": [
       "| 5         | 8        | 1.000000  | 5.388966     | 0.797804          |"
      ]
     },
     "metadata": {},
     "output_type": "display_data"
    },
    {
     "data": {
      "text/html": [
       "<pre>| 6         | 9        | 1.000000  | 6.011024     | 0.798672          |</pre>"
      ],
      "text/plain": [
       "| 6         | 9        | 1.000000  | 6.011024     | 0.798672          |"
      ]
     },
     "metadata": {},
     "output_type": "display_data"
    },
    {
     "data": {
      "text/html": [
       "<pre>| 10        | 13       | 1.000000  | 8.183437     | 0.799603          |</pre>"
      ],
      "text/plain": [
       "| 10        | 13       | 1.000000  | 8.183437     | 0.799603          |"
      ]
     },
     "metadata": {},
     "output_type": "display_data"
    },
    {
     "data": {
      "text/html": [
       "<pre>| 11        | 14       | 1.000000  | 8.766250     | 0.799679          |</pre>"
      ],
      "text/plain": [
       "| 11        | 14       | 1.000000  | 8.766250     | 0.799679          |"
      ]
     },
     "metadata": {},
     "output_type": "display_data"
    },
    {
     "data": {
      "text/html": [
       "<pre>| 15        | 18       | 1.000000  | 11.285688    | 0.799733          |</pre>"
      ],
      "text/plain": [
       "| 15        | 18       | 1.000000  | 11.285688    | 0.799733          |"
      ]
     },
     "metadata": {},
     "output_type": "display_data"
    },
    {
     "data": {
      "text/html": [
       "<pre>| 20        | 23       | 1.000000  | 13.993838    | 0.799841          |</pre>"
      ],
      "text/plain": [
       "| 20        | 23       | 1.000000  | 13.993838    | 0.799841          |"
      ]
     },
     "metadata": {},
     "output_type": "display_data"
    },
    {
     "data": {
      "text/html": [
       "<pre>| 25        | 28       | 1.000000  | 17.077059    | 0.799809          |</pre>"
      ],
      "text/plain": [
       "| 25        | 28       | 1.000000  | 17.077059    | 0.799809          |"
      ]
     },
     "metadata": {},
     "output_type": "display_data"
    },
    {
     "data": {
      "text/html": [
       "<pre>| 30        | 34       | 1.000000  | 20.112640    | 0.799796          |</pre>"
      ],
      "text/plain": [
       "| 30        | 34       | 1.000000  | 20.112640    | 0.799796          |"
      ]
     },
     "metadata": {},
     "output_type": "display_data"
    },
    {
     "data": {
      "text/html": [
       "<pre>| 35        | 40       | 1.000000  | 23.103316    | 0.799809          |</pre>"
      ],
      "text/plain": [
       "| 35        | 40       | 1.000000  | 23.103316    | 0.799809          |"
      ]
     },
     "metadata": {},
     "output_type": "display_data"
    },
    {
     "data": {
      "text/html": [
       "<pre>| 40        | 45       | 1.000000  | 25.814663    | 0.799809          |</pre>"
      ],
      "text/plain": [
       "| 40        | 45       | 1.000000  | 25.814663    | 0.799809          |"
      ]
     },
     "metadata": {},
     "output_type": "display_data"
    },
    {
     "data": {
      "text/html": [
       "<pre>+-----------+----------+-----------+--------------+-------------------+</pre>"
      ],
      "text/plain": [
       "+-----------+----------+-----------+--------------+-------------------+"
      ]
     },
     "metadata": {},
     "output_type": "display_data"
    },
    {
     "data": {
      "text/html": [
       "<pre>SUCCESS: Optimal solution found.</pre>"
      ],
      "text/plain": [
       "SUCCESS: Optimal solution found."
      ]
     },
     "metadata": {},
     "output_type": "display_data"
    },
    {
     "data": {
      "text/html": [
       "<pre></pre>"
      ],
      "text/plain": []
     },
     "metadata": {},
     "output_type": "display_data"
    }
   ],
   "source": [
    "svm_model = graphlab.svm_classifier.create( train_valid_shuffled, \n",
    "                                              target = 'flag', \n",
    "                                              features = all_features,\n",
    "                                              # solver = 'lbfgs',\n",
    "                                              penalty = 1.0,\n",
    "                                              validation_set = None, \n",
    "                                              max_iterations = 50 )"
   ]
  },
  {
   "cell_type": "code",
   "execution_count": 16,
   "metadata": {
    "collapsed": true
   },
   "outputs": [],
   "source": [
    "results = svm_model.evaluate(test)"
   ]
  },
  {
   "cell_type": "code",
   "execution_count": 17,
   "metadata": {
    "collapsed": false
   },
   "outputs": [
    {
     "name": "stdout",
     "output_type": "stream",
     "text": [
      "{'f1_score': 0.7956676365987714, 'recall': 0.7996750609260763, 'confusion_matrix': Columns:\n",
      "\ttarget_label\tint\n",
      "\tpredicted_label\tint\n",
      "\tcount\tint\n",
      "\n",
      "Rows: 4\n",
      "\n",
      "Data:\n",
      "+--------------+-----------------+-------+\n",
      "| target_label | predicted_label | count |\n",
      "+--------------+-----------------+-------+\n",
      "|      -1      |        -1       |  9937 |\n",
      "|      -1      |        1        |  2590 |\n",
      "|      1       |        -1       |  2466 |\n",
      "|      1       |        1        |  9844 |\n",
      "+--------------+-----------------+-------+\n",
      "[4 rows x 3 columns]\n",
      ", 'precision': 0.7917001769342127, 'accuracy': 0.7964327414744131}\n"
     ]
    }
   ],
   "source": [
    "print results"
   ]
  },
  {
   "cell_type": "code",
   "execution_count": 18,
   "metadata": {
    "collapsed": true
   },
   "outputs": [],
   "source": [
    "def Store_Model( Model, File ) :\n",
    "    # Write the Model's performance to a File\n",
    "    f1_score = Model.evaluate(test)['f1_score'] * 100\n",
    "    File.write(str(f1_score) + '%' )\n",
    "    \n",
    "    coefficients = Model.get('coefficients')['value']\n",
    "    # Write the Model's coefficients to a File\n",
    "    for i in range( len(coefficients) ) :\n",
    "        # print i,coefficients[i]\n",
    "        File.write( ',' + str(coefficients[i]) )"
   ]
  },
  {
   "cell_type": "code",
   "execution_count": 19,
   "metadata": {
    "collapsed": false
   },
   "outputs": [],
   "source": [
    "with open('./MODEL/SVM_100.txt', 'w') as svm01 :\n",
    "    Store_Model( svm_model, svm01 )"
   ]
  },
  {
   "cell_type": "code",
   "execution_count": null,
   "metadata": {
    "collapsed": true
   },
   "outputs": [],
   "source": []
  }
 ],
 "metadata": {
  "kernelspec": {
   "display_name": "Python 2",
   "language": "python",
   "name": "python2"
  },
  "language_info": {
   "codemirror_mode": {
    "name": "ipython",
    "version": 2
   },
   "file_extension": ".py",
   "mimetype": "text/x-python",
   "name": "python",
   "nbconvert_exporter": "python",
   "pygments_lexer": "ipython2",
   "version": "2.7.11"
  }
 },
 "nbformat": 4,
 "nbformat_minor": 0
}
