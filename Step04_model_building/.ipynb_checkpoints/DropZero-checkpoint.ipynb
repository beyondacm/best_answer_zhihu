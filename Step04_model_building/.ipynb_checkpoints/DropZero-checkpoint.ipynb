{
 "cells": [
  {
   "cell_type": "code",
   "execution_count": 1,
   "metadata": {
    "collapsed": true
   },
   "outputs": [],
   "source": [
    "import pandas as pd\n",
    "import numpy as np"
   ]
  },
  {
   "cell_type": "code",
   "execution_count": 2,
   "metadata": {
    "collapsed": true
   },
   "outputs": [],
   "source": [
    "match_best = pd.read_csv('./SVM_DATA/match_best.csv')\n",
    "match_second = pd.read_csv('./SVM_DATA/match_second.csv')\n",
    "match_third = pd.read_csv('./SVM_DATA/match_third.csv')\n",
    "raw_data = pd.read_csv('./SVM_DATA/raw_data.csv')\n",
    "training_data = pd.read_csv('./SVM_DATA/Train_valid.csv')\n",
    "testing_data = pd.read_csv('./SVM_DATA/Test.csv')"
   ]
  },
  {
   "cell_type": "code",
   "execution_count": 3,
   "metadata": {
    "collapsed": true
   },
   "outputs": [],
   "source": [
    "similar01_best = pd.read_csv('./SVM_DATA/similar01_best.csv')\n",
    "similar01_second = pd.read_csv('./SVM_DATA/similar01_second.csv')\n",
    "similar01_third = pd.read_csv('./SVM_DATA/similar01_third.csv')"
   ]
  },
  {
   "cell_type": "code",
   "execution_count": 4,
   "metadata": {
    "collapsed": true
   },
   "outputs": [],
   "source": [
    "similar02_best = pd.read_csv('./SVM_DATA/similar02_best.csv')\n",
    "similar02_second = pd.read_csv('./SVM_DATA/similar02_second.csv')\n",
    "similar02_third = pd.read_csv('./SVM_DATA/similar02_third.csv')"
   ]
  },
  {
   "cell_type": "code",
   "execution_count": 5,
   "metadata": {
    "collapsed": true
   },
   "outputs": [],
   "source": [
    "non_match_best = pd.read_csv('./SVM_DATA/non_match_best.csv')\n",
    "non_match_second = pd.read_csv('./SVM_DATA/non_match_second.csv')\n",
    "non_match_third = pd.read_csv('./SVM_DATA/non_match_third.csv')"
   ]
  },
  {
   "cell_type": "code",
   "execution_count": 6,
   "metadata": {
    "collapsed": true
   },
   "outputs": [],
   "source": [
    "match_best.drop(match_best.columns[[1, 2, 3]], inplace=True, axis=1)\n",
    "match_second.drop(match_second.columns[[1, 2, 3]], inplace=True, axis=1)\n",
    "match_third.drop(match_third.columns[[1, 2, 3]], inplace=True, axis=1)\n",
    "raw_data.drop(raw_data.columns[[1, 2, 3]], inplace=True, axis=1)\n",
    "training_data.drop(training_data.columns[[1, 2, 3]], inplace=True, axis=1)\n",
    "testing_data.drop(testing_data.columns[[1, 2, 3]], inplace=True, axis=1)"
   ]
  },
  {
   "cell_type": "code",
   "execution_count": 7,
   "metadata": {
    "collapsed": true
   },
   "outputs": [],
   "source": [
    "similar01_best.drop(similar01_best.columns[[1, 2, 3]], inplace=True, axis=1)\n",
    "similar01_second.drop(similar01_second.columns[[1, 2, 3]], inplace=True, axis=1)\n",
    "similar01_third.drop(similar01_third.columns[[1, 2, 3]], inplace=True, axis = 1)"
   ]
  },
  {
   "cell_type": "code",
   "execution_count": 8,
   "metadata": {
    "collapsed": true
   },
   "outputs": [],
   "source": [
    "similar02_best.drop(similar02_best.columns[[1, 2, 3]], inplace=True, axis=1)\n",
    "similar02_second.drop(similar02_second.columns[[1, 2, 3]], inplace=True, axis=1)\n",
    "similar02_third.drop(similar02_third.columns[[1, 2, 3]], inplace=True, axis = 1)"
   ]
  },
  {
   "cell_type": "code",
   "execution_count": 9,
   "metadata": {
    "collapsed": true
   },
   "outputs": [],
   "source": [
    "non_match_best.drop(non_match_best.columns[[1, 2, 3]], inplace=True, axis=1)\n",
    "non_match_second.drop(non_match_second.columns[[1, 2, 3]], inplace=True, axis=1)\n",
    "non_match_third.drop(non_match_third.columns[[1, 2, 3]], inplace=True, axis=1)"
   ]
  },
  {
   "cell_type": "code",
   "execution_count": 10,
   "metadata": {
    "collapsed": true
   },
   "outputs": [],
   "source": [
    "match_best.to_csv('./MODEL_DATA/match_best.csv', encoding='utf-8', index = False, header=False)\n",
    "match_second.to_csv('./MODEL_DATA/match_second.csv', encoding='utf-8', index=False, header=False)\n",
    "match_third.to_csv('./MODEL_DATA/match_third.csv', encoding='utf-8', index=False, header=False)\n",
    "raw_data.to_csv('./MODEL_DATA/raw_data.csv', encoding='utf-8', index=False, header=False)\n",
    "training_data.to_csv('./MODEL_DATA/training_data.csv', encoding='utf-8', index=False, header=False)\n",
    "testing_data.to_csv('./MODEL_DATA/testing_data.csv', encoding='utf-8', index=False, header=False)"
   ]
  },
  {
   "cell_type": "code",
   "execution_count": 12,
   "metadata": {
    "collapsed": false
   },
   "outputs": [],
   "source": [
    "similar01_best.to_csv('./MODEL_DATA/similar01_best.csv', encoding='utf-8', index = False, header=False)\n",
    "similar01_second.to_csv('./MODEL_DATA/similar01_second.csv', encoding='utf-8', index = False, header=False)\n",
    "similar01_third.to_csv('./MODEL_DATA/similar01_third.csv', encoding='utf-8', index = False, header=False)"
   ]
  },
  {
   "cell_type": "code",
   "execution_count": 13,
   "metadata": {
    "collapsed": true
   },
   "outputs": [],
   "source": [
    "similar02_best.to_csv('./MODEL_DATA/similar02_best.csv', encoding='utf-8', index = False, header=False)\n",
    "similar02_second.to_csv('./MODEL_DATA/similar02_second.csv', encoding='utf-8', index = False, header=False)\n",
    "similar02_third.to_csv('./MODEL_DATA/similar02_third.csv', encoding='utf-8', index = False, header=False)"
   ]
  },
  {
   "cell_type": "code",
   "execution_count": 14,
   "metadata": {
    "collapsed": true
   },
   "outputs": [],
   "source": [
    "non_match_best.to_csv('./MODEL_DATA/non_match_best.csv', encoding='utf-8', index = False, header=False)\n",
    "non_match_second.to_csv('./MODEL_DATA/non_match_second.csv', encoding='utf-8', index=False, header=False)\n",
    "non_match_third.to_csv('./MODEL_DATA/non_match_third.csv', encoding='utf-8', index=False, header=False)"
   ]
  },
  {
   "cell_type": "code",
   "execution_count": null,
   "metadata": {
    "collapsed": true
   },
   "outputs": [],
   "source": []
  }
 ],
 "metadata": {
  "kernelspec": {
   "display_name": "Python 2",
   "language": "python",
   "name": "python2"
  },
  "language_info": {
   "codemirror_mode": {
    "name": "ipython",
    "version": 2
   },
   "file_extension": ".py",
   "mimetype": "text/x-python",
   "name": "python",
   "nbconvert_exporter": "python",
   "pygments_lexer": "ipython2",
   "version": "2.7.11"
  }
 },
 "nbformat": 4,
 "nbformat_minor": 0
}
