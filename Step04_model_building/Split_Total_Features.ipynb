{
 "cells": [
  {
   "cell_type": "code",
   "execution_count": 1,
   "metadata": {
    "collapsed": true
   },
   "outputs": [],
   "source": [
    "import pandas as pd"
   ]
  },
  {
   "cell_type": "code",
   "execution_count": 2,
   "metadata": {
    "collapsed": true
   },
   "outputs": [],
   "source": [
    "Total_Features = pd.read_csv('./Total_Features.csv')"
   ]
  },
  {
   "cell_type": "code",
   "execution_count": 38,
   "metadata": {
    "collapsed": false,
    "scrolled": true
   },
   "outputs": [],
   "source": [
    "# Total_Features # 98892 rows × 116 columns"
   ]
  },
  {
   "cell_type": "code",
   "execution_count": 3,
   "metadata": {
    "collapsed": true
   },
   "outputs": [],
   "source": [
    "Total_Features = Total_Features.fillna(0)"
   ]
  },
  {
   "cell_type": "code",
   "execution_count": 4,
   "metadata": {
    "collapsed": true
   },
   "outputs": [],
   "source": [
    "# len(test_len)  100\n",
    "STEP_SIZE = 8241\n",
    "START = 0 \n",
    "END = START + STEP_SIZE"
   ]
  },
  {
   "cell_type": "code",
   "execution_count": 5,
   "metadata": {
    "collapsed": false
   },
   "outputs": [],
   "source": [
    "match_best = Total_Features[START : END]\n",
    "match_best.to_csv('./SVM_DATA/match_best.csv', encoding='utf-8', index = False)"
   ]
  },
  {
   "cell_type": "code",
   "execution_count": 6,
   "metadata": {
    "collapsed": false,
    "scrolled": true
   },
   "outputs": [],
   "source": [
    "# match_best # 8241 rows × 116 columns"
   ]
  },
  {
   "cell_type": "code",
   "execution_count": 7,
   "metadata": {
    "collapsed": true
   },
   "outputs": [],
   "source": [
    "START = START + STEP_SIZE\n",
    "END = END + STEP_SIZE\n",
    "match_second = Total_Features[START : END]\n",
    "match_second.to_csv('./SVM_DATA/match_second.csv', encoding='utf-8', index = False)"
   ]
  },
  {
   "cell_type": "code",
   "execution_count": 8,
   "metadata": {
    "collapsed": false,
    "scrolled": true
   },
   "outputs": [],
   "source": [
    "# match_second # 8241 rows × 116 columns"
   ]
  },
  {
   "cell_type": "code",
   "execution_count": 9,
   "metadata": {
    "collapsed": true
   },
   "outputs": [],
   "source": [
    "START = START + STEP_SIZE\n",
    "END = END + STEP_SIZE\n",
    "match_third = Total_Features[START : END]\n",
    "match_third.to_csv('./SVM_DATA/match_third.csv', encoding='utf-8', index = False)"
   ]
  },
  {
   "cell_type": "code",
   "execution_count": 10,
   "metadata": {
    "collapsed": false,
    "scrolled": true
   },
   "outputs": [],
   "source": [
    "# match_third # 8241 rows × 116 columns"
   ]
  },
  {
   "cell_type": "code",
   "execution_count": 11,
   "metadata": {
    "collapsed": true
   },
   "outputs": [],
   "source": [
    "START = START + STEP_SIZE\n",
    "END = END + STEP_SIZE\n",
    "similar01_best = Total_Features[START : END]\n",
    "similar01_best.to_csv('./SVM_DATA/similar01_best.csv', encoding='utf-8', index = False)"
   ]
  },
  {
   "cell_type": "code",
   "execution_count": 12,
   "metadata": {
    "collapsed": false,
    "scrolled": true
   },
   "outputs": [],
   "source": [
    "# similar01_best # 8241 rows × 116 columns"
   ]
  },
  {
   "cell_type": "code",
   "execution_count": 13,
   "metadata": {
    "collapsed": true
   },
   "outputs": [],
   "source": [
    "START = START + STEP_SIZE\n",
    "END = END + STEP_SIZE\n",
    "similar01_second = Total_Features[START : END]\n",
    "similar01_second.to_csv('./SVM_DATA/similar01_second.csv', encoding='utf-8', index = False)"
   ]
  },
  {
   "cell_type": "code",
   "execution_count": 14,
   "metadata": {
    "collapsed": false,
    "scrolled": true
   },
   "outputs": [],
   "source": [
    "# similar01_second # 8241 rows × 116 columns"
   ]
  },
  {
   "cell_type": "code",
   "execution_count": 15,
   "metadata": {
    "collapsed": true
   },
   "outputs": [],
   "source": [
    "START = START + STEP_SIZE\n",
    "END = END + STEP_SIZE\n",
    "similar01_third = Total_Features[START : END]\n",
    "similar01_third.to_csv('./SVM_DATA/similar01_third.csv', encoding='utf-8', index = False)"
   ]
  },
  {
   "cell_type": "code",
   "execution_count": 16,
   "metadata": {
    "collapsed": false,
    "scrolled": true
   },
   "outputs": [],
   "source": [
    "# similar01_third # 8241 rows × 116 columns"
   ]
  },
  {
   "cell_type": "code",
   "execution_count": 17,
   "metadata": {
    "collapsed": true
   },
   "outputs": [],
   "source": [
    "START = START + STEP_SIZE\n",
    "END = END + STEP_SIZE\n",
    "similar02_best = Total_Features[START : END]\n",
    "similar02_best.to_csv('./SVM_DATA/similar02_best.csv', encoding='utf-8', index = False)"
   ]
  },
  {
   "cell_type": "code",
   "execution_count": 18,
   "metadata": {
    "collapsed": false,
    "scrolled": true
   },
   "outputs": [],
   "source": [
    "# similar02_best # 8241 rows × 116 columns"
   ]
  },
  {
   "cell_type": "code",
   "execution_count": 19,
   "metadata": {
    "collapsed": true
   },
   "outputs": [],
   "source": [
    "START = START + STEP_SIZE\n",
    "END = END + STEP_SIZE\n",
    "similar02_second = Total_Features[START : END]\n",
    "similar02_second.to_csv('./SVM_DATA/similar02_second.csv', encoding='utf-8', index = False)"
   ]
  },
  {
   "cell_type": "code",
   "execution_count": 20,
   "metadata": {
    "collapsed": false,
    "scrolled": true
   },
   "outputs": [],
   "source": [
    "# similar02_second # 8241 rows × 116 columns"
   ]
  },
  {
   "cell_type": "code",
   "execution_count": 21,
   "metadata": {
    "collapsed": true
   },
   "outputs": [],
   "source": [
    "START = START + STEP_SIZE\n",
    "END = END + STEP_SIZE\n",
    "similar02_third = Total_Features[START : END]\n",
    "similar02_third.to_csv('./SVM_DATA/similar02_third.csv', encoding='utf-8', index = False)"
   ]
  },
  {
   "cell_type": "code",
   "execution_count": 22,
   "metadata": {
    "collapsed": false,
    "scrolled": true
   },
   "outputs": [],
   "source": [
    "# similar02_third #  8241 rows × 116 columns"
   ]
  },
  {
   "cell_type": "code",
   "execution_count": 23,
   "metadata": {
    "collapsed": true
   },
   "outputs": [],
   "source": [
    "START = START + STEP_SIZE\n",
    "END = END + STEP_SIZE\n",
    "non_match_best = Total_Features[START : END]\n",
    "non_match_best.to_csv('./SVM_DATA/non_match_best.csv', encoding='utf-8', index = False)"
   ]
  },
  {
   "cell_type": "code",
   "execution_count": 24,
   "metadata": {
    "collapsed": false,
    "scrolled": true
   },
   "outputs": [],
   "source": [
    "# non_match_best # 8241 rows × 116 columns"
   ]
  },
  {
   "cell_type": "code",
   "execution_count": 25,
   "metadata": {
    "collapsed": true
   },
   "outputs": [],
   "source": [
    "START = START + STEP_SIZE\n",
    "END = END + STEP_SIZE\n",
    "non_match_second = Total_Features[START : END]\n",
    "non_match_second.to_csv('./SVM_DATA/non_match_second.csv', encoding='utf-8', index = False)"
   ]
  },
  {
   "cell_type": "code",
   "execution_count": 26,
   "metadata": {
    "collapsed": false,
    "scrolled": true
   },
   "outputs": [],
   "source": [
    "# non_match_second # 8241 rows × 116 columns"
   ]
  },
  {
   "cell_type": "code",
   "execution_count": 27,
   "metadata": {
    "collapsed": true
   },
   "outputs": [],
   "source": [
    "START = START + STEP_SIZE\n",
    "END = END + STEP_SIZE\n",
    "non_match_third = Total_Features[START : END]\n",
    "non_match_third.to_csv('./SVM_DATA/non_match_third.csv', encoding='utf-8', index = False)"
   ]
  },
  {
   "cell_type": "code",
   "execution_count": 28,
   "metadata": {
    "collapsed": false,
    "scrolled": true
   },
   "outputs": [],
   "source": [
    "# non_match_third # 8241 rows × 116 columns"
   ]
  }
 ],
 "metadata": {
  "kernelspec": {
   "display_name": "Python 2",
   "language": "python",
   "name": "python2"
  },
  "language_info": {
   "codemirror_mode": {
    "name": "ipython",
    "version": 2
   },
   "file_extension": ".py",
   "mimetype": "text/x-python",
   "name": "python",
   "nbconvert_exporter": "python",
   "pygments_lexer": "ipython2",
   "version": "2.7.11"
  }
 },
 "nbformat": 4,
 "nbformat_minor": 0
}
